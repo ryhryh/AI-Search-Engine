{
 "cells": [
  {
   "cell_type": "raw",
   "metadata": {},
   "source": [
    "gcloud config list => zone = us-central1-a\n",
    "所以在server上傳的時間不是台灣的時間\n",
    "\n",
    "臺灣的時間比美國哥倫比亞特區華盛頓快 12 小時\n",
    "例如 台灣4/5 16:00在server上傳 \n",
    "會以為是在美國4/5 16:00上傳 \n",
    "所以在GDS顯示台灣16+12=28 => 4/6 4:00上傳"
   ]
  },
  {
   "cell_type": "markdown",
   "metadata": {},
   "source": [
    "# main.py"
   ]
  },
  {
   "cell_type": "code",
   "execution_count": null,
   "metadata": {},
   "outputs": [],
   "source": [
    "import os\n",
    "from flask import Flask, request, jsonify\n",
    "\n",
    "from utils import manager\n",
    "managerUtil = manager.ManagerUtil(bucket_name='easy666', blob_dirname='Qa')\n",
    "\n",
    "app = Flask(__name__)\n",
    "app.config['JSON_AS_ASCII'] = False\n",
    "app.config['JSONIFY_MIMETYPE'] =\"application/json;charset=utf-8\"\n",
    "\n",
    "@app.route('/')\n",
    "def index():\n",
    "    return 'hihi'\n",
    "\n",
    "@app.route('/search', methods=['GET', 'POST'])            \n",
    "def search():\n",
    "    content = request.json\n",
    "    result = managerUtil.search(content)\n",
    "    j = jsonify(result)\n",
    "    return j\n",
    "\n",
    "if __name__ == '__main__':\n",
    "    #     app.run(host='127.0.0.1', port=8080, debug=True)    \n",
    "    app.run(host=\"0.0.0.0\", port=8787, debug=True)\n",
    "    "
   ]
  },
  {
   "cell_type": "markdown",
   "metadata": {},
   "source": [
    "## request"
   ]
  },
  {
   "cell_type": "code",
   "execution_count": null,
   "metadata": {},
   "outputs": [],
   "source": [
    "{\n",
    "    \"user_id\": \"abc\", \n",
    "    \"image_base64_str\": \"image_base64_str\", \n",
    "    \"platform\": \"line\" \n",
    "}"
   ]
  },
  {
   "cell_type": "code",
   "execution_count": null,
   "metadata": {},
   "outputs": [],
   "source": []
  },
  {
   "cell_type": "markdown",
   "metadata": {},
   "source": [
    "## api"
   ]
  },
  {
   "cell_type": "raw",
   "metadata": {},
   "source": [
    "http://35.223.149.107:8787/\n",
    "\n",
    "http://35.223.149.107:8787/search"
   ]
  },
  {
   "cell_type": "markdown",
   "metadata": {},
   "source": [
    "# utils"
   ]
  },
  {
   "cell_type": "markdown",
   "metadata": {},
   "source": [
    "## manager.py"
   ]
  },
  {
   "cell_type": "code",
   "execution_count": 10,
   "metadata": {
    "ExecuteTime": {
     "end_time": "2021-04-07T09:53:42.168223Z",
     "start_time": "2021-04-07T09:53:32.954598Z"
    }
   },
   "outputs": [],
   "source": [
    "import os\n",
    "import pickle\n",
    "import uuid\n",
    "import base64\n",
    "import threading\n",
    "from datetime import datetime\n",
    "\n",
    "from annoy import AnnoyIndex\n",
    "import tensorflow as tf\n",
    "import tensorflow_text\n",
    "import tensorflow_hub as hub\n",
    "from google.cloud import storage, datastore, vision\n",
    "\n",
    "class ManagerUtil:\n",
    "    def __init__(self, \n",
    "                 bucket_name='easy666', \n",
    "                 blob_dirname='Qa', \n",
    "                 index_name='index.ann', \n",
    "                 mapping_name='mapping.pickle', \n",
    "                 temp_dir='/tmp', \n",
    "                 kind='Qa', \n",
    "                 language_list=['zh-Hant', 'en']):\n",
    "        \n",
    "        self.index_name = index_name\n",
    "        self.mapping_name = mapping_name\n",
    "        self.bucket_name = bucket_name\n",
    "        self.blob_dirname = blob_dirname\n",
    "        self.temp_dir = temp_dir\n",
    "        self.kind = kind\n",
    "        self.language_list = language_list\n",
    "        \n",
    "        self.storage_client = storage.Client()\n",
    "        self.vision_client = vision.ImageAnnotatorClient()\n",
    "        self.datastore_client = datastore.Client()\n",
    "        \n",
    "        self.setup_GCS()\n",
    "        self.setup_classifier()\n",
    "        self.setup_encoder()\n",
    "        \n",
    "    def search(self, content):\n",
    "        image_base64_str = content['image_base64_str']\n",
    "        base2_bytes = base64.b64decode(image_base64_str)\n",
    "        text = self.detect_text(base2_bytes)\n",
    "        query_vec = self.extract_embeddings(text)\n",
    "        names = self.find_similar_items(query_vec, num_matches=3)\n",
    "        question_list = self.get_items(names=names)\n",
    "\n",
    "        image_id = str(uuid.uuid4().hex)\n",
    "        content['image_ID'] = image_id\n",
    "        content['is_public'] = True\n",
    "        content['base2_bytes'] = base2_bytes\n",
    "        content['question_id_list'] = names #!\n",
    "        content['image_text'] = text\n",
    "        \n",
    "        self.do_async(target=self.upload_to_GCS_search_image_file, content=content)\n",
    "        self.do_async(target=self.save_to_GDS_SearchHistory, content=content)\n",
    "        \n",
    "        result = {}\n",
    "        result['image_url'] = 'https://storage.googleapis.com/%s/search_image_file/%s'%(self.bucket_name, image_id)\n",
    "        result['question_list'] = question_list\n",
    "        output_result = self.get_output_result(result)\n",
    "        return output_result\n",
    "    \n",
    "    def get_output_result(self, result):\n",
    "        question_list_ = []\n",
    "        for q in result['question_list']:\n",
    "            output_q = {}\n",
    "            output_q['fb_url'] = q['fb_url']\n",
    "            output_q['question_url'] = 'https://storage.googleapis.com/%s/image_file/%s'%(self.bucket_name, q['question_id'])\n",
    "            output_q['answer_url'] = 'https://storage.googleapis.com/%s/image_file/%s'%(self.bucket_name, q['answer_id'])\n",
    "            question_list_.append(output_q)\n",
    "        result['question_list'] = question_list_\n",
    "        return result\n",
    "    \n",
    "    def upload_to_GCS_search_image_file(self, content={}):\n",
    "        image_ID = content['image_ID']\n",
    "        is_public = content['is_public']\n",
    "        base2_bytes = content['base2_bytes']\n",
    "        \n",
    "        blob_name = os.path.join('search_image_file', image_ID)\n",
    "        blob = self.bucket.blob(blob_name)\n",
    "        blob.upload_from_string(base2_bytes, content_type='image/png')\n",
    "        if is_public: \n",
    "            blob.make_public()  \n",
    "        return image_ID \n",
    "    \n",
    "    def save_to_GDS_SearchHistory(self, content={}):\n",
    "        image_ID = content['image_ID']\n",
    "        \n",
    "        kind='SearchHistory'\n",
    "        name = image_ID\n",
    "        complete_key = self.datastore_client.key(kind, name)\n",
    "        task = datastore.Entity(key=complete_key)\n",
    "        task['image_ID'] = image_ID\n",
    "        task['created_time'] = datetime.now()\n",
    "        task['user_id'] = content['user_id']\n",
    "        task['platform'] = content['platform']\n",
    "        task['image_text'] = content['image_text']\n",
    "        task['question_id_list'] = content['question_id_list']\n",
    "        self.datastore_client.put(task)\n",
    "        \n",
    "    def do_async(self, target=None, content={}):\n",
    "        kwargs = {'content': content}\n",
    "        threads = threading.Thread(target=target, kwargs=kwargs)\n",
    "        threads.start()\n",
    "        \n",
    "    def detect_text(self, image_bytes):    \n",
    "        image = vision.Image(content=image_bytes)\n",
    "        image_context={\"language_hints\": self.language_list}\n",
    "        r = self.vision_client.text_detection(\n",
    "            image=image, \n",
    "            image_context=image_context, #!\n",
    "        )\n",
    "        text_annotations = r.text_annotations\n",
    "        description = text_annotations[0].description if len(text_annotations) != 0 else 'xxx' #!\n",
    "        return description\n",
    "    \n",
    "    def get_items(self, names=[]):\n",
    "        keys = [self.datastore_client.key(self.kind, name) for name in names]\n",
    "        items = self.datastore_client.get_multi(keys)\n",
    "        \n",
    "        name2entity = {item.key.name:item for item in items}\n",
    "        sort_items = [name2entity[name] for name in names]\n",
    "        return sort_items\n",
    "        \n",
    "    def setup_encoder(self):\n",
    "        MODEL_URL = 'https://tfhub.dev/google/universal-sentence-encoder-multilingual/3'\n",
    "        self.encoder = hub.load(MODEL_URL)\n",
    "        \n",
    "    def extract_embeddings(self, text):\n",
    "        docs = [text]\n",
    "        vecs = self.encoder(docs)   \n",
    "        vec = vecs[0]\n",
    "        return vec\n",
    "        \n",
    "    def setup_classifier(self, vector_length=512):\n",
    "        index_path = os.path.join(self.temp_dir, self.index_name)\n",
    "        mapping_path = os.path.join(self.temp_dir, self.mapping_name)\n",
    "        \n",
    "        self.index = AnnoyIndex(vector_length)\n",
    "        self.index.load(index_path, prefault=True)\n",
    "        \n",
    "        with open(mapping_path, 'rb') as handle:\n",
    "            self.mapping = pickle.load(handle)\n",
    "            \n",
    "    def find_similar_items(self, vector, num_matches=3):\n",
    "        annoy_ids = self.index.get_nns_by_vector(vector, num_matches, search_k=-1, include_distances=False)\n",
    "        datastore_names = [self.mapping[annoy_id] for annoy_id in annoy_ids]\n",
    "        return datastore_names\n",
    "        \n",
    "    def setup_GCS(self):\n",
    "        self.bucket = self.storage_client.bucket(self.bucket_name)\n",
    "        self.download_file_from_GCS('%s/index/%s'%(self.blob_dirname, self.index_name)) # 'Qa/index/index.ann'\n",
    "        self.download_file_from_GCS('%s/index/%s'%(self.blob_dirname, self.mapping_name)) # 'Qa/index/mapping.pickle'\n",
    "        \n",
    "    def download_file_from_GCS(self, blob_name='Qa/index/index.ann'):\n",
    "        blob = self.bucket.blob(blob_name)\n",
    "        local_path = os.path.join(self.temp_dir, os.path.basename(blob_name)) # '/tmp/index.ann'\n",
    "        blob.download_to_filename(local_path)\n",
    "    "
   ]
  },
  {
   "cell_type": "code",
   "execution_count": null,
   "metadata": {
    "ExecuteTime": {
     "end_time": "2021-04-07T07:49:46.507215Z",
     "start_time": "2021-04-07T07:49:46.501927Z"
    }
   },
   "outputs": [],
   "source": []
  },
  {
   "cell_type": "markdown",
   "metadata": {},
   "source": [
    "### base64"
   ]
  },
  {
   "cell_type": "code",
   "execution_count": 21,
   "metadata": {
    "ExecuteTime": {
     "end_time": "2021-04-07T10:02:53.778708Z",
     "start_time": "2021-04-07T10:02:53.774001Z"
    }
   },
   "outputs": [],
   "source": [
    "img_path = './image_file_ab1b45eb1ff84c37af0ad3028fff91ff.png'"
   ]
  },
  {
   "cell_type": "code",
   "execution_count": 22,
   "metadata": {
    "ExecuteTime": {
     "end_time": "2021-04-07T10:02:53.787818Z",
     "start_time": "2021-04-07T10:02:53.782524Z"
    }
   },
   "outputs": [],
   "source": [
    "with open(img_path, \"rb\") as f:\n",
    "    b2_bytes = f.read()\n",
    "    b64_bytes = base64.b64encode(b2_bytes)\n",
    "    \n",
    "b64_str = b64_bytes.decode('utf-8')"
   ]
  },
  {
   "cell_type": "code",
   "execution_count": 1,
   "metadata": {
    "ExecuteTime": {
     "end_time": "2021-04-10T08:19:55.387710Z",
     "start_time": "2021-04-10T08:19:55.374572Z"
    }
   },
   "outputs": [],
   "source": [
    "# type(b64_str)\n",
    "# b64_str"
   ]
  },
  {
   "cell_type": "markdown",
   "metadata": {},
   "source": [
    "### async"
   ]
  },
  {
   "cell_type": "code",
   "execution_count": 25,
   "metadata": {
    "ExecuteTime": {
     "end_time": "2021-04-07T10:15:36.730559Z",
     "start_time": "2021-04-07T10:15:36.722717Z"
    }
   },
   "outputs": [
    {
     "name": "stdout",
     "output_type": "stream",
     "text": [
      "shit\n",
      "3\n",
      "fuck\n"
     ]
    }
   ],
   "source": [
    "import threading\n",
    "import time\n",
    "\n",
    "def something_long_time(sec=10, x=2):\n",
    "    time.sleep(sec)\n",
    "    print(x)\n",
    "    print('fuck')\n",
    "    \n",
    "sec = 5\n",
    "target = something_long_time\n",
    "kwargs={'sec': sec, 'x': 3}\n",
    "threads = threading.Thread(target=target, kwargs=kwargs)\n",
    "threads.start()\n",
    "\n",
    "print('shit')"
   ]
  },
  {
   "cell_type": "code",
   "execution_count": 26,
   "metadata": {
    "ExecuteTime": {
     "end_time": "2021-04-07T10:17:26.602403Z",
     "start_time": "2021-04-07T10:17:26.592593Z"
    }
   },
   "outputs": [
    {
     "name": "stdout",
     "output_type": "stream",
     "text": [
      "shit\n",
      "3\n",
      "fuck\n"
     ]
    }
   ],
   "source": [
    "import threading\n",
    "import time\n",
    "\n",
    "def something_long_time(content):\n",
    "    sec = content['sec']\n",
    "    x = content['x']\n",
    "    time.sleep(sec)\n",
    "    print(x)\n",
    "    print('fuck')\n",
    "        \n",
    "def do_async(target=None, content={}):\n",
    "    kwargs = {'content': content}\n",
    "    threads = threading.Thread(target=target, kwargs=kwargs)\n",
    "    threads.start()\n",
    "    \n",
    "content = {'sec': 5, 'x': 3}\n",
    "do_async(target=something_long_time, content=content)\n",
    "\n",
    "print('shit')"
   ]
  }
 ],
 "metadata": {
  "kernelspec": {
   "display_name": "Python 3",
   "language": "python",
   "name": "python3"
  },
  "language_info": {
   "codemirror_mode": {
    "name": "ipython",
    "version": 3
   },
   "file_extension": ".py",
   "mimetype": "text/x-python",
   "name": "python",
   "nbconvert_exporter": "python",
   "pygments_lexer": "ipython3",
   "version": "3.7.6"
  },
  "toc": {
   "base_numbering": 1,
   "nav_menu": {},
   "number_sections": true,
   "sideBar": true,
   "skip_h1_title": false,
   "title_cell": "Table of Contents",
   "title_sidebar": "Contents",
   "toc_cell": false,
   "toc_position": {
    "height": "calc(100% - 180px)",
    "left": "10px",
    "top": "150px",
    "width": "166px"
   },
   "toc_section_display": true,
   "toc_window_display": true
  }
 },
 "nbformat": 4,
 "nbformat_minor": 4
}
