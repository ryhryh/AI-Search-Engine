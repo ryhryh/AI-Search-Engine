{
 "cells": [
  {
   "cell_type": "markdown",
   "metadata": {},
   "source": [
    "\n",
    "    \n",
    "- 前置作業: \n",
    "    - https://ithelp.ithome.com.tw/articles/10229943\n",
    "    - https://developers.line.biz/en/docs/messaging-api/overview/#next-steps\n",
    "  \n",
    "- line-gituhb\n",
    "    - linebot sdk: https://github.com/line/line-bot-sdk-python\n",
    "    - flask-kitchensink: https://github.com/line/line-bot-sdk-python/blob/5ab6ba225495248c52eb3aa728da427bedffb37d/examples/flask-kitchensink/app.py\n",
    "    - message content: https://github.com/line/line-bot-sdk-python/blob/5ab6ba225495248c52eb3aa728da427bedffb37d/linebot/models/responses.py\n",
    "    - reply_message: https://github.com/line/line-bot-sdk-python/blob/5ab6ba225495248c52eb3aa728da427bedffb37d/linebot/api.py\n",
    "\n",
    "- python decorator: https://foofish.net/python-decorator.html\n",
    "\n",
    "- 拿使用者傳來的照片: https://ithelp.ithome.com.tw/articles/10244895\n",
    "\n",
    "- 開發LINE聊天機器人不可不知的十件事: https://engineering.linecorp.com/zh-hant/blog/line-device-10/"
   ]
  },
  {
   "cell_type": "markdown",
   "metadata": {},
   "source": [
    "# deploy.sh"
   ]
  },
  {
   "cell_type": "code",
   "execution_count": null,
   "metadata": {},
   "outputs": [],
   "source": [
    "gcloud app deploy app.yaml \\\n",
    "--project=\"praxis-electron-301404\" \\\n",
    "--verbosity=\"info\""
   ]
  },
  {
   "cell_type": "markdown",
   "metadata": {},
   "source": [
    "# app.yaml"
   ]
  },
  {
   "cell_type": "code",
   "execution_count": null,
   "metadata": {},
   "outputs": [],
   "source": [
    "service: line-bot\n",
    "\n",
    "instance_class: F1\n",
    "    \n",
    "runtime: python38\n",
    "\n",
    "entrypoint: gunicorn --bind :$PORT main:app\n",
    "\n",
    "automatic_scaling:\n",
    "    min_instances: 0\n",
    "    max_instances: 5"
   ]
  },
  {
   "cell_type": "markdown",
   "metadata": {},
   "source": [
    "# requirements.txt"
   ]
  },
  {
   "cell_type": "code",
   "execution_count": null,
   "metadata": {},
   "outputs": [],
   "source": [
    "pip==20.2.4\n",
    "Flask==1.1.2\n",
    "gunicorn==19.9.0\n",
    "line-bot-sdk==1.18.0\n",
    "google-cloud-datastore==2.0.1\n",
    "pandas==1.2.0"
   ]
  },
  {
   "cell_type": "code",
   "execution_count": null,
   "metadata": {
    "ExecuteTime": {
     "end_time": "2021-02-03T09:15:01.535009Z",
     "start_time": "2021-02-03T09:14:56.472918Z"
    }
   },
   "outputs": [],
   "source": [
    "!pip show pandas"
   ]
  },
  {
   "cell_type": "markdown",
   "metadata": {},
   "source": [
    "# main.py"
   ]
  },
  {
   "cell_type": "code",
   "execution_count": null,
   "metadata": {},
   "outputs": [],
   "source": [
    "from flask import Flask, request, abort, jsonify\n",
    "from utils import manager\n",
    "\n",
    "from linebot.exceptions import (\n",
    "    LineBotApiError, InvalidSignatureError\n",
    ")\n",
    "\n",
    "from linebot.models import (\n",
    "    MessageEvent, TextMessage, StickerMessage, LocationMessage, ImageMessage, VideoMessage, AudioMessage, FileMessage\n",
    ")\n",
    "\n",
    "app = Flask(__name__)\n",
    "\n",
    "#####################################################################\n",
    "managerUtil = manager.ManagerUtil()\n",
    "managerUtil.setup_line_bot()\n",
    "handler = managerUtil.handler\n",
    "#####################################################################\n",
    "\n",
    "@app.route('/')\n",
    "def index():\n",
    "    return \"hihi\"\n",
    "\n",
    "@app.route(\"/callback\", methods=['POST'])\n",
    "def callback():\n",
    "    # get X-Line-Signature header value\n",
    "    signature = request.headers['X-Line-Signature']\n",
    "\n",
    "    # get request body as text\n",
    "    body = request.get_data(as_text=True)\n",
    "    app.logger.info(\"Request body: \" + body)\n",
    "\n",
    "    # handle webhook body\n",
    "    try:\n",
    "        handler.handle(body, signature)\n",
    "    except LineBotApiError as e:\n",
    "        print(\"Got exception from LINE Messaging API: %s\\n\" % e.message)\n",
    "        for m in e.error.details:\n",
    "            print(\"  %s: %s\" % (m.property, m.message))\n",
    "        print(\"\\n\")\n",
    "    except InvalidSignatureError:\n",
    "        abort(400)\n",
    "\n",
    "    return 'OK'\n",
    "\n",
    "@handler.add(MessageEvent, message=(TextMessage, StickerMessage, LocationMessage, ImageMessage, VideoMessage, AudioMessage, FileMessage))\n",
    "def handle_message(event):\n",
    "    managerUtil.setup_event(event)\n",
    "    managerUtil.handle_message()\n",
    "    \n",
    "if __name__ == \"__main__\":\n",
    "    app.run(host='127.0.0.1', port=8080, debug=True)    \n",
    "#     app.run(host=\"0.0.0.0\", port=8787, debug=True)\n"
   ]
  },
  {
   "cell_type": "markdown",
   "metadata": {},
   "source": [
    "# utils"
   ]
  },
  {
   "cell_type": "markdown",
   "metadata": {},
   "source": [
    "## member.py"
   ]
  },
  {
   "cell_type": "code",
   "execution_count": null,
   "metadata": {},
   "outputs": [],
   "source": [
    "kind = LineUser\n",
    "name = userID\n",
    "\n",
    "userID = line_user_id\n",
    "createTime = now\n",
    "\n",
    "# 開通之後要更新\n",
    "ticket_level = A\n",
    "search_quota = 20\n",
    "ticketID = None\n",
    "ticket_start_time = now\n",
    "ticket_end_time = now + 30days\n",
    "\n"
   ]
  },
  {
   "cell_type": "code",
   "execution_count": 6,
   "metadata": {
    "ExecuteTime": {
     "end_time": "2021-02-17T09:22:08.833151Z",
     "start_time": "2021-02-17T09:22:08.816082Z"
    }
   },
   "outputs": [],
   "source": [
    "import pytz\n",
    "import pandas as pd\n",
    "from datetime import datetime, timedelta, timezone\n",
    "from google.cloud import datastore\n",
    "\n",
    "class MemberUtil:\n",
    "    def __init__(self, default_search_quota=50, default_days=60):\n",
    "        self.default_search_quota = default_search_quota\n",
    "        self.default_days = default_days\n",
    "        self.datastore_client = datastore.Client()\n",
    "        self.setup_rate_limit_table()\n",
    "        \n",
    "    def setup_user(self, studentID):\n",
    "        name = studentID\n",
    "        kind = 'LineUser'\n",
    "        key = self.datastore_client.key(kind, name)\n",
    "        user_entity = self.datastore_client.get(key)\n",
    "        if user_entity == None:\n",
    "            user_entity = self.create_user(studentID)\n",
    "        self.user_entity = user_entity\n",
    "                \n",
    "    def create_user(self, studentID):\n",
    "        hours = self.default_days*24\n",
    "        current_time = self.get_current_time()\n",
    "        rate_limit_table = self.rate_limit_table\n",
    "        \n",
    "        name = studentID\n",
    "        kind = 'LineUser'\n",
    "        key = self.datastore_client.key(kind, name)\n",
    "        entity = datastore.Entity(key=key)\n",
    "        \n",
    "        entity['userID'] = studentID\n",
    "        entity['createTime'] = current_time\n",
    "        \n",
    "        entity['ticketID'] = None\n",
    "        entity['ticket_level'] = None\n",
    "        entity['ticket_search_quota'] = self.default_search_quota\n",
    "        entity['ticket_start_time'] = current_time\n",
    "        entity['ticket_end_time'] = current_time + timedelta(hours=hours)\n",
    "        \n",
    "        entity['is_normal'] = 1\n",
    "        for i in range(len(rate_limit_table)):\n",
    "            end_time_name = rate_limit_table.loc[i, 'name'] + '_end_time'\n",
    "            minute = int(rate_limit_table.loc[i, 'minute'])\n",
    "            end_time = current_time + timedelta(minutes=minute) \n",
    "            \n",
    "            search_quota_name = rate_limit_table.loc[i, 'name'] + '_search_quota'\n",
    "            search_quota = int(rate_limit_table.loc[i, 'quota'])\n",
    "            \n",
    "            entity[end_time_name] = end_time\n",
    "            entity[search_quota_name] = search_quota\n",
    "\n",
    "        self.datastore_client.put(entity)\n",
    "        return entity\n",
    "    \n",
    "    def get_current_time(self):\n",
    "        current_time = datetime.now().replace(tzinfo=timezone.utc)\n",
    "        return current_time\n",
    "    \n",
    "    def get_user_type(self):\n",
    "        current_time = self.get_current_time()\n",
    "        \n",
    "        ticket_end_time = self.user_entity['ticket_end_time']\n",
    "        ticket_search_quota = self.user_entity['ticket_search_quota']\n",
    "        is_normal = self.user_entity['is_normal']\n",
    "        \n",
    "        if is_normal:\n",
    "            if ticket_search_quota == 0 or current_time > ticket_end_time:\n",
    "                user_type = 'pay'\n",
    "            else:\n",
    "                user_type = 'normal'\n",
    "        else:\n",
    "            user_type = 'abnormal'\n",
    "        return user_type\n",
    "    \n",
    "    def update_GDS_LineUser(self):\n",
    "        self.update_GDS_LineUser_search_quota()\n",
    "        self.update_GDS_LineUser_rate_limit_end_time()\n",
    "        self.datastore_client.put(self.user_entity)\n",
    "    \n",
    "    def update_GDS_LineUser_search_quota(self):\n",
    "        rate_limit_table = self.rate_limit_table\n",
    "        self.user_entity['ticket_search_quota'] -= 1\n",
    "        for i in range(len(rate_limit_table)):\n",
    "            search_quota_name = rate_limit_table.loc[i, 'name'] + '_search_quota'\n",
    "            self.user_entity[search_quota_name] -= 1\n",
    "            \n",
    "            # prevent many request\n",
    "            if self.user_entity[search_quota_name] == 0:\n",
    "                self.user_entity['is_normal'] = 0\n",
    "                \n",
    "            \n",
    "    def update_GDS_LineUser_rate_limit_end_time(self):\n",
    "        rate_limit_table = self.rate_limit_table\n",
    "        current_time = self.get_current_time()        \n",
    "        for i in range(len(rate_limit_table)):\n",
    "            name = rate_limit_table.loc[i, 'name']\n",
    "            minute = int(rate_limit_table.loc[i, 'minute'])\n",
    "            search_quota = int(rate_limit_table.loc[i, 'quota'])\n",
    "            \n",
    "            end_time_name = name + '_end_time'\n",
    "            search_quota_name = name + '_search_quota'\n",
    "            \n",
    "            end_time = self.user_entity[end_time_name]\n",
    "            if current_time > end_time:\n",
    "                end_time = current_time + timedelta(minutes=minute) \n",
    "                self.user_entity[end_time_name] = end_time\n",
    "                self.user_entity[search_quota_name] = search_quota\n",
    "                        \n",
    "    def setup_rate_limit_table(self):\n",
    "        rate_limit_table = pd.DataFrame()\n",
    "        rate_limit_table['name'] = ['minute1', 'minute5']\n",
    "        rate_limit_table['minute'] = [1, 5]\n",
    "        rate_limit_table['quota'] = [5, 10]\n",
    "        self.rate_limit_table = rate_limit_table\n",
    "        "
   ]
  },
  {
   "cell_type": "code",
   "execution_count": 7,
   "metadata": {
    "ExecuteTime": {
     "end_time": "2021-02-17T09:22:08.850834Z",
     "start_time": "2021-02-17T09:22:08.836245Z"
    }
   },
   "outputs": [],
   "source": [
    "memberUtil = MemberUtil()\n"
   ]
  },
  {
   "cell_type": "code",
   "execution_count": 11,
   "metadata": {
    "ExecuteTime": {
     "end_time": "2021-02-17T09:22:48.008880Z",
     "start_time": "2021-02-17T09:22:47.834406Z"
    }
   },
   "outputs": [],
   "source": [
    "studentID = 'U9ee09c740c77152094d16a2c2b5260a6'\n",
    "# memberUtil.create_user(studentID)\n",
    "memberUtil.setup_user(studentID)\n"
   ]
  },
  {
   "cell_type": "code",
   "execution_count": 12,
   "metadata": {
    "ExecuteTime": {
     "end_time": "2021-02-17T09:22:57.947421Z",
     "start_time": "2021-02-17T09:22:57.865164Z"
    }
   },
   "outputs": [],
   "source": [
    "memberUtil.update_GDS_LineUser()"
   ]
  },
  {
   "cell_type": "code",
   "execution_count": null,
   "metadata": {},
   "outputs": [],
   "source": []
  },
  {
   "cell_type": "code",
   "execution_count": null,
   "metadata": {},
   "outputs": [],
   "source": []
  },
  {
   "cell_type": "code",
   "execution_count": null,
   "metadata": {},
   "outputs": [],
   "source": []
  },
  {
   "cell_type": "markdown",
   "metadata": {},
   "source": [
    "## ticket.py"
   ]
  },
  {
   "cell_type": "code",
   "execution_count": null,
   "metadata": {
    "ExecuteTime": {
     "end_time": "2021-02-17T06:46:13.461600Z",
     "start_time": "2021-02-17T06:46:13.446638Z"
    }
   },
   "outputs": [],
   "source": [
    "from google.cloud import datastore\n",
    "import pandas as pd\n",
    "from datetime import datetime, timedelta, timezone\n",
    "import pytz\n",
    "\n",
    "class TicketUtil:\n",
    "    def __init__(self):\n",
    "        self.datastore_client = datastore.Client()\n",
    "        \n",
    "    def get_ticket(self, ticketID):\n",
    "        key = self.datastore_client.key('Ticket', ticketID)\n",
    "        ticket = self.datastore_client.get(key)\n",
    "        return ticket\n",
    "    \n",
    "    def ticket_is_used(self, ticket):\n",
    "        userID = ticket['userID']\n",
    "        is_used = (userID!=None)\n",
    "        return is_used\n",
    "    \n",
    "    def get_current_time(self):\n",
    "        current_time = datetime.now().replace(tzinfo=timezone.utc)\n",
    "        return current_time\n",
    "    \n",
    "    def get_activate_info(self, studentID, ticket):\n",
    "        ticket_level = ticket['ticket_level']\n",
    "        \n",
    "        ticket_level_table = self.get_ticket_level_table()\n",
    "        c = (ticket_level_table.ticket_level ==ticket_level)\n",
    "        ticket_level_table = ticket_level_table[c]\n",
    "        \n",
    "        days = ticket_level_table.days.values[0]\n",
    "        hours = int(days * 24)\n",
    "        ticket_search_quota = int(ticket_level_table.ticket_search_quota.values[0]) #! 要累加上一期的嗎\n",
    "        \n",
    "        ticketID = ticket['ticketID']\n",
    "        ticket_start_time = self.get_current_time()\n",
    "        ticket_end_time = ticket_start_time + timedelta(hours=hours)\n",
    "        \n",
    "        activate_info = {}\n",
    "        activate_info['userID'] = studentID\n",
    "        activate_info['ticket_level'] = ticket_level\n",
    "        activate_info['ticket_search_quota'] = ticket_search_quota\n",
    "        activate_info['ticketID'] = ticketID\n",
    "        activate_info['ticket_start_time'] = ticket_start_time\n",
    "        activate_info['ticket_end_time'] = ticket_end_time\n",
    "        return activate_info\n",
    "\n",
    "    def update_GDS_Ticket(self, activate_info):\n",
    "        ticketID = activate_info['ticketID']\n",
    "        key = self.datastore_client.key('Ticket', ticketID)\n",
    "        entity = self.datastore_client.get(key)\n",
    "        entity['userID'] = activate_info['userID']\n",
    "        entity['ticket_start_time'] = activate_info['ticket_start_time']\n",
    "        entity['ticket_end_time'] = activate_info['ticket_end_time']\n",
    "        self.datastore_client.put(entity)\n",
    "        \n",
    "    def update_GDS_LineUser(self, activate_info):\n",
    "        userID = activate_info['userID']\n",
    "        key = self.datastore_client.key('LineUser', userID)\n",
    "        entity = self.datastore_client.get(key)\n",
    "        entity['ticket_level'] = activate_info['ticket_level']\n",
    "        entity['ticket_search_quota'] = activate_info['ticket_search_quota']\n",
    "        entity['ticketID'] = activate_info['ticketID']\n",
    "        entity['ticket_start_time'] = activate_info['ticket_start_time']\n",
    "        entity['ticket_end_time'] = activate_info['ticket_end_time']\n",
    "        self.datastore_client.put(entity)\n",
    "    \n",
    "    def get_ticket_level_table(self):\n",
    "        df = pd.DataFrame()\n",
    "        df['ticket_level'] = ['A', 'B']\n",
    "        df['days'] = [30, 30]\n",
    "        df['ticket_search_quota'] = [20, 150] #[20, 150]\n",
    "        return df\n",
    "        \n",
    "        "
   ]
  },
  {
   "cell_type": "code",
   "execution_count": null,
   "metadata": {
    "ExecuteTime": {
     "end_time": "2021-02-17T06:46:13.473981Z",
     "start_time": "2021-02-17T06:46:13.464869Z"
    }
   },
   "outputs": [],
   "source": [
    "ticketUtil = TicketUtil()\n"
   ]
  },
  {
   "cell_type": "code",
   "execution_count": null,
   "metadata": {
    "ExecuteTime": {
     "end_time": "2021-02-17T06:46:19.491203Z",
     "start_time": "2021-02-17T06:46:19.475711Z"
    }
   },
   "outputs": [],
   "source": [
    "ticketUtil.get_ticket_level_table()"
   ]
  },
  {
   "cell_type": "code",
   "execution_count": null,
   "metadata": {
    "ExecuteTime": {
     "end_time": "2021-02-05T06:23:04.935350Z",
     "start_time": "2021-02-05T06:23:04.832982Z"
    }
   },
   "outputs": [],
   "source": [
    "ticketID = '1d6a52a1a688406ba2376625ded49301'\n",
    "ticket = ticketUtil.get_ticket(ticketID)\n",
    "ticket"
   ]
  },
  {
   "cell_type": "code",
   "execution_count": null,
   "metadata": {
    "ExecuteTime": {
     "end_time": "2021-02-05T06:22:43.452880Z",
     "start_time": "2021-02-05T06:22:43.439028Z"
    }
   },
   "outputs": [],
   "source": [
    "ticketUtil.ticket_is_used(ticket)"
   ]
  },
  {
   "cell_type": "code",
   "execution_count": null,
   "metadata": {
    "ExecuteTime": {
     "end_time": "2021-02-05T06:22:43.459131Z",
     "start_time": "2021-02-05T06:22:43.455869Z"
    }
   },
   "outputs": [],
   "source": [
    "studentID = 'U9ee09c740c77152094d16a2c2b5260a6'"
   ]
  },
  {
   "cell_type": "code",
   "execution_count": null,
   "metadata": {
    "ExecuteTime": {
     "end_time": "2021-02-05T06:22:43.601388Z",
     "start_time": "2021-02-05T06:22:43.461993Z"
    },
    "scrolled": true
   },
   "outputs": [],
   "source": [
    "activate_info = ticketUtil.get_activate_info(studentID, ticket)\n",
    "activate_info"
   ]
  },
  {
   "cell_type": "code",
   "execution_count": null,
   "metadata": {
    "ExecuteTime": {
     "end_time": "2021-02-05T05:42:41.991348Z",
     "start_time": "2021-02-05T05:42:41.813638Z"
    }
   },
   "outputs": [],
   "source": [
    "ticketUtil.update_GDS_Ticket(activate_info)"
   ]
  },
  {
   "cell_type": "code",
   "execution_count": null,
   "metadata": {
    "ExecuteTime": {
     "end_time": "2021-02-05T05:41:47.986878Z",
     "start_time": "2021-02-05T05:41:47.793519Z"
    }
   },
   "outputs": [],
   "source": [
    "ticketUtil.update_GDS_LineUser(activate_info)"
   ]
  },
  {
   "cell_type": "code",
   "execution_count": null,
   "metadata": {},
   "outputs": [],
   "source": []
  },
  {
   "cell_type": "markdown",
   "metadata": {},
   "source": [
    "## search.py"
   ]
  },
  {
   "cell_type": "code",
   "execution_count": null,
   "metadata": {
    "ExecuteTime": {
     "end_time": "2021-02-05T05:45:40.898003Z",
     "start_time": "2021-02-05T05:45:40.841869Z"
    }
   },
   "outputs": [],
   "source": [
    "import requests\n",
    "import base64\n",
    "import json\n",
    "\n",
    "class SearchUtil:\n",
    "    def __init__(self):\n",
    "        pass\n",
    "    \n",
    "    def search_question(self, studentID, b2_bytes):\n",
    "        # imageData\n",
    "        \n",
    "        b64_bytes = self.b2bytes_to_b64bytes(b2_bytes)\n",
    "        b64_text = b64_bytes.decode(\"utf-8\") # bytes2text(b64_bytes)\n",
    "\n",
    "        request_body = {}\n",
    "        request_body['studentID'] = studentID # 'student-linebot'\n",
    "        request_body['imageData'] = b64_text \n",
    "\n",
    "        url = \"https://search-question-dot-praxis-electron-301404.dt.r.appspot.com/search_question\"\n",
    "        payload = json.dumps(request_body)\n",
    "        headers = {'content-type': \"application/json\"}\n",
    "        response = requests.request(\"POST\", url, data=payload, headers=headers)\n",
    "        return_body = json.loads(response.text)\n",
    "\n",
    "        answerArray = return_body['answerArray']\n",
    "        answer = answerArray[0]\n",
    "\n",
    "        q_url = self.get_questionImagePath(answer)\n",
    "        a_url = self.get_answerImagePath(answer)\n",
    "\n",
    "        return q_url, a_url\n",
    "\n",
    "    def b2bytes_to_b64bytes(self, b2bytes):\n",
    "        b64bytes = base64.b64encode(b2bytes)\n",
    "        return b64bytes\n",
    "\n",
    "    def get_questionImagePath(self, answer):\n",
    "        questionID = answer['questionID']\n",
    "        url = 'https://storage.googleapis.com/easy668/imageFile/%s'%(questionID)\n",
    "        return url\n",
    "\n",
    "    def get_answerImagePath(self, answer):\n",
    "        a1 = {}\n",
    "        a1['answerID'] = answer['answerID']\n",
    "        a1['stepIDArray'] = answer['stepIDArray'] \n",
    "        request_body = [a1]\n",
    "\n",
    "        url = 'https://asia-northeast2-praxis-electron-301404.cloudfunctions.net/get_stepArray'\n",
    "        payload = json.dumps(request_body)\n",
    "        headers = {'content-type': \"application/json\"}\n",
    "        response = requests.request(\"POST\", url, data=payload, headers=headers)\n",
    "        return_body = json.loads(response.text)\n",
    "\n",
    "        answerArray = return_body['result']\n",
    "        answer = answerArray[0]\n",
    "        stepArray = answer['stepArray']\n",
    "        step = stepArray[0]\n",
    "        stepDetailArray = step['stepDetailArray']\n",
    "        stepDetail = stepDetailArray[0]\n",
    "        answerImagePath = stepDetail['answserImagePath'] # answserImagePath 字打錯\n",
    "        return answerImagePath\n",
    "    \n",
    "        "
   ]
  },
  {
   "cell_type": "code",
   "execution_count": null,
   "metadata": {
    "ExecuteTime": {
     "end_time": "2021-02-05T05:45:40.904616Z",
     "start_time": "2021-02-05T05:45:40.900991Z"
    }
   },
   "outputs": [],
   "source": [
    "searchUtil = SearchUtil()"
   ]
  },
  {
   "cell_type": "code",
   "execution_count": null,
   "metadata": {
    "ExecuteTime": {
     "end_time": "2021-02-05T05:46:26.851638Z",
     "start_time": "2021-02-05T05:46:26.844339Z"
    }
   },
   "outputs": [],
   "source": [
    "path = './a.png'\n",
    "with open(path, 'rb') as f:\n",
    "    b2_bytes = f.read()\n",
    "    \n",
    "len(b2_bytes)"
   ]
  },
  {
   "cell_type": "code",
   "execution_count": null,
   "metadata": {
    "ExecuteTime": {
     "end_time": "2021-02-05T05:46:26.858368Z",
     "start_time": "2021-02-05T05:46:26.854867Z"
    }
   },
   "outputs": [],
   "source": [
    "studentID = 'U9ee09c740c77152094d16a2c2b5260a6'"
   ]
  },
  {
   "cell_type": "code",
   "execution_count": null,
   "metadata": {
    "ExecuteTime": {
     "end_time": "2021-02-05T05:47:08.920030Z",
     "start_time": "2021-02-05T05:47:07.063667Z"
    }
   },
   "outputs": [],
   "source": [
    "searchUtil.search_question(studentID, b2_bytes)"
   ]
  },
  {
   "cell_type": "code",
   "execution_count": null,
   "metadata": {},
   "outputs": [],
   "source": []
  },
  {
   "cell_type": "markdown",
   "metadata": {},
   "source": [
    "## manager.py"
   ]
  },
  {
   "cell_type": "code",
   "execution_count": null,
   "metadata": {},
   "outputs": [],
   "source": [
    "from utils import member, ticket, search\n",
    "from linebot import (\n",
    "    LineBotApi, WebhookHandler\n",
    ")\n",
    "from linebot.models import (\n",
    "    MessageEvent, TextMessage, StickerMessage, LocationMessage, ImageMessage, VideoMessage, AudioMessage, FileMessage, TextSendMessage, ImageSendMessage\n",
    ")\n",
    "\n",
    "\n",
    "class ManagerUtil:\n",
    "    def __init__(self):\n",
    "        self.memberUtil = member.MemberUtil()\n",
    "        self.ticketUtil = ticket.TicketUtil()\n",
    "        self.searchUtil = search.SearchUtil()\n",
    "        self.line_teacher = 'https://lin.ee/vBlZxBF'\n",
    "        self.line_service = 'https://lin.ee/XpbrUnI'\n",
    "        \n",
    "    def setup_line_bot(self):\n",
    "        channel_secret = '7f8ac1b4e86b97aff37c09c5ee2ebead'\n",
    "        self.handler = WebhookHandler(channel_secret)\n",
    "\n",
    "        channel_access_token = 'YJhR/xR7YkbnhVaxKzaPehNFh5w/RR+Ye7cUqNxfxQYAXDb4R4ZgKrDu1bgElC+tSxFzPWNdDmcC8gqEC607TTHNW37Y7ApHWxIxEv60+mEoXrNIckZvRtyTggEKml+ZzJm+GtOZJPyU0bJr6gEuAAdB04t89/1O/w1cDnyilFU='\n",
    "        self.line_bot_api = LineBotApi(channel_access_token)\n",
    "        \n",
    "    def setup_event(self, event):\n",
    "        self.event = event\n",
    "        self.reply_token = event.reply_token\n",
    "        self.studentID = event.source.user_id\n",
    "        self.memberUtil.setup_user(self.studentID) # O(1)\n",
    "        \n",
    "    def handle_message(self):\n",
    "        user_type = self.memberUtil.get_user_type() # pay, normal, abnormal\n",
    "        if user_type == 'normal':\n",
    "            if isinstance(self.event.message, ImageMessage):\n",
    "                self.handle_image()\n",
    "            elif isinstance(self.event.message, TextMessage):  \n",
    "                self.handle_text(text=\"可以把不會的題目拍起來傳給我們，我們就會回傳解答給你喔～\")\n",
    "            else:\n",
    "                self.reply_text(text=\"可以把不會的題目拍起來傳給我們，我們就會回傳解答給你喔～\") \n",
    "                \n",
    "        elif user_type == 'pay':\n",
    "            self.handle_text(text=\"填問卷拿好學問序號，就能繼續找解答囉～ https://forms.gle/vNuyhQCTCrs14hkN9\")\n",
    "            \n",
    "        elif user_type == 'abnormal':\n",
    "            self.reply_text(text=\"系統異常，請洽詢好學問客服～ %s\"%(self.line_service)) \n",
    "    \n",
    "    def handle_image(self):\n",
    "        message_content = self.line_bot_api.get_message_content(self.event.message.id)\n",
    "        b2_bytes = message_content.content \n",
    "\n",
    "        # 確認server有開\n",
    "        try:\n",
    "            q_url, a_url = self.searchUtil.search_question(self.studentID, b2_bytes)\n",
    "\n",
    "            m1 = ImageSendMessage(q_url, q_url)\n",
    "            m2 = ImageSendMessage(a_url, a_url)\n",
    "            m3 = TextSendMessage(text=\"如果看不懂的話，可以到這裡問老師～ %s\"%(self.line_teacher))\n",
    "\n",
    "            messages = [m1, m2, m3]\n",
    "            self.line_bot_api.reply_message(self.reply_token, messages)\n",
    "\n",
    "            # 回傳之後再update\n",
    "            self.memberUtil.update_GDS_LineUser() \n",
    "\n",
    "        except Exception as e:\n",
    "            self.reply_text(text=\"搜尋引擎休息中，可以到這裡問老師～ %s\"%(self.line_teacher)) \n",
    "            \n",
    "    def handle_text(self, text=\"\"):\n",
    "        # 確認是不是ticket，不是的話就回同一句話\n",
    "        if isinstance(self.event.message, TextMessage):  \n",
    "            ticketID = self.event.message.text\n",
    "            ticket = self.ticketUtil.get_ticket(ticketID)\n",
    "            if ticket!=None:\n",
    "                self.handle_ticket(ticket)\n",
    "            else:\n",
    "                self.reply_text(text=text) \n",
    "        else:\n",
    "            self.reply_text(text=text) \n",
    "            \n",
    "    def handle_ticket(self, ticket):\n",
    "        is_used = self.ticketUtil.ticket_is_used(ticket)\n",
    "        if is_used == True:\n",
    "            self.reply_text(text=\"這個好學問序號已經使用過囉～\") \n",
    "        else:\n",
    "            activate_info = self.ticketUtil.get_activate_info(self.studentID, ticket)\n",
    "\n",
    "            ticketID = activate_info['ticketID']\n",
    "            ticket_start_time = activate_info['ticket_start_time'].strftime('%Y-%m-%d')\n",
    "            ticket_end_time = activate_info['ticket_end_time'].strftime('%Y-%m-%d')\n",
    "\n",
    "            text = '好學問序號 %s 已經開通，使用期間為 %s 至 %s。'%(ticketID, ticket_start_time, ticket_end_time)\n",
    "            self.reply_text(text=text) \n",
    "\n",
    "            # 回傳之後再update\n",
    "            self.ticketUtil.update_GDS_Ticket(activate_info)\n",
    "            self.ticketUtil.update_GDS_LineUser(activate_info)\n",
    "            \n",
    "    def reply_text(self, text=\"\"):\n",
    "        text_message = TextSendMessage(text=text)\n",
    "        messages = [text_message]\n",
    "        self.line_bot_api.reply_message(self.reply_token, messages)\n",
    "        \n",
    "        \n",
    "        "
   ]
  },
  {
   "cell_type": "code",
   "execution_count": null,
   "metadata": {},
   "outputs": [],
   "source": []
  },
  {
   "cell_type": "code",
   "execution_count": null,
   "metadata": {},
   "outputs": [],
   "source": []
  },
  {
   "cell_type": "code",
   "execution_count": null,
   "metadata": {},
   "outputs": [],
   "source": []
  },
  {
   "cell_type": "markdown",
   "metadata": {},
   "source": [
    "# api"
   ]
  },
  {
   "cell_type": "markdown",
   "metadata": {},
   "source": [
    "http://35.234.31.76:8787/fuck_test\n",
    "\n",
    "https://line-bot-dot-praxis-electron-301404.dt.r.appspot.com/fuck_test\n",
    "\n",
    "https://line-bot-dot-praxis-electron-301404.dt.r.appspot.com/callback"
   ]
  },
  {
   "cell_type": "markdown",
   "metadata": {},
   "source": [
    "# request"
   ]
  },
  {
   "cell_type": "code",
   "execution_count": null,
   "metadata": {
    "ExecuteTime": {
     "end_time": "2021-02-04T05:42:16.093600Z",
     "start_time": "2021-02-04T05:42:15.663Z"
    }
   },
   "outputs": [],
   "source": [
    "{\n",
    "    \"b64_text\": b64_text\n",
    "}"
   ]
  },
  {
   "cell_type": "code",
   "execution_count": null,
   "metadata": {
    "ExecuteTime": {
     "end_time": "2021-02-04T05:42:16.095532Z",
     "start_time": "2021-02-04T05:42:15.666Z"
    }
   },
   "outputs": [],
   "source": [
    "POST /callback HTTP/1.1\n",
    "X-Line-Signature: j9p1sXsb0yCyIEE8cEsmHbp9eHc85P2DQBVH1RKiQLk=\n",
    "Content-Type: application/json;charset=UTF-8\n",
    "Content-Length: 223\n",
    "Host: callback.sample.com\n",
    "Accept: */*\n",
    "User-Agent: LineBotWebhook/1.0\n",
    "\n",
    "{\n",
    "    \"events\":[\n",
    "        {\n",
    "            \"type\":\"message\",\n",
    "            \"replyToken\":\"1234567890abcdef1234567890abcdef\",\n",
    "            \"timestamp\":1500052665000,\n",
    "            \"source\":{\n",
    "                \"userId\":\"U1234567890abcdef1234567890abcdef\",\n",
    "                \"type\":\"user\"\n",
    "            },\n",
    "            \"message\":{\n",
    "                \"type\":\"audio\",\n",
    "                \"id\":\"1234567890123\"\n",
    "            }\n",
    "        }\n",
    "    ]\n",
    "}"
   ]
  },
  {
   "cell_type": "markdown",
   "metadata": {},
   "source": [
    "# b2_bytes"
   ]
  },
  {
   "cell_type": "code",
   "execution_count": null,
   "metadata": {
    "ExecuteTime": {
     "end_time": "2021-02-04T05:42:16.097464Z",
     "start_time": "2021-02-04T05:42:15.669Z"
    }
   },
   "outputs": [],
   "source": [
    "path = './a.png'\n",
    "with open(path, 'rb') as f:\n",
    "    b2bytes = f.read()\n",
    "type(b2bytes), len(b2bytes)"
   ]
  },
  {
   "cell_type": "code",
   "execution_count": null,
   "metadata": {
    "ExecuteTime": {
     "end_time": "2021-02-04T05:42:16.099372Z",
     "start_time": "2021-02-04T05:42:15.672Z"
    }
   },
   "outputs": [],
   "source": [
    "import base64\n",
    "\n",
    "def b2bytes_to_b64bytes(b2bytes):\n",
    "    b64bytes = base64.b64encode(b2bytes)\n",
    "    return b64bytes"
   ]
  },
  {
   "cell_type": "code",
   "execution_count": null,
   "metadata": {
    "ExecuteTime": {
     "end_time": "2021-02-04T05:42:16.101301Z",
     "start_time": "2021-02-04T05:42:15.675Z"
    }
   },
   "outputs": [],
   "source": [
    "b64bytes = b2bytes_to_b64bytes(b2bytes)\n",
    "type(b64bytes), len(b64bytes)"
   ]
  },
  {
   "cell_type": "code",
   "execution_count": null,
   "metadata": {
    "ExecuteTime": {
     "end_time": "2021-02-04T05:42:16.103216Z",
     "start_time": "2021-02-04T05:42:15.677Z"
    }
   },
   "outputs": [],
   "source": [
    "b64text = b64bytes.decode(\"utf-8\")\n",
    "type(b64text), len(b64text)"
   ]
  },
  {
   "cell_type": "code",
   "execution_count": null,
   "metadata": {
    "ExecuteTime": {
     "end_time": "2021-02-04T05:42:16.105189Z",
     "start_time": "2021-02-04T05:42:15.680Z"
    }
   },
   "outputs": [],
   "source": [
    "# b64text"
   ]
  },
  {
   "cell_type": "code",
   "execution_count": null,
   "metadata": {},
   "outputs": [],
   "source": []
  },
  {
   "cell_type": "markdown",
   "metadata": {},
   "source": [
    "# get line id"
   ]
  },
  {
   "cell_type": "markdown",
   "metadata": {},
   "source": [
    "- 沒提供lineid: https://github.com/line/line-bot-sdk-java/issues/266"
   ]
  },
  {
   "cell_type": "code",
   "execution_count": null,
   "metadata": {
    "ExecuteTime": {
     "end_time": "2021-02-04T05:42:16.107113Z",
     "start_time": "2021-02-04T05:42:15.685Z"
    }
   },
   "outputs": [],
   "source": [
    "from linebot import (\n",
    "    LineBotApi, WebhookHandler\n",
    ")"
   ]
  },
  {
   "cell_type": "code",
   "execution_count": null,
   "metadata": {
    "ExecuteTime": {
     "end_time": "2021-02-04T05:42:16.109077Z",
     "start_time": "2021-02-04T05:42:15.687Z"
    },
    "scrolled": true
   },
   "outputs": [],
   "source": [
    "channel_access_token = 'YJhR/xR7YkbnhVaxKzaPehNFh5w/RR+Ye7cUqNxfxQYAXDb4R4ZgKrDu1bgElC+tSxFzPWNdDmcC8gqEC607TTHNW37Y7ApHWxIxEv60+mEoXrNIckZvRtyTggEKml+ZzJm+GtOZJPyU0bJr6gEuAAdB04t89/1O/w1cDnyilFU='\n",
    "channel_secret = '7f8ac1b4e86b97aff37c09c5ee2ebead'\n",
    "\n",
    "line_bot_api = LineBotApi(channel_access_token)\n",
    "handler = WebhookHandler(channel_secret)\n",
    "\n",
    "user_id = 'U9ee09c740c77152094d16a2c2b5260a6'\n",
    "profile = line_bot_api.get_profile(user_id)\n",
    "profile\n"
   ]
  },
  {
   "cell_type": "code",
   "execution_count": null,
   "metadata": {},
   "outputs": [],
   "source": []
  },
  {
   "cell_type": "code",
   "execution_count": null,
   "metadata": {},
   "outputs": [],
   "source": []
  },
  {
   "cell_type": "markdown",
   "metadata": {},
   "source": [
    "# error"
   ]
  },
  {
   "cell_type": "code",
   "execution_count": null,
   "metadata": {
    "ExecuteTime": {
     "end_time": "2021-02-04T05:42:16.110994Z",
     "start_time": "2021-02-04T05:42:15.693Z"
    }
   },
   "outputs": [],
   "source": [
    "從bot mode改成chat mode之後 要把Use webhook打開"
   ]
  },
  {
   "cell_type": "code",
   "execution_count": null,
   "metadata": {},
   "outputs": [],
   "source": [
    "如果是要給一個特定的台灣時間，要另外設定tzinfo，其他例如datetime.now這種就不用另外設定"
   ]
  }
 ],
 "metadata": {
  "kernelspec": {
   "display_name": "Python 3",
   "language": "python",
   "name": "python3"
  },
  "language_info": {
   "codemirror_mode": {
    "name": "ipython",
    "version": 3
   },
   "file_extension": ".py",
   "mimetype": "text/x-python",
   "name": "python",
   "nbconvert_exporter": "python",
   "pygments_lexer": "ipython3",
   "version": "3.7.6"
  },
  "toc": {
   "base_numbering": 1,
   "nav_menu": {},
   "number_sections": true,
   "sideBar": true,
   "skip_h1_title": false,
   "title_cell": "Table of Contents",
   "title_sidebar": "Contents",
   "toc_cell": false,
   "toc_position": {
    "height": "calc(100% - 180px)",
    "left": "10px",
    "top": "150px",
    "width": "166px"
   },
   "toc_section_display": true,
   "toc_window_display": true
  }
 },
 "nbformat": 4,
 "nbformat_minor": 4
}
