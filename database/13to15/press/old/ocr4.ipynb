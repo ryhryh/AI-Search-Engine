{
 "cells": [
  {
   "cell_type": "markdown",
   "id": "failing-extent",
   "metadata": {},
   "source": [
    "# question"
   ]
  },
  {
   "cell_type": "markdown",
   "id": "advance-leader",
   "metadata": {},
   "source": [
    "## pdf"
   ]
  },
  {
   "cell_type": "code",
   "execution_count": 1,
   "id": "laughing-emission",
   "metadata": {
    "ExecuteTime": {
     "end_time": "2021-03-05T07:53:32.906371Z",
     "start_time": "2021-03-05T07:53:30.738513Z"
    }
   },
   "outputs": [],
   "source": [
    "import os\n",
    "from glob import glob \n",
    "import pandas as pd\n",
    "from pdf2image import convert_from_path\n",
    "from datetime import datetime\n",
    "\n",
    "class QuePdf:\n",
    "    def __init__(self):\n",
    "        self.key = 'pdf_path'\n",
    "        self.setup_log()\n",
    "    \n",
    "    def setup_log(self):\n",
    "        self.log_path = '/home/ryh/embedding-match/ocr/datasets/quePdf.pickle'\n",
    "        self.log_columns = [self.key, 'created_time']\n",
    "        try:\n",
    "            self.log = pd.read_pickle(self.log_path)\n",
    "        except:\n",
    "            self.log = pd.DataFrame(columns=self.log_columns)\n",
    "        self.path_set = set(self.log[self.key].values)\n",
    "    \n",
    "    def update_log(self, pdf_path):\n",
    "        row = pd.DataFrame(columns=self.log_columns)\n",
    "        \n",
    "        row[self.key] = [pdf_path]\n",
    "        row['created_time'] = [datetime.now()]\n",
    "        \n",
    "        self.log = self.log.append(row)\n",
    "        self.path_set.add(pdf_path)\n",
    "        \n",
    "    def save_log(self):\n",
    "        self.log = self.log.sort_values(by=self.key, ascending=True).reset_index(drop=True)\n",
    "        self.log.to_pickle(self.log_path)\n",
    "        \n",
    "    def get_pdf_path_list(self, year='*', subject='*', press='*'):\n",
    "        d = '/home/ryh/embedding-match/ocr/datasets/taiwan/13to15/press/%s/%s/%s/question/pdf/*.pdf'%(year, subject, press)\n",
    "        pdf_path_list = sorted(glob(d))\n",
    "        return pdf_path_list\n",
    "    \n",
    "    def pdf2papers(self, pdf_path):\n",
    "        if pdf_path in self.path_set:\n",
    "            #print('alread exist', '---', pdf_path)\n",
    "            return\n",
    "        \n",
    "        images = convert_from_path(pdf_path)\n",
    "        \n",
    "        old_dirname = os.path.dirname(pdf_path)\n",
    "        old_basename = os.path.basename(pdf_path)\n",
    "        \n",
    "        new_dirname = old_dirname.replace('pdf', 'paper')\n",
    "        os.makedirs(new_dirname, exist_ok=True)\n",
    "        for i, image in enumerate(images):     \n",
    "            print(i+1, len(images), end='\\r')\n",
    "            new_basename = old_basename.replace('.pdf', '') + '---%02d'%(i+1) + '.png' \n",
    "            img_path = os.path.join(new_dirname, new_basename)\n",
    "            image.save(img_path, 'PNG')\n",
    "            \n",
    "        self.update_log(pdf_path)\n",
    "        \n",
    "    \n",
    "        \n",
    "    "
   ]
  },
  {
   "cell_type": "markdown",
   "id": "frozen-loading",
   "metadata": {},
   "source": [
    "### steps"
   ]
  },
  {
   "cell_type": "code",
   "execution_count": 2,
   "id": "subject-provider",
   "metadata": {
    "ExecuteTime": {
     "end_time": "2021-03-05T07:53:32.916528Z",
     "start_time": "2021-03-05T07:53:32.909556Z"
    }
   },
   "outputs": [],
   "source": [
    "quePdf = QuePdf()"
   ]
  },
  {
   "cell_type": "code",
   "execution_count": 3,
   "id": "timely-southeast",
   "metadata": {
    "ExecuteTime": {
     "end_time": "2021-03-05T07:53:32.938753Z",
     "start_time": "2021-03-05T07:53:32.920805Z"
    }
   },
   "outputs": [
    {
     "data": {
      "text/plain": [
       "{'/home/ryh/embedding-match/ocr/datasets/taiwan/13to15/press/108/數學/南一/question/pdf/108上[南一]國中試卷-(三)數學-B卷-(中上)-(題).pdf',\n",
       " '/home/ryh/embedding-match/ocr/datasets/taiwan/13to15/press/108/數學/南一/question/pdf/108上[南一]國中試卷-數學五A卷-(優等)-3上（題）.pdf',\n",
       " '/home/ryh/embedding-match/ocr/datasets/taiwan/13to15/press/108/數學/南一/question/pdf/108上[南一]國中試卷-數學五B卷-(中上)-3上（題）.pdf',\n",
       " '/home/ryh/embedding-match/ocr/datasets/taiwan/13to15/press/108/數學/南一/question/pdf/108下-南一國中試卷數學(4)A卷(優等)題-2下.pdf'}"
      ]
     },
     "execution_count": 3,
     "metadata": {},
     "output_type": "execute_result"
    }
   ],
   "source": [
    "quePdf.log\n",
    "quePdf.path_set"
   ]
  },
  {
   "cell_type": "code",
   "execution_count": 4,
   "id": "local-pasta",
   "metadata": {
    "ExecuteTime": {
     "end_time": "2021-03-05T07:53:32.948400Z",
     "start_time": "2021-03-05T07:53:32.941646Z"
    },
    "scrolled": true
   },
   "outputs": [
    {
     "data": {
      "text/plain": [
       "18"
      ]
     },
     "execution_count": 4,
     "metadata": {},
     "output_type": "execute_result"
    }
   ],
   "source": [
    "pdf_path_list = quePdf.get_pdf_path_list(year='108', subject='數學', press='南一')\n",
    "len(pdf_path_list)\n"
   ]
  },
  {
   "cell_type": "code",
   "execution_count": 5,
   "id": "documented-omega",
   "metadata": {
    "ExecuteTime": {
     "end_time": "2021-03-05T07:53:32.957151Z",
     "start_time": "2021-03-05T07:53:32.951189Z"
    }
   },
   "outputs": [
    {
     "data": {
      "text/plain": [
       "'/home/ryh/embedding-match/ocr/datasets/taiwan/13to15/press/108/數學/南一/question/pdf/108上[南一]國中試卷-數學五B卷-(中上)-3上（題）.pdf'"
      ]
     },
     "execution_count": 5,
     "metadata": {},
     "output_type": "execute_result"
    }
   ],
   "source": [
    "pdf_path = pdf_path_list[3]\n",
    "pdf_path"
   ]
  },
  {
   "cell_type": "code",
   "execution_count": 6,
   "id": "automatic-karaoke",
   "metadata": {
    "ExecuteTime": {
     "end_time": "2021-03-05T07:53:32.964052Z",
     "start_time": "2021-03-05T07:53:32.959600Z"
    },
    "scrolled": false
   },
   "outputs": [],
   "source": [
    "quePdf.pdf2papers(pdf_path)"
   ]
  },
  {
   "cell_type": "code",
   "execution_count": 7,
   "id": "informal-intermediate",
   "metadata": {
    "ExecuteTime": {
     "end_time": "2021-03-05T07:53:32.978059Z",
     "start_time": "2021-03-05T07:53:32.966770Z"
    }
   },
   "outputs": [],
   "source": [
    "quePdf.save_log()"
   ]
  },
  {
   "cell_type": "code",
   "execution_count": 8,
   "id": "accessible-peoples",
   "metadata": {
    "ExecuteTime": {
     "end_time": "2021-03-05T07:53:32.997846Z",
     "start_time": "2021-03-05T07:53:32.980860Z"
    }
   },
   "outputs": [
    {
     "data": {
      "text/html": [
       "<div>\n",
       "<style scoped>\n",
       "    .dataframe tbody tr th:only-of-type {\n",
       "        vertical-align: middle;\n",
       "    }\n",
       "\n",
       "    .dataframe tbody tr th {\n",
       "        vertical-align: top;\n",
       "    }\n",
       "\n",
       "    .dataframe thead th {\n",
       "        text-align: right;\n",
       "    }\n",
       "</style>\n",
       "<table border=\"1\" class=\"dataframe\">\n",
       "  <thead>\n",
       "    <tr style=\"text-align: right;\">\n",
       "      <th></th>\n",
       "      <th>pdf_path</th>\n",
       "      <th>created_time</th>\n",
       "    </tr>\n",
       "  </thead>\n",
       "  <tbody>\n",
       "    <tr>\n",
       "      <th>0</th>\n",
       "      <td>/home/ryh/embedding-match/ocr/datasets/taiwan/...</td>\n",
       "      <td>2021-03-05 13:25:53.115240</td>\n",
       "    </tr>\n",
       "    <tr>\n",
       "      <th>1</th>\n",
       "      <td>/home/ryh/embedding-match/ocr/datasets/taiwan/...</td>\n",
       "      <td>2021-03-05 14:16:49.106101</td>\n",
       "    </tr>\n",
       "    <tr>\n",
       "      <th>2</th>\n",
       "      <td>/home/ryh/embedding-match/ocr/datasets/taiwan/...</td>\n",
       "      <td>2021-03-05 14:19:27.114984</td>\n",
       "    </tr>\n",
       "    <tr>\n",
       "      <th>3</th>\n",
       "      <td>/home/ryh/embedding-match/ocr/datasets/taiwan/...</td>\n",
       "      <td>2021-03-05 13:20:09.422361</td>\n",
       "    </tr>\n",
       "  </tbody>\n",
       "</table>\n",
       "</div>"
      ],
      "text/plain": [
       "                                            pdf_path  \\\n",
       "0  /home/ryh/embedding-match/ocr/datasets/taiwan/...   \n",
       "1  /home/ryh/embedding-match/ocr/datasets/taiwan/...   \n",
       "2  /home/ryh/embedding-match/ocr/datasets/taiwan/...   \n",
       "3  /home/ryh/embedding-match/ocr/datasets/taiwan/...   \n",
       "\n",
       "                created_time  \n",
       "0 2021-03-05 13:25:53.115240  \n",
       "1 2021-03-05 14:16:49.106101  \n",
       "2 2021-03-05 14:19:27.114984  \n",
       "3 2021-03-05 13:20:09.422361  "
      ]
     },
     "execution_count": 8,
     "metadata": {},
     "output_type": "execute_result"
    }
   ],
   "source": [
    "quePdf.log\n"
   ]
  },
  {
   "cell_type": "code",
   "execution_count": null,
   "id": "transparent-memphis",
   "metadata": {},
   "outputs": [],
   "source": []
  },
  {
   "cell_type": "code",
   "execution_count": null,
   "id": "empty-sucking",
   "metadata": {},
   "outputs": [],
   "source": []
  },
  {
   "cell_type": "markdown",
   "id": "bronze-surfing",
   "metadata": {},
   "source": [
    "## paper"
   ]
  },
  {
   "cell_type": "markdown",
   "id": "toxic-cartoon",
   "metadata": {},
   "source": [
    "### class"
   ]
  },
  {
   "cell_type": "code",
   "execution_count": 23,
   "id": "magnetic-roommate",
   "metadata": {
    "ExecuteTime": {
     "end_time": "2021-03-05T07:56:52.085113Z",
     "start_time": "2021-03-05T07:56:50.835090Z"
    }
   },
   "outputs": [],
   "source": [
    "from google.cloud import vision\n",
    "import io\n",
    "from glob import glob \n",
    "import os\n",
    "import re\n",
    "from datetime import datetime\n",
    "import pandas as pd\n",
    "pd.set_option('display.max_rows', 500)\n",
    "\n",
    "%matplotlib inline\n",
    "import matplotlib.pyplot as plt\n",
    "import matplotlib.image as mpimg\n",
    "import matplotlib.patches as patches\n",
    "\n",
    "class QuePaper:\n",
    "    def __init__(self):\n",
    "        self.key = 'paper_path'\n",
    "        self.setup_log()\n",
    "        self.setup_special()\n",
    "        self.vision_client = vision.ImageAnnotatorClient() \n",
    "    \n",
    "    def setup_log(self):\n",
    "        self.log_path = '/home/ryh/embedding-match/ocr/datasets/quePaper.pickle'\n",
    "        self.log_columns = [self.key, 'created_time', 'q_list', 'page', 'check_number', 'check_page', 'is_split']\n",
    "        try:\n",
    "            self.log = pd.read_pickle(self.log_path)\n",
    "        except:\n",
    "            self.log = pd.DataFrame(columns=self.log_columns)\n",
    "        self.path_set = set(self.log[self.key].values)\n",
    "    \n",
    "    def update_log(self, path, q_list, page, check_number):\n",
    "        row = pd.DataFrame(columns=self.log_columns)\n",
    "        \n",
    "        row['created_time'] = [datetime.now()]\n",
    "        row[self.key] = [path]\n",
    "        row['q_list'] = [q_list]\n",
    "        row['page'] = [page]\n",
    "        row['check_number'] = [check_number]\n",
    "        row['check_page'] = [0]\n",
    "        row['is_split'] = [0]\n",
    "        \n",
    "        self.log = self.log.append(row)\n",
    "        self.path_set.add(path)\n",
    "        \n",
    "    def save_log(self, log):\n",
    "        log = log.sort_values(by=self.key, ascending=True).reset_index(drop=True)\n",
    "        log.to_pickle(self.log_path)\n",
    "        self.setup_log()\n",
    "        \n",
    "    def get_paper_path_list(self, year='*', subject='*', press='*', pdf_path=''):\n",
    "        path = os.path.basename(pdf_path)\n",
    "        path = path.replace('.pdf', '').replace('[', '*').replace(']', '*')\n",
    "        d = '/home/ryh/embedding-match/ocr/datasets/taiwan/13to15/press/%s/%s/%s/question/paper/%s*.png'%(year, subject, press, path)\n",
    "        paper_path_list = sorted(glob(d))\n",
    "        return paper_path_list\n",
    "    \n",
    "    def paper2segments(self, paper_path):\n",
    "        if paper_path in self.path_set:\n",
    "            #print('alread exist', '---', paper_path)\n",
    "            return #?\n",
    "        \n",
    "        with open(paper_path, 'rb') as f:\n",
    "            self.paper_byte = f.read()\n",
    "        self.paper_arr = mpimg.imread(paper_path)\n",
    "        self.paper_height, self.paper_width = self.paper_arr.shape[0], self.paper_arr.shape[1]\n",
    "        \n",
    "        ann_list = self.detect_text(self.paper_byte)\n",
    "        q_ann_list = self.filter_ann_list(ann_list)\n",
    "        q_list = self.get_q_list(q_ann_list)\n",
    "        check_number = self.get_check_number(q_list)\n",
    "        #print(check_number)\n",
    "        self.update_log(paper_path, q_list, self.page, check_number)\n",
    "        \n",
    "    def detect_text(self, paper_byte):\n",
    "        image = vision.Image(content=paper_byte)\n",
    "        response = self.vision_client.text_detection(image=image)\n",
    "        text_annotation_list = response.text_annotations\n",
    "        return text_annotation_list[1:]\n",
    "    \n",
    "    def filter_ann_list(self, ann_list):\n",
    "        result = []\n",
    "        for i, ann in enumerate(ann_list):\n",
    "            xy, xy_float, rec_width, rec_height, text = self.get_rec_info(ann)\n",
    "            words = ''.join([x.description for x in ann_list[i:i+5]])\n",
    "            c1 = self.is_valid_words(words)\n",
    "            c2 = self.is_valid_x_position(xy_float)\n",
    "            c3 = self.pre_is_valid(i, ann_list)\n",
    "            c4 = self.is_exclude(xy_float, text) == False\n",
    "            c5 = self.is_include(xy_float, text) == True\n",
    "            if (c1 and c2 and c3 and c4) or c5:\n",
    "                #print(i, words) #?\n",
    "                result.append(ann)   \n",
    "            self.setup_page(xy_float[1], words) #!\n",
    "        return result\n",
    "    \n",
    "    def pre_is_valid(self, i, text_annotation_list):\n",
    "        if i==0: return True\n",
    "        cur = text_annotation_list[i]\n",
    "        pre = text_annotation_list[i-1]\n",
    "        _, cur_xy_float, _, _, _ = self.get_rec_info(cur)\n",
    "        _, pre_xy_float, _, _, _ = self.get_rec_info(pre)\n",
    "        cur_x, cur_y = cur_xy_float[0], cur_xy_float[1]\n",
    "        pre_x, pre_y = pre_xy_float[0], pre_xy_float[1]\n",
    "        x_diff, y_diff = abs(cur_x-pre_x), abs(cur_y-pre_y)\n",
    "        pre_text = pre.description\n",
    "        \n",
    "        # cur跟pre都在同一邊\n",
    "        # 假如前一個字不是 \")\" 就有問題\n",
    "        if (cur_x < 0.3 and pre_x < 0.3) or (cur_x > 0.5 and pre_x > 0.5):\n",
    "            if x_diff < 0.05 and y_diff < 0.03 and pre_text != ')':\n",
    "                return False\n",
    "        return True\n",
    "    \n",
    "    def setup_page(self, y_float, words):\n",
    "        if y_float < 0.2 or y_float > 0.8:\n",
    "            pat = '^(\\(|\\{)?([1-9]|1[0-9])(-|–)([1-2])'\n",
    "            x = re.search(pat, words)\n",
    "            if x != None:\n",
    "                self.page = x.group(0).replace('–', '-').replace('(', '').replace('{', '') \n",
    "    \n",
    "    def is_include(self, xy_float, text):\n",
    "        if (xy_float, text) in self.include_list: return True \n",
    "        return False\n",
    "    \n",
    "    def is_exclude(self, xy_float, text):\n",
    "        if (xy_float, text) in self.exclude_list: return True \n",
    "        return False\n",
    "    \n",
    "    def setup_special(self):\n",
    "        self.special_path = '/home/ryh/embedding-match/ocr/datasets/special.pickle'\n",
    "        try:\n",
    "            self.special = pd.read_pickle(self.special_path)\n",
    "            self.special = self.special.drop_duplicates(subset=['xy_float', 'text'], keep='last', inplace=False)\n",
    "        except:\n",
    "            special_columns = ['is_include', 'xy_float', 'text', 'paper_path']\n",
    "            self.special = pd.DataFrame(columns=special_columns)\n",
    "        \n",
    "        df_include = self.special[self.special.is_include=='include']\n",
    "        df_exclude = self.special[self.special.is_include=='exclude']\n",
    "        \n",
    "        self.include_list = list(zip(df_include.xy_float, df_include.text))\n",
    "        self.exclude_list = list(zip(df_exclude.xy_float, df_exclude.text))\n",
    "    \n",
    "    def update_special(self, is_include='exclude', xy_float=(0,0), text='', paper_path=''):\n",
    "        row = pd.DataFrame()\n",
    "        row['is_include'] = [is_include]\n",
    "        row['xy_float'] = [xy_float]\n",
    "        row['text'] = [text]\n",
    "        row['paper_path'] = [paper_path]\n",
    "        self.special = self.special.append(row)\n",
    "        self.special.to_pickle(self.special_path)\n",
    "        self.setup_special()\n",
    "    \n",
    "    def is_valid_words(self, words):\n",
    "        pat = '^([1-9]|[1-2][0-9])(\\.)(.)(.)'\n",
    "        x = re.search(pat, words)\n",
    "        return (x != None)\n",
    "    \n",
    "    def is_valid_x_position(self, xy_float):\n",
    "        x_float, y_float = xy_float[0], xy_float[1]\n",
    "        is_valid = (0.15 > x_float > 0) or (0.6 > x_float > 0.49)\n",
    "        return is_valid\n",
    "    \n",
    "    def get_rec_info(self, ann):\n",
    "        vertices = ann.bounding_poly.vertices\n",
    "        xy0 = vertices[0] # 左上\n",
    "        xy1 = vertices[1] # 右下？\n",
    "        xy2 = vertices[2] # 右上？\n",
    "        xy3 = vertices[3] # 左下\n",
    "        xy = (xy0.x, xy0.y)\n",
    "        xy_float = (xy0.x / self.paper_width, xy0.y / self.paper_height)\n",
    "        rec_width = xy1.x - xy0.x\n",
    "        rec_height = xy3.y - xy0.y\n",
    "        text = ann.description\n",
    "        return xy, xy_float, rec_width, rec_height, text\n",
    "    \n",
    "    def get_q_list(self, q_ann_list):\n",
    "        up_space = 40 # 題目的頂部 \n",
    "        down_space = 10 # 題目的底部\n",
    "        bottom_space = 100 # 蓋掉xyz88.net\n",
    "        L = []\n",
    "        R = []\n",
    "        for ann in q_ann_list:\n",
    "            xy, xy_float, rec_width, rec_height, text = self.get_rec_info(ann)\n",
    "            num = self.get_num(text)\n",
    "            q = {'xy': xy, 'xy_float':xy_float, 'rec_width': rec_width, 'rec_height': rec_height, 'text': text, 'num': num}\n",
    "            x_, y_ =  xy_float[0], xy_float[1]\n",
    "            if x_ < 0.45:\n",
    "                L.append(q)\n",
    "            else:\n",
    "                R.append(q)\n",
    "                \n",
    "        left_x = min([q['xy'][0] for q in L]) if len(L) != 0 else 'xxx' # 左右的界限\n",
    "        right_x = min([q['xy'][0] for q in R]) if len(R) != 0 else 'xxx'\n",
    "        \n",
    "        L = sorted(L, key=(lambda q: q['xy'][1]), reverse=False ) # 分成左右兩邊，從上排到下\n",
    "        R = sorted(R, key=(lambda q: q['xy'][1]), reverse=False )\n",
    "        \n",
    "        for i in range(len(L)):\n",
    "            cur = L[i]\n",
    "            y2 = L[i+1]['xy'][1] if i != len(L)-1 else self.paper_height - bottom_space\n",
    "            cur['coor'] = {'x1': left_x, 'x2': right_x, 'y1': cur['xy'][1]-up_space, 'y2': y2-down_space}\n",
    "\n",
    "        for i in range(len(R)):\n",
    "            cur = R[i]\n",
    "            y2 = R[i+1]['xy'][1] if i != len(R)-1 else self.paper_height - bottom_space\n",
    "            cur['coor'] = {'x1': right_x, 'x2': self.paper_width, 'y1': cur['xy'][1]-up_space, 'y2': y2-down_space}\n",
    "\n",
    "        q_list = L + R\n",
    "        return q_list\n",
    "    \n",
    "    def get_num(self, text):\n",
    "        try:\n",
    "            if '.' in text:\n",
    "                num = int(text[:text.index('.')])\n",
    "            else:\n",
    "                num = int(text)\n",
    "        except:\n",
    "            num = 999\n",
    "        return num\n",
    "    \n",
    "    def get_edgecolor(self, text='6.2'):\n",
    "        if '.' in text and text[-1] != '.':\n",
    "            return 'b'\n",
    "        else:\n",
    "            return 'r'\n",
    "        \n",
    "    def show_paper(self, paper_path='', q_list=[], show_border=False, show_rec=True):\n",
    "        img = mpimg.imread(paper_path)\n",
    "        img_height, img_width = img.shape[0], img.shape[1]\n",
    "        d = 50\n",
    "        fig, ax = plt.subplots(figsize=(img_height/d, img_width/d), dpi=d)\n",
    "        \n",
    "        try:\n",
    "            for q in q_list:\n",
    "                if show_rec:\n",
    "                    xy, xy_float, rec_width, rec_height, text = q['xy'], q['xy_float'], q['rec_width'], q['rec_height'], q['text']\n",
    "                    edgecolor = self.get_edgecolor(text)\n",
    "                    rect = patches.Rectangle(xy, rec_width, rec_height, linewidth=2, edgecolor=edgecolor, facecolor='none')\n",
    "                    ax.add_patch(rect)\n",
    "\n",
    "                if show_border:\n",
    "                    coor = q['coor']\n",
    "                    x1, x2, y1, y2 = coor['x1'], coor['x2'], coor['y1'], coor['y2']\n",
    "                    xy = (x1, y1)\n",
    "                    rec_width = abs(x2 - x1)\n",
    "                    rec_height = abs(y2 - y1)\n",
    "                    rect = patches.Rectangle(xy, rec_width, rec_height, linewidth=2, edgecolor='g', facecolor='none')\n",
    "                    ax.add_patch(rect)\n",
    "        except:\n",
    "            pass\n",
    "        \n",
    "        ax.imshow(img, interpolation='none')\n",
    "        plt.tight_layout()\n",
    "        plt.show()\n",
    "        \n",
    "    def update_check_number(self, log_index=0, check_number='delete', specical_list=[]):\n",
    "        if check_number=='delete':\n",
    "            for specical in specical_list:\n",
    "                self.update_special(is_include=specical['is_include'], xy_float=specical['xy_float'], text=specical['text'], paper_path=specical['paper_path'])\n",
    "            paper_path = self.log.loc[log_index, 'paper_path'] \n",
    "            self.log = self.log.drop(index=log_index) \n",
    "            self.path_set.remove(paper_path)\n",
    "            self.paper2segments(paper_path)\n",
    "        else:\n",
    "            self.log.loc[log_index, 'check_number'] = check_number\n",
    "        self.save_log(self.log)\n",
    "        \n",
    "    def get_check_number(self, q_list):\n",
    "        check_number = 'ok'\n",
    "        for i in range(1, len(q_list)):\n",
    "            cur = q_list[i]\n",
    "            pre = q_list[i-1]\n",
    "            cur_num = cur['num']\n",
    "            pre_num = pre['num']\n",
    "            if cur_num - pre_num != 1:\n",
    "                if cur_num != 1:\n",
    "                    check_number = 'to_check'\n",
    "        return check_number\n",
    "    \n",
    "    def get_df_check_number(self):\n",
    "        df_check_number = self.log[self.log.check_number=='to_check'].copy()\n",
    "        return df_check_number\n",
    "    \n",
    "    def get_df_check_page(self):\n",
    "        df_check_number = self.log[self.log.check_page==0].copy()\n",
    "        return df_check_number\n",
    "    \n",
    "    def update_df_check_page(self, df_check_page, item_list=[]):\n",
    "        self.log.loc[df_check_page.index, 'check_page'] = 1\n",
    "        for item in item_list:\n",
    "            index = item['index']\n",
    "            page = item['page']\n",
    "            if page=='delete':\n",
    "                paper_path = self.log.loc[index, 'paper_path']\n",
    "                self.log = self.log.drop(index=index) \n",
    "                os.remove(paper_path) #!\n",
    "            else:\n",
    "                self.log.at[index, 'page'] = page\n",
    "        self.save_log(self.log)\n",
    "    \n",
    "    \n",
    "    "
   ]
  },
  {
   "cell_type": "code",
   "execution_count": 24,
   "id": "smooth-squad",
   "metadata": {
    "ExecuteTime": {
     "end_time": "2021-03-05T07:56:52.097299Z",
     "start_time": "2021-03-05T07:56:52.089283Z"
    }
   },
   "outputs": [],
   "source": [
    "# text = '1.xxx'\n",
    "# text = '23'\n",
    "# int(text[:text.index('.')])"
   ]
  },
  {
   "cell_type": "markdown",
   "id": "handed-ordinance",
   "metadata": {},
   "source": [
    "### steps"
   ]
  },
  {
   "cell_type": "code",
   "execution_count": 25,
   "id": "surrounded-backing",
   "metadata": {
    "ExecuteTime": {
     "end_time": "2021-03-05T07:56:52.126907Z",
     "start_time": "2021-03-05T07:56:52.101050Z"
    }
   },
   "outputs": [],
   "source": [
    "quePaper = QuePaper()\n"
   ]
  },
  {
   "cell_type": "code",
   "execution_count": 26,
   "id": "material-notification",
   "metadata": {
    "ExecuteTime": {
     "end_time": "2021-03-05T07:56:52.143228Z",
     "start_time": "2021-03-05T07:56:52.131249Z"
    }
   },
   "outputs": [
    {
     "data": {
      "text/plain": [
       "144"
      ]
     },
     "execution_count": 26,
     "metadata": {},
     "output_type": "execute_result"
    }
   ],
   "source": [
    "paper_path_list = quePaper.get_paper_path_list(year='*', subject='*', press='*', pdf_path='')\n",
    "len(paper_path_list)"
   ]
  },
  {
   "cell_type": "code",
   "execution_count": 29,
   "id": "incoming-suggestion",
   "metadata": {
    "ExecuteTime": {
     "end_time": "2021-03-05T08:01:45.917506Z",
     "start_time": "2021-03-05T07:57:09.710592Z"
    },
    "scrolled": true
   },
   "outputs": [
    {
     "name": "stdout",
     "output_type": "stream",
     "text": [
      "144 144\r"
     ]
    }
   ],
   "source": [
    "for i, paper_path in enumerate(paper_path_list):\n",
    "    print(i+1, len(paper_path_list), end='\\r')\n",
    "    quePaper.paper2segments(paper_path)\n",
    "quePaper.save_log(quePaper.log)"
   ]
  },
  {
   "cell_type": "code",
   "execution_count": null,
   "id": "tutorial-vacuum",
   "metadata": {},
   "outputs": [],
   "source": []
  },
  {
   "cell_type": "markdown",
   "id": "based-irrigation",
   "metadata": {},
   "source": [
    "### debug"
   ]
  },
  {
   "cell_type": "code",
   "execution_count": null,
   "id": "embedded-jason",
   "metadata": {
    "ExecuteTime": {
     "end_time": "2021-03-05T07:53:40.977989Z",
     "start_time": "2021-03-05T07:53:30.743Z"
    },
    "scrolled": true
   },
   "outputs": [],
   "source": [
    "# for i in [43, 58, 73, 94, 98, 115]:\n",
    "#     print('#'*80)\n",
    "#     q_list = quePaper.log.q_list.values[i]\n",
    "#     paper_path = quePaper.log.paper_path.values[i]\n",
    "#     page = quePaper.log.page.values[i]\n",
    "#     check_number = quePaper.log.check_number.values[i]\n",
    "    \n",
    "#     quePaper.paper2segments(paper_path)\n",
    "#     quePaper.show_paper(paper_path=paper_path, q_list=q_list, show_border=False, show_rec=True)\n",
    "    \n",
    "#     print('log_index', i)\n",
    "#     print(paper_path)\n",
    "#     print(check_number)\n",
    "#     for j, q in enumerate(q_list):\n",
    "#         [xy_float, text] = [q['xy_float'], q['text']]\n",
    "#         print(j, (xy_float, text))\n",
    "    "
   ]
  },
  {
   "cell_type": "code",
   "execution_count": null,
   "id": "packed-composition",
   "metadata": {
    "ExecuteTime": {
     "end_time": "2021-03-05T07:53:40.979688Z",
     "start_time": "2021-03-05T07:53:30.745Z"
    }
   },
   "outputs": [],
   "source": [
    "# 7, 8, 1, '8', 1, 2\n",
    "# 1, 2, 3, 4, 5, 6, 7, 8, 9, 10, 1, 2, '9', 3, 4, \n",
    "# 8, 9, '6', 10, 1, 1, 2, 3, 4\n",
    "# 1, 2, '6', '8', 3, 4, 5, 6, 7, 8, 9, 10, 1, 2, 3\n",
    "# 1, 2, 3, 4, 5, 6, 7, 8, 9, 10, 1, '6', 2, 3\n",
    "# 10, 1, 1, 2, 3, '8', 4,"
   ]
  },
  {
   "cell_type": "code",
   "execution_count": null,
   "id": "marked-fellow",
   "metadata": {},
   "outputs": [],
   "source": []
  },
  {
   "cell_type": "markdown",
   "id": "systematic-rover",
   "metadata": {},
   "source": [
    "### check number"
   ]
  },
  {
   "cell_type": "code",
   "execution_count": 76,
   "id": "seventh-alpha",
   "metadata": {
    "ExecuteTime": {
     "end_time": "2021-03-05T08:29:31.254483Z",
     "start_time": "2021-03-05T08:29:31.239385Z"
    },
    "scrolled": false
   },
   "outputs": [
    {
     "data": {
      "text/html": [
       "<div>\n",
       "<style scoped>\n",
       "    .dataframe tbody tr th:only-of-type {\n",
       "        vertical-align: middle;\n",
       "    }\n",
       "\n",
       "    .dataframe tbody tr th {\n",
       "        vertical-align: top;\n",
       "    }\n",
       "\n",
       "    .dataframe thead th {\n",
       "        text-align: right;\n",
       "    }\n",
       "</style>\n",
       "<table border=\"1\" class=\"dataframe\">\n",
       "  <thead>\n",
       "    <tr style=\"text-align: right;\">\n",
       "      <th></th>\n",
       "      <th>paper_path</th>\n",
       "      <th>created_time</th>\n",
       "      <th>q_list</th>\n",
       "      <th>page</th>\n",
       "      <th>check_number</th>\n",
       "      <th>check_page</th>\n",
       "      <th>is_split</th>\n",
       "    </tr>\n",
       "  </thead>\n",
       "  <tbody>\n",
       "  </tbody>\n",
       "</table>\n",
       "</div>"
      ],
      "text/plain": [
       "Empty DataFrame\n",
       "Columns: [paper_path, created_time, q_list, page, check_number, check_page, is_split]\n",
       "Index: []"
      ]
     },
     "execution_count": 76,
     "metadata": {},
     "output_type": "execute_result"
    }
   ],
   "source": [
    "df_check_number = quePaper.get_df_check_number()\n",
    "df_check_number"
   ]
  },
  {
   "cell_type": "code",
   "execution_count": 77,
   "id": "unknown-rescue",
   "metadata": {
    "ExecuteTime": {
     "end_time": "2021-03-05T08:29:32.622083Z",
     "start_time": "2021-03-05T08:29:32.609314Z"
    },
    "scrolled": true
   },
   "outputs": [],
   "source": [
    "for i in df_check_number.index[:1]:\n",
    "    print('#'*80)\n",
    "    q_list = quePaper.log.q_list.values[i]\n",
    "    paper_path = quePaper.log.paper_path.values[i]\n",
    "\n",
    "    quePaper.show_paper(paper_path=paper_path, q_list=q_list, show_border=True, show_rec=True)\n",
    "    print('log_index', i)\n",
    "    print(paper_path)\n",
    "    for j, q in enumerate(q_list):\n",
    "        [xy_float, text] = [q['xy_float'], q['text']]\n",
    "        print(j, (xy_float, text))\n",
    "    "
   ]
  },
  {
   "cell_type": "markdown",
   "id": "maritime-favor",
   "metadata": {},
   "source": [
    "#### not delete"
   ]
  },
  {
   "cell_type": "code",
   "execution_count": 63,
   "id": "innocent-hundred",
   "metadata": {
    "ExecuteTime": {
     "end_time": "2021-03-05T08:23:13.101365Z",
     "start_time": "2021-03-05T08:23:13.080055Z"
    }
   },
   "outputs": [],
   "source": [
    "# log_index = 87\n",
    "# check_number='include'\n",
    "# specical_list=[]\n",
    "\n",
    "# quePaper.update_check_number(log_index=log_index, check_number=check_number, specical_list=specical_list)\n"
   ]
  },
  {
   "cell_type": "markdown",
   "id": "worthy-algebra",
   "metadata": {},
   "source": [
    "#### delete"
   ]
  },
  {
   "cell_type": "code",
   "execution_count": null,
   "id": "broken-cylinder",
   "metadata": {},
   "outputs": [],
   "source": [
    "log_index \n",
    "/home/ryh/embedding-match/ocr/datasets/taiwan/13to15/press/108/數學/南一/question/paper/108下-南一國中試卷數學(4)A卷(優等)題-2下---04.png\n",
    "0 ((0.06625357483317446, 0.04261548471047495), '10.')\n",
    "1 ((0.06291706387035272, 0.26284970722186074), '1.')\n",
    "2 ((0.11630123927550047, 0.7260897852960312), '1')\n",
    "3 ((0.5738798856053384, 0.048471047495120365), '2')\n",
    "4 ((0.5724499523355576, 0.20722186076772933), '3')\n",
    "5 (, )\n",
    "6 ((0.5181124880838894, 0.3428757319453481), '4.')"
   ]
  },
  {
   "cell_type": "code",
   "execution_count": 75,
   "id": "confirmed-algebra",
   "metadata": {
    "ExecuteTime": {
     "end_time": "2021-03-05T08:29:27.712212Z",
     "start_time": "2021-03-05T08:29:25.781270Z"
    },
    "scrolled": true
   },
   "outputs": [],
   "source": [
    "# log_index = 115\n",
    "# check_number='delete'\n",
    "\n",
    "# s1 = {}\n",
    "# s1['xy_float'] = (0.5938989513822688, 0.22706571242680545)\n",
    "# s1['text'] = '8.'\n",
    "# s1['paper_path'] = '/home/ryh/embedding-match/ocr/datasets/taiwan/13to15/press/108/數學/南一/question/paper/108下-南一國中試卷數學(4)A卷(優等)題-2下---04.png'\n",
    "# s1['is_include'] = 'exclude'\n",
    "\n",
    "# # s2 = {}\n",
    "# # s2['xy_float'] = (0.1404602109300096, 0.2659188386671066)\n",
    "# # s2['text'] = '8.'\n",
    "# # s2['paper_path'] = '/home/ryh/embedding-match/ocr/datasets/taiwan/13to15/press/108/數學/南一/question/paper/108上[南一]國中試卷-數學五B卷-(中上)-3上（題）---07.png'\n",
    "# # s2['is_include'] = 'exclude'\n",
    "\n",
    "# specical_list = [\n",
    "#     s1, \n",
    "# #     s2\n",
    "# ]\n",
    "\n",
    "# quePaper.update_check_number(log_index=log_index, check_number=check_number, specical_list=specical_list)\n"
   ]
  },
  {
   "cell_type": "code",
   "execution_count": 79,
   "id": "every-juice",
   "metadata": {
    "ExecuteTime": {
     "end_time": "2021-03-05T08:29:51.305077Z",
     "start_time": "2021-03-05T08:29:51.301158Z"
    }
   },
   "outputs": [],
   "source": [
    "# quePaper.special"
   ]
  },
  {
   "cell_type": "code",
   "execution_count": null,
   "id": "asian-incentive",
   "metadata": {},
   "outputs": [],
   "source": []
  },
  {
   "cell_type": "markdown",
   "id": "functional-comedy",
   "metadata": {},
   "source": [
    "### check page"
   ]
  },
  {
   "cell_type": "code",
   "execution_count": null,
   "id": "million-samba",
   "metadata": {
    "ExecuteTime": {
     "end_time": "2021-03-05T06:24:28.498536Z",
     "start_time": "2021-03-05T06:24:28.484735Z"
    },
    "scrolled": true
   },
   "outputs": [],
   "source": [
    "df_check_page = quePaper.get_df_check_page()\n",
    "df_check_page"
   ]
  },
  {
   "cell_type": "code",
   "execution_count": null,
   "id": "headed-submission",
   "metadata": {
    "ExecuteTime": {
     "end_time": "2021-03-05T06:24:31.170083Z",
     "start_time": "2021-03-05T06:24:31.164986Z"
    },
    "scrolled": true
   },
   "outputs": [],
   "source": [
    "# for i in [83]:\n",
    "#     print('#'*80)\n",
    "#     q_list = quePaper.log.q_list.values[i]\n",
    "#     paper_path = quePaper.log.paper_path.values[i]\n",
    "\n",
    "#     quePaper.show_paper(paper_path=paper_path, q_list=q_list, show_border=True, show_rec=True)\n",
    "#     print('log_index', i)\n",
    "#     print(paper_path)\n",
    "#     for j, q in enumerate(q_list):\n",
    "#         [xy_float, text] = [q['xy_float'], q['text']]\n",
    "#         print(j, (xy_float, text))\n",
    "    "
   ]
  },
  {
   "cell_type": "code",
   "execution_count": null,
   "id": "light-spyware",
   "metadata": {
    "ExecuteTime": {
     "end_time": "2021-03-05T06:23:44.909675Z",
     "start_time": "2021-03-05T06:23:44.906571Z"
    }
   },
   "outputs": [],
   "source": [
    "# %%bash \n",
    "# rm \"/home/ryh/embedding-match/ocr/datasets/taiwan/13to15/press/108/數學/南一/question/paper/108上[南一]國中試卷-(三)數學-B卷-(中上)-(題)---33.png\"\n",
    "# rm \"/home/ryh/embedding-match/ocr/datasets/taiwan/13to15/press/108/數學/南一/question/paper/108上[南一]國中試卷-(三)數學-B卷-(中上)-(題)---34.png\"\n"
   ]
  },
  {
   "cell_type": "code",
   "execution_count": null,
   "id": "reflected-abuse",
   "metadata": {
    "ExecuteTime": {
     "end_time": "2021-03-05T06:24:24.755170Z",
     "start_time": "2021-03-05T06:24:24.727396Z"
    },
    "scrolled": true
   },
   "outputs": [],
   "source": [
    "item_list = [\n",
    "    {'index': 83, 'page': '10-2'},\n",
    "#     {'index': 64, 'page': 'delete'},\n",
    "#     {'index': 65, 'page': 'delete'},\n",
    "]\n",
    "\n",
    "# item_list = []\n",
    "\n",
    "quePaper.update_df_check_page(df_check_page, item_list)"
   ]
  },
  {
   "cell_type": "code",
   "execution_count": null,
   "id": "extra-monster",
   "metadata": {
    "ExecuteTime": {
     "end_time": "2021-03-05T04:11:29.398334Z",
     "start_time": "2021-03-05T04:11:29.030518Z"
    },
    "scrolled": true
   },
   "outputs": [],
   "source": [
    "quePaper.log"
   ]
  },
  {
   "cell_type": "code",
   "execution_count": null,
   "id": "color-fortune",
   "metadata": {},
   "outputs": [],
   "source": []
  },
  {
   "cell_type": "code",
   "execution_count": null,
   "id": "nonprofit-admission",
   "metadata": {},
   "outputs": [],
   "source": []
  },
  {
   "cell_type": "code",
   "execution_count": null,
   "id": "acute-creation",
   "metadata": {},
   "outputs": [],
   "source": []
  },
  {
   "cell_type": "markdown",
   "id": "vietnamese-ivory",
   "metadata": {},
   "source": [
    "## segment"
   ]
  },
  {
   "cell_type": "code",
   "execution_count": null,
   "id": "peaceful-disease",
   "metadata": {
    "ExecuteTime": {
     "end_time": "2021-03-04T04:34:13.519405Z",
     "start_time": "2021-03-04T04:34:13.515721Z"
    }
   },
   "outputs": [],
   "source": [
    "class QueSeg:\n",
    "    def __init__(self):\n",
    "        pass"
   ]
  },
  {
   "cell_type": "code",
   "execution_count": null,
   "id": "happy-leisure",
   "metadata": {},
   "outputs": [],
   "source": [
    "[43, 58, 73, 94, 98, 115]"
   ]
  },
  {
   "cell_type": "markdown",
   "id": "usual-balance",
   "metadata": {},
   "source": [
    "# answer"
   ]
  },
  {
   "cell_type": "markdown",
   "id": "documentary-actor",
   "metadata": {},
   "source": [
    "## pdf"
   ]
  },
  {
   "cell_type": "code",
   "execution_count": null,
   "id": "coastal-solid",
   "metadata": {},
   "outputs": [],
   "source": []
  },
  {
   "cell_type": "code",
   "execution_count": null,
   "id": "generic-emphasis",
   "metadata": {},
   "outputs": [],
   "source": []
  },
  {
   "cell_type": "markdown",
   "id": "blond-fitting",
   "metadata": {},
   "source": [
    "## paper"
   ]
  },
  {
   "cell_type": "code",
   "execution_count": null,
   "id": "dependent-transition",
   "metadata": {},
   "outputs": [],
   "source": []
  },
  {
   "cell_type": "code",
   "execution_count": null,
   "id": "modern-stock",
   "metadata": {},
   "outputs": [],
   "source": []
  },
  {
   "cell_type": "markdown",
   "id": "fossil-empire",
   "metadata": {},
   "source": [
    "## segment"
   ]
  },
  {
   "cell_type": "code",
   "execution_count": null,
   "id": "welsh-hypothetical",
   "metadata": {},
   "outputs": [],
   "source": []
  },
  {
   "cell_type": "code",
   "execution_count": null,
   "id": "floating-decision",
   "metadata": {},
   "outputs": [],
   "source": []
  },
  {
   "cell_type": "code",
   "execution_count": null,
   "id": "enclosed-morning",
   "metadata": {},
   "outputs": [],
   "source": []
  },
  {
   "cell_type": "code",
   "execution_count": null,
   "id": "stylish-bishop",
   "metadata": {},
   "outputs": [],
   "source": []
  },
  {
   "cell_type": "code",
   "execution_count": null,
   "id": "entitled-phoenix",
   "metadata": {},
   "outputs": [],
   "source": []
  },
  {
   "cell_type": "code",
   "execution_count": null,
   "id": "flush-browse",
   "metadata": {},
   "outputs": [],
   "source": []
  },
  {
   "cell_type": "code",
   "execution_count": null,
   "id": "wired-handling",
   "metadata": {},
   "outputs": [],
   "source": []
  },
  {
   "cell_type": "code",
   "execution_count": null,
   "id": "brown-field",
   "metadata": {},
   "outputs": [],
   "source": []
  },
  {
   "cell_type": "code",
   "execution_count": null,
   "id": "moving-butter",
   "metadata": {},
   "outputs": [],
   "source": []
  }
 ],
 "metadata": {
  "kernelspec": {
   "display_name": "Python 3",
   "language": "python",
   "name": "python3"
  },
  "language_info": {
   "codemirror_mode": {
    "name": "ipython",
    "version": 3
   },
   "file_extension": ".py",
   "mimetype": "text/x-python",
   "name": "python",
   "nbconvert_exporter": "python",
   "pygments_lexer": "ipython3",
   "version": "3.6.9"
  },
  "toc": {
   "base_numbering": 1,
   "nav_menu": {},
   "number_sections": true,
   "sideBar": true,
   "skip_h1_title": false,
   "title_cell": "Table of Contents",
   "title_sidebar": "Contents",
   "toc_cell": false,
   "toc_position": {
    "height": "calc(100% - 180px)",
    "left": "10px",
    "top": "150px",
    "width": "165px"
   },
   "toc_section_display": true,
   "toc_window_display": true
  }
 },
 "nbformat": 4,
 "nbformat_minor": 5
}
