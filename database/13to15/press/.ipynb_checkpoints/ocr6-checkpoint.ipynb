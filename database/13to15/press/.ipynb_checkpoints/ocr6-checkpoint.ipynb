{
 "cells": [
  {
   "cell_type": "markdown",
   "metadata": {
    "heading_collapsed": true
   },
   "source": [
    "# remove folder"
   ]
  },
  {
   "cell_type": "code",
   "execution_count": 3,
   "metadata": {
    "ExecuteTime": {
     "end_time": "2021-03-30T05:15:43.376976Z",
     "start_time": "2021-03-30T05:15:43.373394Z"
    },
    "hidden": true
   },
   "outputs": [],
   "source": [
    "import os\n",
    "from glob import glob\n",
    "import shutil"
   ]
  },
  {
   "cell_type": "code",
   "execution_count": null,
   "metadata": {
    "hidden": true
   },
   "outputs": [],
   "source": [
    "path = '/home/ryh/embedding-match/ocr/datasets/taiwan/13to15/press/108/數學/南一/answer'"
   ]
  },
  {
   "cell_type": "code",
   "execution_count": 8,
   "metadata": {
    "ExecuteTime": {
     "end_time": "2021-03-30T05:17:33.731761Z",
     "start_time": "2021-03-30T05:17:33.724434Z"
    },
    "hidden": true
   },
   "outputs": [
    {
     "data": {
      "text/plain": [
       "['/home/ryh/embedding-match/ocr/datasets/taiwan/13to15/press/108/數學/翰林/answer/pdf',\n",
       " '/home/ryh/embedding-match/ocr/datasets/taiwan/13to15/press/108/數學/翰林/question/pdf',\n",
       " '/home/ryh/embedding-match/ocr/datasets/taiwan/13to15/press/108/數學/南一/answer/pdf',\n",
       " '/home/ryh/embedding-match/ocr/datasets/taiwan/13to15/press/108/數學/南一/question/pdf',\n",
       " '/home/ryh/embedding-match/ocr/datasets/taiwan/13to15/press/108/數學/康軒/answer/pdf',\n",
       " '/home/ryh/embedding-match/ocr/datasets/taiwan/13to15/press/108/數學/康軒/question/pdf']"
      ]
     },
     "execution_count": 8,
     "metadata": {},
     "output_type": "execute_result"
    }
   ],
   "source": [
    "path_list = glob('/home/ryh/embedding-match/ocr/datasets/taiwan/13to15/press/108/數學/*/*/*')\n",
    "path_list"
   ]
  },
  {
   "cell_type": "code",
   "execution_count": 9,
   "metadata": {
    "ExecuteTime": {
     "end_time": "2021-03-30T05:17:41.461615Z",
     "start_time": "2021-03-30T05:17:41.457248Z"
    },
    "hidden": true
   },
   "outputs": [],
   "source": [
    "# for path in path_list:\n",
    "#     if path.split('/')[-1] != 'pdf':\n",
    "#         print(path)\n",
    "#         shutil.rmtree(path)"
   ]
  },
  {
   "cell_type": "code",
   "execution_count": null,
   "metadata": {
    "hidden": true
   },
   "outputs": [],
   "source": []
  },
  {
   "cell_type": "markdown",
   "metadata": {},
   "source": [
    "# pdf to images\n"
   ]
  },
  {
   "cell_type": "code",
   "execution_count": 3,
   "metadata": {
    "ExecuteTime": {
     "end_time": "2021-04-01T09:56:55.637770Z",
     "start_time": "2021-04-01T09:56:55.633567Z"
    }
   },
   "outputs": [],
   "source": [
    "import os\n",
    "from glob import glob\n",
    "from pdf2image import convert_from_path"
   ]
  },
  {
   "cell_type": "code",
   "execution_count": 4,
   "metadata": {
    "ExecuteTime": {
     "end_time": "2021-04-01T09:56:55.661103Z",
     "start_time": "2021-04-01T09:56:55.645162Z"
    }
   },
   "outputs": [],
   "source": [
    "class PdfUtil:\n",
    "    def __init__(self):\n",
    "        pass\n",
    "    \n",
    "    def rename(self, old):\n",
    "        # 全形轉半形（ => (\n",
    "        #old = '/home/ryh/embedding-match/ocr/datasets/taiwan/13to15/press/108/數學/南一/answer/pdf/108上[南一]國中試卷-數學五A卷-(優等)-3上（答）.pdf'\n",
    "        new = old.replace('（', '(').replace('）', ')')\n",
    "        os.rename(old, new)\n",
    "    \n",
    "    def get_pdf_path_list(self, year='*', subject='*', press='*', qa='*'):\n",
    "        d = './datasets/%s/%s/%s/%s/pdf/*.pdf'%(year, subject, press, qa)\n",
    "        pdf_path_list = sorted(glob(d))\n",
    "        return pdf_path_list\n",
    "    \n",
    "    def pdf_to_images(self, pdf_path):\n",
    "        images = convert_from_path(pdf_path)\n",
    "        \n",
    "        if self.is_pdf_already_process(pdf_path, images): \n",
    "            print(' ----------- already process ----------- ')\n",
    "            print(pdf_path)\n",
    "            return \n",
    "\n",
    "        old_dirname = os.path.dirname(pdf_path)\n",
    "        old_basename = os.path.basename(pdf_path)\n",
    "\n",
    "        new_dirname = old_dirname.replace('pdf', 'paper')\n",
    "        os.makedirs(new_dirname, exist_ok=True)\n",
    "        for i, image in enumerate(images):     \n",
    "            #print(i+1, len(images), end='\\r')\n",
    "            new_basename = old_basename.replace('.pdf', '') + '---%02d'%(i+1) + '.png' \n",
    "            img_path = os.path.join(new_dirname, new_basename)\n",
    "            image.save(img_path, 'PNG')\n",
    "            \n",
    "    def is_pdf_already_process(self, pdf_path, images):\n",
    "        i = len(images) - 1\n",
    "        \n",
    "        old_dirname = os.path.dirname(pdf_path)\n",
    "        old_basename = os.path.basename(pdf_path)\n",
    "        new_dirname = old_dirname.replace('pdf', 'paper')\n",
    "        new_basename = old_basename.replace('.pdf', '') + '---%02d'%(i+1) + '.png' \n",
    "        img_path = os.path.join(new_dirname, new_basename)\n",
    "        return os.path.isfile(img_path) \n",
    "        "
   ]
  },
  {
   "cell_type": "code",
   "execution_count": 5,
   "metadata": {
    "ExecuteTime": {
     "end_time": "2021-04-01T09:56:55.684529Z",
     "start_time": "2021-04-01T09:56:55.668807Z"
    }
   },
   "outputs": [],
   "source": [
    "pdfUtil = PdfUtil()"
   ]
  },
  {
   "cell_type": "markdown",
   "metadata": {},
   "source": [
    "## rename"
   ]
  },
  {
   "cell_type": "code",
   "execution_count": null,
   "metadata": {},
   "outputs": [],
   "source": [
    "# 108上[南一]國中試卷-數學（一）-B卷-(中上)-答.pdf"
   ]
  },
  {
   "cell_type": "code",
   "execution_count": 6,
   "metadata": {
    "ExecuteTime": {
     "end_time": "2021-04-01T09:56:57.687606Z",
     "start_time": "2021-04-01T09:56:57.632941Z"
    }
   },
   "outputs": [
    {
     "data": {
      "text/plain": [
       "118"
      ]
     },
     "execution_count": 6,
     "metadata": {},
     "output_type": "execute_result"
    }
   ],
   "source": [
    "pdf_list = pdfUtil.get_pdf_path_list(year='*', subject='數學', press='*', qa='*')\n",
    "len(pdf_list)"
   ]
  },
  {
   "cell_type": "code",
   "execution_count": 9,
   "metadata": {
    "ExecuteTime": {
     "end_time": "2021-04-01T09:57:18.486924Z",
     "start_time": "2021-04-01T09:57:18.483775Z"
    }
   },
   "outputs": [],
   "source": [
    "# pdf_list"
   ]
  },
  {
   "cell_type": "code",
   "execution_count": 7,
   "metadata": {
    "ExecuteTime": {
     "end_time": "2021-04-01T09:57:03.347695Z",
     "start_time": "2021-04-01T09:57:03.343938Z"
    }
   },
   "outputs": [],
   "source": [
    "# for old in pdf_list:\n",
    "#     pdfUtil.rename(old)"
   ]
  },
  {
   "cell_type": "markdown",
   "metadata": {},
   "source": [
    "## pdf_to_images"
   ]
  },
  {
   "cell_type": "code",
   "execution_count": 11,
   "metadata": {
    "ExecuteTime": {
     "end_time": "2021-04-01T09:57:40.609049Z",
     "start_time": "2021-04-01T09:57:40.603654Z"
    }
   },
   "outputs": [],
   "source": [
    "# for i, pdf in enumerate(pdf_list):\n",
    "#     print(i+1, len(pdf_list), end='\\r')\n",
    "#     pdfUtil.pdf_to_images(pdf)\n",
    "    "
   ]
  },
  {
   "cell_type": "markdown",
   "metadata": {},
   "source": [
    "# upload files to GCS"
   ]
  },
  {
   "cell_type": "code",
   "execution_count": 19,
   "metadata": {
    "ExecuteTime": {
     "end_time": "2021-04-01T10:06:36.868011Z",
     "start_time": "2021-04-01T10:06:36.864205Z"
    }
   },
   "outputs": [],
   "source": [
    "from google.cloud import storage\n",
    "import os\n",
    "from glob import glob"
   ]
  },
  {
   "cell_type": "code",
   "execution_count": 23,
   "metadata": {
    "ExecuteTime": {
     "end_time": "2021-04-01T10:13:31.595515Z",
     "start_time": "2021-04-01T10:13:31.072328Z"
    },
    "scrolled": true
   },
   "outputs": [],
   "source": [
    "class GcsUtil:\n",
    "    def __init__(self, bucket_name='easy-ocr2'):\n",
    "        self.storage_client = storage.Client()\n",
    "        self.bucket_name = bucket_name\n",
    "        self.bucket = self.storage_client.bucket(self.bucket_name)\n",
    "        self.setup_done_file()\n",
    "    \n",
    "    def get_paper_path_list(self, year='*', subject='*', press='*', qa='*'):\n",
    "        d = './datasets/%s/%s/%s/%s/paper/*.png'%(year, subject, press, qa)\n",
    "        paper_path_list = sorted(glob(d))\n",
    "        return paper_path_list\n",
    "\n",
    "    def setup_done_file(self):\n",
    "        blobs = self.storage_client.list_blobs(self.bucket_name, prefix='datasets/')\n",
    "        blob_list = list(blobs)\n",
    "        file_list = [os.path.basename(blob.name) for blob in blob_list]        \n",
    "        self.done_file = set(file_list)\n",
    "    \n",
    "    def upload_blob(self, local_path):         \n",
    "        remote_path = local_path[local_path.index('datasets'):] # 刪掉datasets以前的字\n",
    "        blob = self.bucket.blob(remote_path)\n",
    "        \n",
    "        if os.path.basename(local_path) in self.done_file:\n",
    "            print(' ----------- already upload ----------- ')\n",
    "            print(local_path)\n",
    "            pass\n",
    "        else:\n",
    "            blob.upload_from_filename(local_path)\n",
    "            \n",
    "gcsUtil = GcsUtil(bucket_name='easy-ocr2')\n"
   ]
  },
  {
   "cell_type": "markdown",
   "metadata": {
    "heading_collapsed": true
   },
   "source": [
    "## rename\n",
    "- 假如pdf就改名了，這裡就不用做"
   ]
  },
  {
   "cell_type": "code",
   "execution_count": 24,
   "metadata": {
    "ExecuteTime": {
     "end_time": "2021-04-01T10:13:31.605526Z",
     "start_time": "2021-04-01T10:13:31.599587Z"
    },
    "hidden": true
   },
   "outputs": [],
   "source": [
    "# paper_path_list = gcsUtil.get_paper_path_list()\n",
    "# len(paper_path_list)"
   ]
  },
  {
   "cell_type": "code",
   "execution_count": 25,
   "metadata": {
    "ExecuteTime": {
     "end_time": "2021-04-01T10:13:31.622845Z",
     "start_time": "2021-04-01T10:13:31.611484Z"
    },
    "hidden": true
   },
   "outputs": [],
   "source": [
    "# for old in paper_path_list:\n",
    "#     pdfUtil.rename(old)"
   ]
  },
  {
   "cell_type": "markdown",
   "metadata": {},
   "source": [
    "## upload_blob"
   ]
  },
  {
   "cell_type": "code",
   "execution_count": 26,
   "metadata": {
    "ExecuteTime": {
     "end_time": "2021-04-01T10:13:31.656814Z",
     "start_time": "2021-04-01T10:13:31.626116Z"
    }
   },
   "outputs": [
    {
     "data": {
      "text/plain": [
       "2998"
      ]
     },
     "execution_count": 26,
     "metadata": {},
     "output_type": "execute_result"
    }
   ],
   "source": [
    "paper_path_list = gcsUtil.get_paper_path_list()\n",
    "len(paper_path_list)"
   ]
  },
  {
   "cell_type": "code",
   "execution_count": 28,
   "metadata": {
    "ExecuteTime": {
     "end_time": "2021-04-01T10:13:42.917888Z",
     "start_time": "2021-04-01T10:13:42.913634Z"
    },
    "scrolled": true
   },
   "outputs": [],
   "source": [
    "# for i, paper_path in enumerate(paper_path_list[:]):\n",
    "#     print(i+1, len(paper_path_list), end='\\r')\n",
    "#     gcsUtil.upload_blob(paper_path)\n",
    "    "
   ]
  },
  {
   "cell_type": "markdown",
   "metadata": {},
   "source": [
    "# input_file.csv \n",
    "- https://cloud.google.com/ai-platform-unified/docs/datasets/prepare-image"
   ]
  },
  {
   "cell_type": "code",
   "execution_count": null,
   "metadata": {},
   "outputs": [],
   "source": [
    "把所有paper扣掉已經在input_file裡面的"
   ]
  },
  {
   "cell_type": "code",
   "execution_count": 29,
   "metadata": {
    "ExecuteTime": {
     "end_time": "2021-04-01T10:13:51.221665Z",
     "start_time": "2021-04-01T10:13:49.714029Z"
    }
   },
   "outputs": [],
   "source": [
    "from google.cloud import storage\n",
    "import pandas as pd\n",
    "from glob import glob\n",
    "import os\n",
    "import re"
   ]
  },
  {
   "cell_type": "code",
   "execution_count": 92,
   "metadata": {
    "ExecuteTime": {
     "end_time": "2021-04-01T10:32:34.934220Z",
     "start_time": "2021-04-01T10:32:34.921051Z"
    }
   },
   "outputs": [],
   "source": [
    "class LabelUtil:\n",
    "    def __init__(self, bucket_name='easy-ocr'):\n",
    "        self.storage_client = storage.Client()\n",
    "        self.bucket_name = bucket_name\n",
    "        \n",
    "    def get_all_uri(self):\n",
    "        blobs = self.storage_client.list_blobs(self.bucket_name, prefix='datasets/')\n",
    "        blob_list = list(blobs)\n",
    "        uri_list = ['gs://' + self.bucket_name + '/' + blob.name for blob in blob_list]        \n",
    "        return set(uri_list)\n",
    "        \n",
    "    def get_done_uri(self):\n",
    "        done_uri = []\n",
    "        path_list = glob('./input_file/*.csv')\n",
    "        for path in path_list:\n",
    "            with open(path, 'r') as f:\n",
    "                uris = f.read().splitlines() \n",
    "                done_uri += uris\n",
    "        return set(done_uri)\n",
    "    \n",
    "    def get_todo_url(self):\n",
    "        done_uri = self.get_done_uri()\n",
    "        all_uri = self.get_all_uri()\n",
    "        todo_url = list(all_uri - done_uri)\n",
    "        todo_url = sorted(todo_url)\n",
    "        return todo_url\n",
    "    \n",
    "    def get_filter_uri(self, uri_list, year='*', subject='*', press='*', qa='*'):\n",
    "        filter_uri = []\n",
    "        \n",
    "        for uri in uri_list:\n",
    "            split_index = uri.index('datasets/') + len('datasets/')\n",
    "            uri_ = uri[split_index:] # 刪掉datasets以前的字\n",
    "            year_, subject_, press_, qa_, _, _ = uri_.split('/')\n",
    "            c1 = year != '*' and year != year_\n",
    "            c2 = subject != '*' and subject != subject_\n",
    "            c3 = press != '*' and press != press_\n",
    "            c4 = qa != '*' and qa != qa_\n",
    "            if c1 or c2 or c3 or c4:\n",
    "                continue\n",
    "            filter_uri.append(uri)\n",
    "        filter_uri = sorted(filter_uri)\n",
    "        return filter_uri\n",
    "    \n",
    "    def save_uri(self, uri_list, save_path):\n",
    "        df = pd.DataFrame()\n",
    "        df['GCS_FILE_PATH'] = uri_list\n",
    "        df.to_csv(save_path, header=False, index=False)\n",
    "        \n",
    "labelUtil = LabelUtil(bucket_name='easy-ocr2')"
   ]
  },
  {
   "cell_type": "code",
   "execution_count": 93,
   "metadata": {
    "ExecuteTime": {
     "end_time": "2021-04-01T10:32:34.941920Z",
     "start_time": "2021-04-01T10:32:34.936844Z"
    }
   },
   "outputs": [],
   "source": [
    "# labelUtil.get_done_uri()"
   ]
  },
  {
   "cell_type": "code",
   "execution_count": 94,
   "metadata": {
    "ExecuteTime": {
     "end_time": "2021-04-01T10:32:35.425351Z",
     "start_time": "2021-04-01T10:32:34.944532Z"
    },
    "scrolled": true
   },
   "outputs": [
    {
     "data": {
      "text/plain": [
       "0"
      ]
     },
     "execution_count": 94,
     "metadata": {},
     "output_type": "execute_result"
    }
   ],
   "source": [
    "todo_url = labelUtil.get_todo_url()\n",
    "len(todo_url)"
   ]
  },
  {
   "cell_type": "code",
   "execution_count": 103,
   "metadata": {
    "ExecuteTime": {
     "end_time": "2021-04-01T10:35:28.284306Z",
     "start_time": "2021-04-01T10:35:28.277389Z"
    },
    "scrolled": true
   },
   "outputs": [
    {
     "name": "stdout",
     "output_type": "stream",
     "text": [
      "num = 0\n",
      "num = 0\n",
      "num = 0\n"
     ]
    }
   ],
   "source": [
    "for year in ['108']:\n",
    "    for subject in ['數學']: # ['數學']\n",
    "        for press in ['南一', '康軒', '翰林']: # ['南一', '康軒', '翰林']\n",
    "            for qa in ['*']:\n",
    "                filter_uri = labelUtil.get_filter_uri(todo_url, year, subject, press, qa)\n",
    "                num = len(filter_uri)\n",
    "                save_path = './input_file/%s_%s_%s.csv'%(year, press, num)\n",
    "\n",
    "                if num == 0: \n",
    "                    print('num = 0')\n",
    "                    break\n",
    "                \n",
    "                if os.path.isfile(save_path) == False:\n",
    "                    labelUtil.save_uri(filter_uri, save_path)"
   ]
  },
  {
   "cell_type": "code",
   "execution_count": null,
   "metadata": {
    "ExecuteTime": {
     "end_time": "2021-04-01T10:30:21.645832Z",
     "start_time": "2021-04-01T10:30:21.641348Z"
    }
   },
   "outputs": [],
   "source": []
  },
  {
   "cell_type": "code",
   "execution_count": null,
   "metadata": {
    "ExecuteTime": {
     "end_time": "2021-04-01T10:30:41.458895Z",
     "start_time": "2021-04-01T10:30:41.454159Z"
    }
   },
   "outputs": [],
   "source": []
  },
  {
   "cell_type": "markdown",
   "metadata": {},
   "source": [
    "# split image to segments"
   ]
  },
  {
   "cell_type": "code",
   "execution_count": 10,
   "metadata": {
    "ExecuteTime": {
     "end_time": "2021-04-01T16:07:46.234762Z",
     "start_time": "2021-04-01T16:07:46.231310Z"
    }
   },
   "outputs": [],
   "source": [
    "import os\n",
    "import json\n",
    "import chardet\n",
    "import matplotlib.pyplot as plt\n",
    "import matplotlib.image as mpimg"
   ]
  },
  {
   "cell_type": "code",
   "execution_count": 25,
   "metadata": {
    "ExecuteTime": {
     "end_time": "2021-04-01T16:10:34.104092Z",
     "start_time": "2021-04-01T16:10:34.089776Z"
    }
   },
   "outputs": [],
   "source": [
    "class SegUtil:\n",
    "    def __init__(self):\n",
    "        pass\n",
    "    \n",
    "    def get_paperInfo_list(self, output_file_path):\n",
    "        with open(output_file_path) as f:\n",
    "            row_list = f.readlines()\n",
    "        paperInfo_list = []\n",
    "        for row in row_list:\n",
    "            d = json.loads(row)\n",
    "            imageGcsUri = d['imageGcsUri']\n",
    "            imageGcsUri = imageGcsUri.encode('l1').decode('utf-8')\n",
    "            imageGcsUri = imageGcsUri[imageGcsUri.index('datasets'):] # 刪掉datasets以前的字 \n",
    "            imageGcsUri = os.path.join('.', imageGcsUri)\n",
    "            d['imageGcsUri'] = imageGcsUri\n",
    "            paperInfo_list.append(d)\n",
    "        return paperInfo_list\n",
    "    \n",
    "    def paper_to_segments(self, paperInfo):\n",
    "        paper_path = paperInfo['imageGcsUri']\n",
    "        img = mpimg.imread(paper_path)\n",
    "        img_height, img_width = img.shape[0], img.shape[1]\n",
    "        \n",
    "        old_dirname = os.path.dirname(paper_path)\n",
    "        new_dirname = old_dirname.replace('paper', 'seg')\n",
    "        old_basename = os.path.basename(paper_path)\n",
    "        \n",
    "        os.makedirs(new_dirname, exist_ok=True) #?\n",
    "        \n",
    "        if 'boundingBoxAnnotations' not in paperInfo: \n",
    "            print(' ----------- no box_list ----------- ')\n",
    "            print(paper_path)\n",
    "            return\n",
    "        \n",
    "        box_list = paperInfo['boundingBoxAnnotations']\n",
    "        box_list = sorted(box_list, key=(lambda x: x['yMax']), reverse=True) # 從底部往上\n",
    "        for box in box_list: # 假如沒有box 啥都沒做\n",
    "            displayName = box['displayName']\n",
    "            if 'w' in displayName:\n",
    "                ch = displayName.split('w')[0] # 第幾回\n",
    "            else:\n",
    "                name = ch + '_' + displayName.replace('q', '_') # 14_4_2\n",
    "                new_basename = old_basename.split('---')[0] + '---' + name + '.png' # 108上[南一]國中試卷-(三)數學-A卷-(優等)-(答)---01.png\n",
    "                path = os.path.join(new_dirname, new_basename)\n",
    "                \n",
    "                if os.path.isfile(path):\n",
    "                    #print(' ----------- already exist ----------- ')\n",
    "                    #print(path)\n",
    "                    continue\n",
    "\n",
    "                xMax, xMin, yMax, yMin = box['xMax'], box['xMin'], box['yMax'], box['yMin']\n",
    "                xMax, xMin = int(xMax*img_width), int(xMin*img_width)\n",
    "                yMax, yMin = int(yMax*img_height), int(yMin*img_height)\n",
    "                seg = img[yMin:yMax, xMin:xMax, :]\n",
    "                \n",
    "                plt.imsave(path, seg)\n",
    "\n",
    "segUtil = SegUtil()\n"
   ]
  },
  {
   "cell_type": "code",
   "execution_count": 29,
   "metadata": {
    "ExecuteTime": {
     "end_time": "2021-04-01T16:10:43.902850Z",
     "start_time": "2021-04-01T16:10:43.881735Z"
    }
   },
   "outputs": [
    {
     "data": {
      "text/plain": [
       "1322"
      ]
     },
     "execution_count": 29,
     "metadata": {},
     "output_type": "execute_result"
    }
   ],
   "source": [
    "output_file_path = './output_file/output_file_export-data-108_康軒_1322-2021-04-01T16_02_48.388920Z_image_bounding_box_108_康軒_1322_iod-5893153626460782592_data-00001-of-00001.jsonl'\n",
    "paperInfo_list = segUtil.get_paperInfo_list(output_file_path)\n",
    "len(paperInfo_list)\n"
   ]
  },
  {
   "cell_type": "code",
   "execution_count": 32,
   "metadata": {
    "ExecuteTime": {
     "end_time": "2021-04-01T16:10:57.884940Z",
     "start_time": "2021-04-01T16:10:57.881892Z"
    },
    "scrolled": true
   },
   "outputs": [],
   "source": [
    "paperInfo = paperInfo_list[2]\n",
    "# paperInfo\n"
   ]
  },
  {
   "cell_type": "code",
   "execution_count": 33,
   "metadata": {
    "ExecuteTime": {
     "end_time": "2021-04-01T16:10:58.139564Z",
     "start_time": "2021-04-01T16:10:57.888121Z"
    },
    "scrolled": true
   },
   "outputs": [
    {
     "name": "stdout",
     "output_type": "stream",
     "text": [
      " ----------- no box_list ----------- \n",
      "./datasets/108/數學/康軒/answer/paper/108下-康軒國中試卷數學(4)C卷答---11.png\n"
     ]
    }
   ],
   "source": [
    "segUtil.paper_to_segments(paperInfo)"
   ]
  },
  {
   "cell_type": "code",
   "execution_count": null,
   "metadata": {},
   "outputs": [],
   "source": []
  },
  {
   "cell_type": "code",
   "execution_count": null,
   "metadata": {},
   "outputs": [],
   "source": []
  },
  {
   "cell_type": "code",
   "execution_count": null,
   "metadata": {},
   "outputs": [],
   "source": []
  },
  {
   "cell_type": "code",
   "execution_count": null,
   "metadata": {},
   "outputs": [],
   "source": []
  },
  {
   "cell_type": "code",
   "execution_count": null,
   "metadata": {},
   "outputs": [],
   "source": []
  },
  {
   "cell_type": "code",
   "execution_count": 34,
   "metadata": {
    "ExecuteTime": {
     "end_time": "2021-04-01T16:21:05.916822Z",
     "start_time": "2021-04-01T16:21:05.910950Z"
    }
   },
   "outputs": [
    {
     "data": {
      "text/plain": [
       "'108下-康軒國中試卷數學(4)A卷(優等)答-2下---18.png'"
      ]
     },
     "execution_count": 34,
     "metadata": {},
     "output_type": "execute_result"
    }
   ],
   "source": [
    "def decode_txt(txt):\n",
    "    txt = txt.encode('l1').decode('utf-8')\n",
    "    return txt\n",
    "\n",
    "txt = '108ä¸-åº·è»åä¸­è©¦å·æ¸å­¸(4)Aå·(åªç­)ç­-2ä¸---18.png'\n",
    "decode_txt(txt)"
   ]
  },
  {
   "cell_type": "code",
   "execution_count": null,
   "metadata": {},
   "outputs": [],
   "source": []
  },
  {
   "cell_type": "code",
   "execution_count": null,
   "metadata": {},
   "outputs": [],
   "source": []
  }
 ],
 "metadata": {
  "kernelspec": {
   "display_name": "Python 3",
   "language": "python",
   "name": "python3"
  },
  "language_info": {
   "codemirror_mode": {
    "name": "ipython",
    "version": 3
   },
   "file_extension": ".py",
   "mimetype": "text/x-python",
   "name": "python",
   "nbconvert_exporter": "python",
   "pygments_lexer": "ipython3",
   "version": "3.7.6"
  },
  "toc": {
   "base_numbering": 1,
   "nav_menu": {},
   "number_sections": true,
   "sideBar": true,
   "skip_h1_title": false,
   "title_cell": "Table of Contents",
   "title_sidebar": "Contents",
   "toc_cell": false,
   "toc_position": {
    "height": "calc(100% - 180px)",
    "left": "10px",
    "top": "150px",
    "width": "166px"
   },
   "toc_section_display": true,
   "toc_window_display": true
  }
 },
 "nbformat": 4,
 "nbformat_minor": 5
}
