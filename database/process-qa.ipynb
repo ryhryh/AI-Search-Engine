{
 "cells": [
  {
   "cell_type": "markdown",
   "metadata": {},
   "source": [
    "# QaUtil"
   ]
  },
  {
   "cell_type": "code",
   "execution_count": 1,
   "metadata": {
    "ExecuteTime": {
     "end_time": "2021-04-04T15:56:56.360078Z",
     "start_time": "2021-04-04T15:56:55.991763Z"
    }
   },
   "outputs": [],
   "source": [
    "from google.cloud import storage, vision, datastore\n",
    "import requests\n",
    "import json\n",
    "import uuid\n",
    "import os\n",
    "from datetime import datetime"
   ]
  },
  {
   "cell_type": "code",
   "execution_count": 2,
   "metadata": {
    "ExecuteTime": {
     "end_time": "2021-04-04T15:56:57.274376Z",
     "start_time": "2021-04-04T15:56:56.362685Z"
    }
   },
   "outputs": [],
   "source": [
    "class QaUtil:\n",
    "    def __init__(self, bucket_name='easy666', language_list=['zh-Hant', 'en'], kind='Qa'):\n",
    "        self.setup_GCS(bucket_name)\n",
    "        self.setup_vision(language_list)\n",
    "        self.setup_fb()\n",
    "        self.setup_GDS(kind)\n",
    "        \n",
    "    def setup_GCS(self, bucket_name):\n",
    "        self.bucket_name = bucket_name\n",
    "        self.storage_client = storage.Client()\n",
    "        self.bucket = self.storage_client.bucket(bucket_name)\n",
    "        \n",
    "    def setup_vision(self, language_list):\n",
    "        self.vision_client = vision.ImageAnnotatorClient()\n",
    "        self.language_list = language_list\n",
    "        \n",
    "    def setup_GDS(self, kind):\n",
    "        self.datastore_client = datastore.Client()\n",
    "        self.kind = kind\n",
    "        self.done_q = self.get_done_q(self.kind)\n",
    "        \n",
    "    def setup_fb(self):\n",
    "        token_path = '/home/ryh/dummy/fb-cred.json'\n",
    "        self.fb_group = '1130779454042657'\n",
    "        \n",
    "        with open(token_path) as f:\n",
    "            token_dict = json.load(f)\n",
    "        self.fb_token = token_dict['access_token']\n",
    "        \n",
    "    def process_qa(self, q_path, a_path):\n",
    "        if self.is_question_exist(q_path): \n",
    "            print(' --------------- exist --------------- ')\n",
    "            print(q_path)\n",
    "            return\n",
    "        \n",
    "        self.a_id = self.upload_to_GCS_image_file(a_path)\n",
    "        self.q_id = self.upload_to_GCS_image_file(q_path)\n",
    "        self.q_text = self.detect_text(q_path)\n",
    "        self.fb_url = self.get_discuss_url(message='-')\n",
    "        self.upload_to_GDS(self.kind, q_path)\n",
    "    \n",
    "    def is_question_exist(self, q_path):\n",
    "        question_name = os.path.basename(q_path)\n",
    "        return question_name in self.done_q\n",
    "        \n",
    "    def get_done_q(self, kind):\n",
    "        query = self.datastore_client.query(kind=kind)\n",
    "        done_q = set([q['question_name'] for q in query.fetch()])\n",
    "        return done_q\n",
    "    \n",
    "    def upload_to_GCS_image_file(self, image_path, is_public=True):\n",
    "        image_ID = str(uuid.uuid4().hex)\n",
    "        blob_name = os.path.join('image_file', image_ID)\n",
    "        blob = self.bucket.blob(blob_name)\n",
    "        blob.upload_from_filename(image_path, content_type='image/png')\n",
    "        if is_public: \n",
    "            blob.make_public()  \n",
    "        return image_ID \n",
    "    \n",
    "    def read_image(self, image_path):\n",
    "        with open(image_path, \"rb\") as f:\n",
    "            image_bytes = f.read()\n",
    "        return image_bytes\n",
    "    \n",
    "    def detect_text(self, image_path):\n",
    "        image_bytes = self.read_image(image_path)\n",
    "        image = vision.Image(content=image_bytes)\n",
    "        image_context={\"language_hints\": self.language_list}\n",
    "        r = self.vision_client.text_detection(\n",
    "            image=image, \n",
    "            image_context=image_context, \n",
    "        )\n",
    "        text_annotations = r.text_annotations\n",
    "        \n",
    "        if len(text_annotations) != 0: \n",
    "            annotation = text_annotations[0] \n",
    "            description = annotation.description\n",
    "        else:\n",
    "            description = 'xxx'\n",
    "        return description\n",
    "    \n",
    "    def get_discuss_url(self, message='-', link=None):\n",
    "        url = \"https://graph.facebook.com/v9.0/%s/feed\"%(self.fb_group)\n",
    "        headers = {}\n",
    "        params = {'message': message, 'access_token': self.fb_token}\n",
    "        if link != None:\n",
    "            params['link'] = link\n",
    "        response = requests.request(\"POST\", url, headers=headers, params=params)\n",
    "        result_dict = json.loads(response.text)\n",
    "        group_id, post_id =  result_dict['id'].split('_')\n",
    "        discuss_url = 'https://www.facebook.com/groups/%s/permalink/%s/'%(group_id, post_id)\n",
    "        return discuss_url\n",
    "    \n",
    "    def upload_to_GDS(self, kind, q_path):\n",
    "        question_name = os.path.basename(q_path)\n",
    "        name = self.q_id\n",
    "        key = self.datastore_client.key(kind, name)\n",
    "        entity = datastore.Entity(key=key)\n",
    "        entity['answer_id'] = self.a_id\n",
    "        entity['question_id'] = self.q_id\n",
    "        entity['question_text'] = self.q_text\n",
    "        entity['fb_url'] = self.fb_url\n",
    "        entity['question_name'] = question_name\n",
    "        entity['created_time'] = datetime.now()\n",
    "        entity['vector_time'] = 'x'\n",
    "        self.datastore_client.put(entity)\n",
    "        \n",
    "        self.done_q.add(question_name)\n",
    "    \n",
    "qaUtil = QaUtil(bucket_name='easy666')"
   ]
  },
  {
   "cell_type": "code",
   "execution_count": null,
   "metadata": {
    "ExecuteTime": {
     "end_time": "2021-04-04T14:34:45.226455Z",
     "start_time": "2021-04-04T14:34:45.223616Z"
    }
   },
   "outputs": [],
   "source": [
    "# done_q = qaUtil.get_done_q('Qa')\n",
    "# done_q"
   ]
  },
  {
   "cell_type": "markdown",
   "metadata": {},
   "source": [
    "# upload q / a to GCS \n",
    "- 直接改bucket的權限 (uniform) vs 每張圖片改權限 (fine-grained) https://cloud.google.com/storage/docs/uniform-bucket-level-access"
   ]
  },
  {
   "cell_type": "code",
   "execution_count": null,
   "metadata": {
    "ExecuteTime": {
     "end_time": "2021-04-03T15:29:38.248022Z",
     "start_time": "2021-04-03T15:29:38.244005Z"
    }
   },
   "outputs": [],
   "source": [
    "q_path = '/home/ryh/embedding-match/database/13to15/cap/數學/91 基測2-數學-que-1-31.png'\n",
    "a_path = q_path.replace('que', 'ans')\n"
   ]
  },
  {
   "cell_type": "code",
   "execution_count": null,
   "metadata": {
    "ExecuteTime": {
     "end_time": "2021-04-03T15:30:42.988951Z",
     "start_time": "2021-04-03T15:30:42.506929Z"
    },
    "scrolled": true
   },
   "outputs": [],
   "source": [
    "qaUtil.upload_to_GCS_image_file(q_path)"
   ]
  },
  {
   "cell_type": "markdown",
   "metadata": {},
   "source": [
    "# detect text for q"
   ]
  },
  {
   "cell_type": "code",
   "execution_count": null,
   "metadata": {
    "ExecuteTime": {
     "end_time": "2021-04-03T15:33:08.867818Z",
     "start_time": "2021-04-03T15:33:08.568627Z"
    }
   },
   "outputs": [],
   "source": [
    "qaUtil.detect_text(q_path)"
   ]
  },
  {
   "cell_type": "code",
   "execution_count": null,
   "metadata": {},
   "outputs": [],
   "source": []
  },
  {
   "cell_type": "markdown",
   "metadata": {},
   "source": [
    "# create fb post"
   ]
  },
  {
   "cell_type": "code",
   "execution_count": null,
   "metadata": {
    "ExecuteTime": {
     "end_time": "2021-04-04T03:51:30.614731Z",
     "start_time": "2021-04-04T03:51:29.358606Z"
    }
   },
   "outputs": [],
   "source": [
    "qaUtil.get_discuss_url(message='fuck')"
   ]
  },
  {
   "cell_type": "code",
   "execution_count": null,
   "metadata": {},
   "outputs": [],
   "source": []
  },
  {
   "cell_type": "markdown",
   "metadata": {},
   "source": [
    "# upload qa to GDS\n",
    "- https://blog.gcp.expert/cloud-firestore-cloud-native-nosql-introduction/"
   ]
  },
  {
   "cell_type": "code",
   "execution_count": null,
   "metadata": {},
   "outputs": [],
   "source": []
  },
  {
   "cell_type": "code",
   "execution_count": null,
   "metadata": {},
   "outputs": [],
   "source": []
  },
  {
   "cell_type": "code",
   "execution_count": null,
   "metadata": {},
   "outputs": [],
   "source": []
  },
  {
   "cell_type": "code",
   "execution_count": null,
   "metadata": {},
   "outputs": [],
   "source": []
  },
  {
   "cell_type": "markdown",
   "metadata": {},
   "source": [
    "# test"
   ]
  },
  {
   "cell_type": "code",
   "execution_count": 5,
   "metadata": {
    "ExecuteTime": {
     "end_time": "2021-04-04T15:58:21.167654Z",
     "start_time": "2021-04-04T15:58:21.162554Z"
    },
    "scrolled": true
   },
   "outputs": [
    {
     "name": "stdout",
     "output_type": "stream",
     "text": [
      "1 \r\n",
      " --------------- exist --------------- \n",
      "/home/ryh/embedding-match/database/13to15/cap/數學/91 基測2-數學-que-1-1.png\n",
      "2 \r\n",
      " --------------- exist --------------- \n",
      "/home/ryh/embedding-match/database/13to15/cap/數學/91 基測2-數學-que-1-2.png\n",
      "3 \r\n",
      " --------------- exist --------------- \n",
      "/home/ryh/embedding-match/database/13to15/cap/數學/91 基測2-數學-que-1-3.png\n",
      "4 \r\n",
      " --------------- exist --------------- \n",
      "/home/ryh/embedding-match/database/13to15/cap/數學/91 基測2-數學-que-1-4.png\n",
      "5 \r\n",
      " --------------- exist --------------- \n",
      "/home/ryh/embedding-match/database/13to15/cap/數學/91 基測2-數學-que-1-5.png\n",
      "6 \r\n",
      " --------------- exist --------------- \n",
      "/home/ryh/embedding-match/database/13to15/cap/數學/91 基測2-數學-que-1-6.png\n",
      "7 \r\n",
      " --------------- exist --------------- \n",
      "/home/ryh/embedding-match/database/13to15/cap/數學/91 基測2-數學-que-1-7.png\n",
      "8 \r\n",
      " --------------- exist --------------- \n",
      "/home/ryh/embedding-match/database/13to15/cap/數學/91 基測2-數學-que-1-8.png\n",
      "9 \r\n",
      " --------------- exist --------------- \n",
      "/home/ryh/embedding-match/database/13to15/cap/數學/91 基測2-數學-que-1-9.png\n"
     ]
    }
   ],
   "source": [
    "for i in range(1, 10):\n",
    "    print(i, '\\r')\n",
    "    q_path = '/home/ryh/embedding-match/database/13to15/cap/數學/91 基測2-數學-que-1-%s.png'%(i)\n",
    "    a_path = q_path.replace('que', 'ans')\n",
    "    qaUtil.process_qa(q_path, a_path)"
   ]
  },
  {
   "cell_type": "code",
   "execution_count": null,
   "metadata": {
    "ExecuteTime": {
     "end_time": "2021-04-04T14:57:05.403834Z",
     "start_time": "2021-04-04T14:57:05.400684Z"
    },
    "scrolled": true
   },
   "outputs": [],
   "source": []
  },
  {
   "cell_type": "code",
   "execution_count": null,
   "metadata": {
    "ExecuteTime": {
     "end_time": "2021-04-04T14:57:08.382275Z",
     "start_time": "2021-04-04T14:57:08.376784Z"
    }
   },
   "outputs": [],
   "source": [
    "qaUtil.done_q"
   ]
  },
  {
   "cell_type": "code",
   "execution_count": null,
   "metadata": {},
   "outputs": [],
   "source": []
  }
 ],
 "metadata": {
  "kernelspec": {
   "display_name": "Python 3",
   "language": "python",
   "name": "python3"
  },
  "language_info": {
   "codemirror_mode": {
    "name": "ipython",
    "version": 3
   },
   "file_extension": ".py",
   "mimetype": "text/x-python",
   "name": "python",
   "nbconvert_exporter": "python",
   "pygments_lexer": "ipython3",
   "version": "3.7.6"
  },
  "toc": {
   "base_numbering": 1,
   "nav_menu": {},
   "number_sections": true,
   "sideBar": true,
   "skip_h1_title": false,
   "title_cell": "Table of Contents",
   "title_sidebar": "Contents",
   "toc_cell": false,
   "toc_position": {
    "height": "calc(100% - 180px)",
    "left": "10px",
    "top": "150px",
    "width": "166px"
   },
   "toc_section_display": true,
   "toc_window_display": true
  }
 },
 "nbformat": 4,
 "nbformat_minor": 4
}
