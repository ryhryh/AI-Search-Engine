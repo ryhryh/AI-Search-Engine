{
 "cells": [
  {
   "cell_type": "markdown",
   "id": "delayed-surgery",
   "metadata": {
    "heading_collapsed": true
   },
   "source": [
    "# remove folder"
   ]
  },
  {
   "cell_type": "code",
   "execution_count": 3,
   "id": "monetary-consolidation",
   "metadata": {
    "ExecuteTime": {
     "end_time": "2021-03-30T05:15:43.376976Z",
     "start_time": "2021-03-30T05:15:43.373394Z"
    },
    "hidden": true
   },
   "outputs": [],
   "source": [
    "import os\n",
    "from glob import glob\n",
    "import shutil"
   ]
  },
  {
   "cell_type": "code",
   "execution_count": null,
   "id": "political-publisher",
   "metadata": {
    "hidden": true
   },
   "outputs": [],
   "source": [
    "path = '/home/ryh/embedding-match/ocr/datasets/taiwan/13to15/press/108/數學/南一/answer'"
   ]
  },
  {
   "cell_type": "code",
   "execution_count": 8,
   "id": "useful-kentucky",
   "metadata": {
    "ExecuteTime": {
     "end_time": "2021-03-30T05:17:33.731761Z",
     "start_time": "2021-03-30T05:17:33.724434Z"
    },
    "hidden": true
   },
   "outputs": [
    {
     "data": {
      "text/plain": [
       "['/home/ryh/embedding-match/ocr/datasets/taiwan/13to15/press/108/數學/翰林/answer/pdf',\n",
       " '/home/ryh/embedding-match/ocr/datasets/taiwan/13to15/press/108/數學/翰林/question/pdf',\n",
       " '/home/ryh/embedding-match/ocr/datasets/taiwan/13to15/press/108/數學/南一/answer/pdf',\n",
       " '/home/ryh/embedding-match/ocr/datasets/taiwan/13to15/press/108/數學/南一/question/pdf',\n",
       " '/home/ryh/embedding-match/ocr/datasets/taiwan/13to15/press/108/數學/康軒/answer/pdf',\n",
       " '/home/ryh/embedding-match/ocr/datasets/taiwan/13to15/press/108/數學/康軒/question/pdf']"
      ]
     },
     "execution_count": 8,
     "metadata": {},
     "output_type": "execute_result"
    }
   ],
   "source": [
    "path_list = glob('/home/ryh/embedding-match/ocr/datasets/taiwan/13to15/press/108/數學/*/*/*')\n",
    "path_list"
   ]
  },
  {
   "cell_type": "code",
   "execution_count": 9,
   "id": "recreational-antarctica",
   "metadata": {
    "ExecuteTime": {
     "end_time": "2021-03-30T05:17:41.461615Z",
     "start_time": "2021-03-30T05:17:41.457248Z"
    },
    "hidden": true
   },
   "outputs": [],
   "source": [
    "# for path in path_list:\n",
    "#     if path.split('/')[-1] != 'pdf':\n",
    "#         print(path)\n",
    "#         shutil.rmtree(path)"
   ]
  },
  {
   "cell_type": "code",
   "execution_count": null,
   "id": "personal-emergency",
   "metadata": {
    "hidden": true
   },
   "outputs": [],
   "source": []
  },
  {
   "cell_type": "markdown",
   "id": "chubby-watson",
   "metadata": {},
   "source": [
    "# pdf to images\n"
   ]
  },
  {
   "cell_type": "code",
   "execution_count": 60,
   "id": "surprising-business",
   "metadata": {
    "ExecuteTime": {
     "end_time": "2021-03-30T05:50:01.907376Z",
     "start_time": "2021-03-30T05:50:01.904186Z"
    }
   },
   "outputs": [],
   "source": [
    "import os\n",
    "from glob import glob\n",
    "from pdf2image import convert_from_path"
   ]
  },
  {
   "cell_type": "code",
   "execution_count": 135,
   "id": "dominican-saskatchewan",
   "metadata": {
    "ExecuteTime": {
     "end_time": "2021-03-31T05:01:28.056053Z",
     "start_time": "2021-03-31T05:01:28.023335Z"
    }
   },
   "outputs": [],
   "source": [
    "class PdfUtil:\n",
    "    def __init__(self):\n",
    "        pass\n",
    "    \n",
    "    def rename(self, old):\n",
    "        # 全形轉半形（ => (\n",
    "        #old = '/home/ryh/embedding-match/ocr/datasets/taiwan/13to15/press/108/數學/南一/answer/pdf/108上[南一]國中試卷-數學五A卷-(優等)-3上（答）.pdf'\n",
    "        new = old.replace('（', '(').replace('）', ')')\n",
    "        os.rename(old, new)\n",
    "    \n",
    "    def get_pdf_path_list(self, year='*', subject='*', press='*', qa='*'):\n",
    "        d = '/home/ryh/embedding-match/ocr/datasets/taiwan/13to15/press/%s/%s/%s/%s/pdf/*.pdf'%(year, subject, press, qa)\n",
    "        pdf_path_list = sorted(glob(d))\n",
    "        return pdf_path_list\n",
    "    \n",
    "    def pdf_to_images(self, pdf_path):\n",
    "        images = convert_from_path(pdf_path)\n",
    "        \n",
    "        if self.is_pdf_already_process(pdf_path, images): \n",
    "            print(' ----------- already process ----------- ')\n",
    "            print(pdf_path)\n",
    "            return \n",
    "\n",
    "        old_dirname = os.path.dirname(pdf_path)\n",
    "        old_basename = os.path.basename(pdf_path)\n",
    "\n",
    "        new_dirname = old_dirname.replace('pdf', 'paper')\n",
    "        os.makedirs(new_dirname, exist_ok=True)\n",
    "        for i, image in enumerate(images):     \n",
    "            #print(i+1, len(images), end='\\r')\n",
    "            new_basename = old_basename.replace('.pdf', '') + '---%02d'%(i+1) + '.png' \n",
    "            img_path = os.path.join(new_dirname, new_basename)\n",
    "            image.save(img_path, 'PNG')\n",
    "            \n",
    "    def is_pdf_already_process(self, pdf_path, images):\n",
    "        i = len(images) - 1\n",
    "        \n",
    "        old_dirname = os.path.dirname(pdf_path)\n",
    "        old_basename = os.path.basename(pdf_path)\n",
    "        new_dirname = old_dirname.replace('pdf', 'paper')\n",
    "        new_basename = old_basename.replace('.pdf', '') + '---%02d'%(i+1) + '.png' \n",
    "        img_path = os.path.join(new_dirname, new_basename)\n",
    "        return os.path.isfile(img_path) \n",
    "        "
   ]
  },
  {
   "cell_type": "code",
   "execution_count": 136,
   "id": "contrary-fluid",
   "metadata": {
    "ExecuteTime": {
     "end_time": "2021-03-31T05:01:28.067008Z",
     "start_time": "2021-03-31T05:01:28.059218Z"
    }
   },
   "outputs": [],
   "source": [
    "pdfUtil = PdfUtil()"
   ]
  },
  {
   "cell_type": "markdown",
   "id": "attended-amateur",
   "metadata": {},
   "source": [
    "## rename"
   ]
  },
  {
   "cell_type": "code",
   "execution_count": null,
   "id": "extra-rebound",
   "metadata": {},
   "outputs": [],
   "source": [
    "# 108上[南一]國中試卷-數學（一）-B卷-(中上)-答.pdf"
   ]
  },
  {
   "cell_type": "code",
   "execution_count": 137,
   "id": "rising-remove",
   "metadata": {
    "ExecuteTime": {
     "end_time": "2021-03-31T05:01:30.491077Z",
     "start_time": "2021-03-31T05:01:30.333559Z"
    }
   },
   "outputs": [
    {
     "data": {
      "text/plain": [
       "118"
      ]
     },
     "execution_count": 137,
     "metadata": {},
     "output_type": "execute_result"
    }
   ],
   "source": [
    "pdf_list = pdfUtil.get_pdf_path_list(year='*', subject='數學', press='*', qa='*')\n",
    "len(pdf_list)"
   ]
  },
  {
   "cell_type": "code",
   "execution_count": 139,
   "id": "thousand-duncan",
   "metadata": {
    "ExecuteTime": {
     "end_time": "2021-03-31T05:02:29.570483Z",
     "start_time": "2021-03-31T05:02:29.565474Z"
    }
   },
   "outputs": [],
   "source": [
    "for old in pdf_list:\n",
    "    pdfUtil.rename(old)"
   ]
  },
  {
   "cell_type": "markdown",
   "id": "friendly-accreditation",
   "metadata": {},
   "source": [
    "## pdf_to_images"
   ]
  },
  {
   "cell_type": "code",
   "execution_count": null,
   "id": "revolutionary-radical",
   "metadata": {},
   "outputs": [],
   "source": []
  },
  {
   "cell_type": "code",
   "execution_count": 67,
   "id": "coordinate-workplace",
   "metadata": {
    "ExecuteTime": {
     "end_time": "2021-03-30T07:24:08.572912Z",
     "start_time": "2021-03-30T07:24:08.564441Z"
    }
   },
   "outputs": [],
   "source": [
    "# for i, pdf in enumerate(pdf_list):\n",
    "#     print(i+1, len(pdf_list), end='\\r')\n",
    "#     pdfUtil.pdf_to_images(pdf)\n",
    "    "
   ]
  },
  {
   "cell_type": "markdown",
   "id": "quantitative-intellectual",
   "metadata": {},
   "source": [
    "# upload files to GCS"
   ]
  },
  {
   "cell_type": "code",
   "execution_count": 68,
   "id": "careful-conservation",
   "metadata": {
    "ExecuteTime": {
     "end_time": "2021-03-30T07:24:16.297667Z",
     "start_time": "2021-03-30T07:24:14.594713Z"
    }
   },
   "outputs": [],
   "source": [
    "from google.cloud import storage\n",
    "import os\n",
    "from glob import glob"
   ]
  },
  {
   "cell_type": "code",
   "execution_count": 202,
   "id": "elder-state",
   "metadata": {
    "ExecuteTime": {
     "end_time": "2021-03-31T05:50:47.411838Z",
     "start_time": "2021-03-31T05:50:46.295365Z"
    }
   },
   "outputs": [],
   "source": [
    "class GcsUtil:\n",
    "    def __init__(self, bucket_name='easy-ocr'):\n",
    "        self.storage_client = storage.Client()\n",
    "        self.bucket_name = bucket_name\n",
    "        self.bucket = self.storage_client.bucket(self.bucket_name)\n",
    "        self.data_dir = '/home/ryh/embedding-match/ocr/'\n",
    "        self.setup_done_file()\n",
    "    \n",
    "    def get_paper_path_list(self, year='*', subject='*', press='*', qa='*'):\n",
    "        d = '/home/ryh/embedding-match/ocr/datasets/taiwan/13to15/press/%s/%s/%s/%s/paper/*.png'%(year, subject, press, qa)\n",
    "        paper_path_list = sorted(glob(d))\n",
    "        return paper_path_list\n",
    "\n",
    "    def setup_done_file(self):\n",
    "        blobs = self.storage_client.list_blobs(self.bucket_name, prefix='datasets/')\n",
    "        blob_list = list(blobs)\n",
    "        file_list = [os.path.basename(blob.name) for blob in blob_list]        \n",
    "        self.done_file = set(file_list)\n",
    "    \n",
    "    def upload_blob(self, local_path):            \n",
    "        remote_path = local_path.replace(self.data_dir, '')\n",
    "        blob = self.bucket.blob(remote_path)\n",
    "        \n",
    "        if os.path.basename(local_path) in self.done_file:\n",
    "            print(' ----------- already upload ----------- ')\n",
    "            print(local_path)\n",
    "            pass\n",
    "        else:\n",
    "            blob.upload_from_filename(local_path)\n",
    "            \n",
    "gcsUtil = GcsUtil(bucket_name='easy-ocr')\n"
   ]
  },
  {
   "cell_type": "code",
   "execution_count": 203,
   "id": "accomplished-texture",
   "metadata": {
    "ExecuteTime": {
     "end_time": "2021-03-31T05:50:47.418334Z",
     "start_time": "2021-03-31T05:50:47.414710Z"
    }
   },
   "outputs": [],
   "source": [
    "# gcsUtil.get_all_uri()\n",
    "\n",
    "# os.path.basename(paper_path_list[0]) in gcsUtil.get_all_uri()"
   ]
  },
  {
   "cell_type": "code",
   "execution_count": 204,
   "id": "planned-distinction",
   "metadata": {
    "ExecuteTime": {
     "end_time": "2021-03-31T05:50:47.427913Z",
     "start_time": "2021-03-31T05:50:47.422012Z"
    }
   },
   "outputs": [],
   "source": [
    "# gcsUtil.done_file"
   ]
  },
  {
   "cell_type": "markdown",
   "id": "increased-stockholm",
   "metadata": {
    "heading_collapsed": true
   },
   "source": [
    "## rename\n",
    "- 假如pdf就改名了，這裡就不用做"
   ]
  },
  {
   "cell_type": "code",
   "execution_count": 205,
   "id": "dying-welding",
   "metadata": {
    "ExecuteTime": {
     "end_time": "2021-03-31T05:50:47.436624Z",
     "start_time": "2021-03-31T05:50:47.431013Z"
    },
    "hidden": true
   },
   "outputs": [],
   "source": [
    "# paper_path_list = gcsUtil.get_paper_path_list()\n",
    "# len(paper_path_list)"
   ]
  },
  {
   "cell_type": "code",
   "execution_count": 206,
   "id": "qualified-allen",
   "metadata": {
    "ExecuteTime": {
     "end_time": "2021-03-31T05:50:47.444939Z",
     "start_time": "2021-03-31T05:50:47.439383Z"
    },
    "hidden": true
   },
   "outputs": [],
   "source": [
    "# for old in paper_path_list:\n",
    "#     pdfUtil.rename(old)"
   ]
  },
  {
   "cell_type": "markdown",
   "id": "hungry-student",
   "metadata": {},
   "source": [
    "## upload_blob"
   ]
  },
  {
   "cell_type": "code",
   "execution_count": 207,
   "id": "scheduled-ownership",
   "metadata": {
    "ExecuteTime": {
     "end_time": "2021-03-31T05:50:47.479305Z",
     "start_time": "2021-03-31T05:50:47.447655Z"
    }
   },
   "outputs": [
    {
     "data": {
      "text/plain": [
       "2998"
      ]
     },
     "execution_count": 207,
     "metadata": {},
     "output_type": "execute_result"
    }
   ],
   "source": [
    "paper_path_list = gcsUtil.get_paper_path_list()\n",
    "len(paper_path_list)"
   ]
  },
  {
   "cell_type": "code",
   "execution_count": 209,
   "id": "norman-greece",
   "metadata": {
    "ExecuteTime": {
     "end_time": "2021-03-31T05:50:54.690679Z",
     "start_time": "2021-03-31T05:50:54.684752Z"
    },
    "scrolled": true
   },
   "outputs": [],
   "source": [
    "# for i, paper_path in enumerate(paper_path_list[:]):\n",
    "#     print(i+1, len(paper_path_list), end='\\r')\n",
    "#     gcsUtil.upload_blob(paper_path)\n",
    "    "
   ]
  },
  {
   "cell_type": "code",
   "execution_count": 200,
   "id": "lovely-conversion",
   "metadata": {
    "ExecuteTime": {
     "end_time": "2021-03-31T05:50:11.554813Z",
     "start_time": "2021-03-31T05:50:11.507096Z"
    }
   },
   "outputs": [
    {
     "data": {
      "text/plain": [
       "2"
      ]
     },
     "execution_count": 200,
     "metadata": {},
     "output_type": "execute_result"
    }
   ],
   "source": [
    "1+1"
   ]
  },
  {
   "cell_type": "markdown",
   "id": "happy-hobby",
   "metadata": {},
   "source": [
    "# input_file.csv \n",
    "- https://cloud.google.com/ai-platform-unified/docs/datasets/prepare-image"
   ]
  },
  {
   "cell_type": "code",
   "execution_count": null,
   "id": "better-force",
   "metadata": {},
   "outputs": [],
   "source": [
    "把所有paper扣掉已經在input_file裡面的"
   ]
  },
  {
   "cell_type": "code",
   "execution_count": 210,
   "id": "earlier-kennedy",
   "metadata": {
    "ExecuteTime": {
     "end_time": "2021-03-31T05:51:05.452882Z",
     "start_time": "2021-03-31T05:51:05.449016Z"
    }
   },
   "outputs": [],
   "source": [
    "from google.cloud import storage\n",
    "import pandas as pd\n",
    "from glob import glob\n",
    "import os\n",
    "import re"
   ]
  },
  {
   "cell_type": "code",
   "execution_count": 211,
   "id": "optional-parking",
   "metadata": {
    "ExecuteTime": {
     "end_time": "2021-03-31T05:51:05.508911Z",
     "start_time": "2021-03-31T05:51:05.459847Z"
    }
   },
   "outputs": [],
   "source": [
    "class LabelUtil:\n",
    "    def __init__(self, bucket_name='easy-ocr'):\n",
    "        self.storage_client = storage.Client()\n",
    "        self.bucket_name = bucket_name\n",
    "        \n",
    "    def get_all_uri(self):\n",
    "        blobs = self.storage_client.list_blobs(self.bucket_name, prefix='datasets/')\n",
    "        blob_list = list(blobs)\n",
    "        uri_list = ['gs://' + self.bucket_name + '/' + blob.name for blob in blob_list]        \n",
    "        return set(uri_list)\n",
    "        \n",
    "    def get_done_uri(self):\n",
    "        done_uri = []\n",
    "        path_list = glob('./datasets/input_file/*.csv')\n",
    "        for path in path_list:\n",
    "            with open(path, 'r') as f:\n",
    "                uris = f.read().splitlines() \n",
    "                done_uri += uris\n",
    "        return set(done_uri)\n",
    "    \n",
    "    def get_todo_url(self):\n",
    "        done_uri = self.get_done_uri()\n",
    "        all_uri = self.get_all_uri()\n",
    "        todo_url = list(all_uri - done_uri)\n",
    "        todo_url = sorted(todo_url)\n",
    "        return todo_url\n",
    "    \n",
    "    def get_filter_uri(self, uri_list, year='*', subject='*', press='*', qa='*'):\n",
    "        filter_uri = []\n",
    "        prefix = 'gs://easy-ocr/datasets/taiwan/13to15/press/'\n",
    "        for uri in uri_list:\n",
    "            uri = uri.replace(prefix, '')\n",
    "            year_, subject_, press_, qa_, _, _ = uri.split('/')\n",
    "            c1 = year != '*' and year != year_\n",
    "            c2 = subject != '*' and subject != subject_\n",
    "            c3 = press != '*' and press != press_\n",
    "            c4 = qa != '*' and qa != qa_\n",
    "            if c1 or c2 or c3 or c4:\n",
    "                continue\n",
    "            uri = prefix + uri\n",
    "            filter_uri.append(uri)\n",
    "        filter_uri = sorted(filter_uri)\n",
    "        return filter_uri\n",
    "    \n",
    "    def save_uri(self, uri_list, save_path):\n",
    "        df = pd.DataFrame()\n",
    "        df['GCS_FILE_PATH'] = uri_list\n",
    "        df.to_csv(save_path, header=False, index=False)\n",
    "        \n",
    "labelUtil = LabelUtil()"
   ]
  },
  {
   "cell_type": "code",
   "execution_count": 212,
   "id": "embedded-export",
   "metadata": {
    "ExecuteTime": {
     "end_time": "2021-03-31T05:51:05.518926Z",
     "start_time": "2021-03-31T05:51:05.511841Z"
    }
   },
   "outputs": [],
   "source": [
    "# labelUtil.get_done_uri()"
   ]
  },
  {
   "cell_type": "code",
   "execution_count": 213,
   "id": "daily-russia",
   "metadata": {
    "ExecuteTime": {
     "end_time": "2021-03-31T05:51:06.717857Z",
     "start_time": "2021-03-31T05:51:05.522092Z"
    },
    "scrolled": false
   },
   "outputs": [
    {
     "data": {
      "text/plain": [
       "2998"
      ]
     },
     "execution_count": 213,
     "metadata": {},
     "output_type": "execute_result"
    }
   ],
   "source": [
    "todo_url = labelUtil.get_todo_url()\n",
    "len(todo_url)"
   ]
  },
  {
   "cell_type": "code",
   "execution_count": 214,
   "id": "judicial-continent",
   "metadata": {
    "ExecuteTime": {
     "end_time": "2021-03-31T05:51:06.724047Z",
     "start_time": "2021-03-31T05:51:06.720371Z"
    },
    "scrolled": true
   },
   "outputs": [],
   "source": [
    "# filter_uri = labelUtil.get_filter_uri(todo_url, year='108', subject='數學', press='*', qa='answer')\n",
    "# len(filter_uri)"
   ]
  },
  {
   "cell_type": "code",
   "execution_count": 215,
   "id": "binding-bristol",
   "metadata": {
    "ExecuteTime": {
     "end_time": "2021-03-31T05:51:06.814133Z",
     "start_time": "2021-03-31T05:51:06.727050Z"
    }
   },
   "outputs": [],
   "source": [
    "for year in ['108']:\n",
    "    for subject in ['數學']:\n",
    "        for press in ['南一', '康軒', '翰林']:\n",
    "            for qa in ['question', 'answer']:\n",
    "                filter_uri = labelUtil.get_filter_uri(todo_url, year, subject, press, qa)\n",
    "                num = len(filter_uri)\n",
    "                save_path = './datasets/input_file/%s_%s_%s_%s_%s.csv'%(year, subject, press, qa, num)\n",
    "                if os.path.isfile(save_path) == False and len(filter_uri) != 0:\n",
    "                    labelUtil.save_uri(filter_uri, save_path)"
   ]
  },
  {
   "cell_type": "code",
   "execution_count": null,
   "id": "muslim-samba",
   "metadata": {
    "ExecuteTime": {
     "end_time": "2021-03-31T04:43:53.469120Z",
     "start_time": "2021-03-31T04:43:53.454759Z"
    }
   },
   "outputs": [],
   "source": []
  },
  {
   "cell_type": "code",
   "execution_count": null,
   "id": "bored-turkey",
   "metadata": {},
   "outputs": [],
   "source": []
  },
  {
   "cell_type": "markdown",
   "id": "recorded-rebate",
   "metadata": {},
   "source": [
    "# split image to segments"
   ]
  },
  {
   "cell_type": "code",
   "execution_count": 221,
   "id": "unauthorized-liberal",
   "metadata": {
    "ExecuteTime": {
     "end_time": "2021-03-31T06:24:14.582481Z",
     "start_time": "2021-03-31T06:24:13.080809Z"
    }
   },
   "outputs": [],
   "source": [
    "import json\n",
    "import chardet\n",
    "import matplotlib.pyplot as plt\n",
    "import matplotlib.image as mpimg"
   ]
  },
  {
   "cell_type": "code",
   "execution_count": 234,
   "id": "crazy-growing",
   "metadata": {
    "ExecuteTime": {
     "end_time": "2021-03-31T06:26:56.522578Z",
     "start_time": "2021-03-31T06:26:56.470934Z"
    }
   },
   "outputs": [],
   "source": [
    "class SegUtil:\n",
    "    def __init__(self):\n",
    "        self.data_dir = '/home/ryh/embedding-match/ocr/'\n",
    "    \n",
    "    def get_paperInfo_list(self, output_file_path):\n",
    "        with open(output_file_path) as f:\n",
    "            row_list = f.readlines()\n",
    "        paperInfo_list = []\n",
    "        for row in row_list:\n",
    "            d = json.loads(row)\n",
    "            d['imageGcsUri'] = d['imageGcsUri'].encode('l1').decode('utf-8')\n",
    "            d['imageGcsUri'] = self.data_dir + d['imageGcsUri'].replace('gs://easy-ocr/', '')\n",
    "            paperInfo_list.append(d)\n",
    "        return paperInfo_list\n",
    "    \n",
    "    def paper_to_segments(self, paperInfo):\n",
    "        paper_path = paperInfo['imageGcsUri']\n",
    "        img = mpimg.imread(paper_path)\n",
    "        img_height, img_width = img.shape[0], img.shape[1]\n",
    "        \n",
    "        old_dirname = os.path.dirname(paper_path)\n",
    "        new_dirname = old_dirname.replace('paper', 'seg')\n",
    "        old_basename = os.path.basename(paper_path)\n",
    "        \n",
    "        os.makedirs(new_dirname, exist_ok=True) #?\n",
    "        \n",
    "        if 'boundingBoxAnnotations' not in paperInfo: \n",
    "            print(' ----------- no box_list ----------- ')\n",
    "            print(paper_path)\n",
    "            return\n",
    "        \n",
    "        box_list = paperInfo['boundingBoxAnnotations']\n",
    "        box_list = sorted(box_list, key=(lambda x: x['yMax']), reverse=True) # 從底部往上\n",
    "        for box in box_list: # 假如沒有box 啥都沒做\n",
    "            displayName = box['displayName']\n",
    "            if 'w' in displayName:\n",
    "                ch = displayName.split('w')[0] # 第幾回\n",
    "            else:\n",
    "                name = ch + '_' + displayName.replace('q', '_') # 14_4_2\n",
    "                new_basename = old_basename.split('---')[0] + '---' + name + '.png' # 108上[南一]國中試卷-(三)數學-A卷-(優等)-(答)---01.png\n",
    "                path = os.path.join(new_dirname, new_basename)\n",
    "                \n",
    "                if os.path.isfile(path):\n",
    "                    #print(' ----------- already exist ----------- ')\n",
    "                    #print(path)\n",
    "                    continue\n",
    "\n",
    "                xMax, xMin, yMax, yMin = box['xMax'], box['xMin'], box['yMax'], box['yMin']\n",
    "                xMax, xMin = int(xMax*img_width), int(xMin*img_width)\n",
    "                yMax, yMin = int(yMax*img_height), int(yMin*img_height)\n",
    "                seg = img[yMin:yMax, xMin:xMax, :]\n",
    "                \n",
    "                plt.imsave(path, seg)\n",
    "\n",
    "segUtil = SegUtil()\n"
   ]
  },
  {
   "cell_type": "code",
   "execution_count": 235,
   "id": "binary-uruguay",
   "metadata": {
    "ExecuteTime": {
     "end_time": "2021-03-31T06:26:56.537874Z",
     "start_time": "2021-03-31T06:26:56.526242Z"
    }
   },
   "outputs": [
    {
     "data": {
      "text/plain": [
       "358"
      ]
     },
     "execution_count": 235,
     "metadata": {},
     "output_type": "execute_result"
    }
   ],
   "source": [
    "output_file_path = '/home/ryh/embedding-match/ocr/datasets/output_file/output_files_export-data-108_數學_南一_answer_358-2021-03-31T06_21_39.241062Z_image_bounding_box_108_數學_南一_answer_358_iod-7444221485624852480_data-00001-of-00001.jsonl'\n",
    "paperInfo_list = segUtil.get_paperInfo_list(output_file_path)\n",
    "len(paperInfo_list)\n"
   ]
  },
  {
   "cell_type": "code",
   "execution_count": 242,
   "id": "toxic-salvation",
   "metadata": {
    "ExecuteTime": {
     "end_time": "2021-03-31T06:27:44.364835Z",
     "start_time": "2021-03-31T06:27:44.361638Z"
    },
    "scrolled": true
   },
   "outputs": [],
   "source": [
    "paperInfo = paperInfo_list[0]\n",
    "# paperInfo\n"
   ]
  },
  {
   "cell_type": "code",
   "execution_count": 239,
   "id": "sonic-solution",
   "metadata": {
    "ExecuteTime": {
     "end_time": "2021-03-31T06:27:16.364418Z",
     "start_time": "2021-03-31T06:27:16.060771Z"
    },
    "scrolled": true
   },
   "outputs": [],
   "source": [
    "segUtil.paper_to_segments(paperInfo)"
   ]
  },
  {
   "cell_type": "code",
   "execution_count": null,
   "id": "fourth-right",
   "metadata": {},
   "outputs": [],
   "source": []
  },
  {
   "cell_type": "code",
   "execution_count": null,
   "id": "genuine-patent",
   "metadata": {},
   "outputs": [],
   "source": []
  },
  {
   "cell_type": "code",
   "execution_count": null,
   "id": "municipal-scanner",
   "metadata": {},
   "outputs": [],
   "source": []
  },
  {
   "cell_type": "code",
   "execution_count": null,
   "id": "upper-essex",
   "metadata": {},
   "outputs": [],
   "source": []
  },
  {
   "cell_type": "code",
   "execution_count": null,
   "id": "optional-adobe",
   "metadata": {},
   "outputs": [],
   "source": []
  },
  {
   "cell_type": "code",
   "execution_count": 131,
   "id": "bibliographic-processor",
   "metadata": {
    "ExecuteTime": {
     "end_time": "2021-03-31T04:49:44.456187Z",
     "start_time": "2021-03-31T04:49:44.449857Z"
    }
   },
   "outputs": [
    {
     "data": {
      "text/plain": [
       "'gs://easy-ocr/datasets/taiwan/13to15/press/108/數學/南一/question/paper/108下-南一國中試卷數學(2)A卷(優等)題-1下---12.png'"
      ]
     },
     "execution_count": 131,
     "metadata": {},
     "output_type": "execute_result"
    }
   ],
   "source": [
    "def garbled(txt):\n",
    "    txt = txt.encode('l1').decode('utf-8')\n",
    "    return txt\n",
    "\n",
    "txt = 'gs://easy-ocr/datasets/taiwan/13to15/press/108/æ¸å­¸/åä¸/question/paper/108ä¸-åä¸åä¸­è©¦å·æ¸å­¸(2)Aå·(åªç­)é¡-1ä¸---12.png'\n",
    "garbled(txt)"
   ]
  },
  {
   "cell_type": "code",
   "execution_count": null,
   "id": "sufficient-wholesale",
   "metadata": {},
   "outputs": [],
   "source": []
  },
  {
   "cell_type": "code",
   "execution_count": null,
   "id": "limiting-plaintiff",
   "metadata": {},
   "outputs": [],
   "source": []
  }
 ],
 "metadata": {
  "kernelspec": {
   "display_name": "Python 3",
   "language": "python",
   "name": "python3"
  },
  "language_info": {
   "codemirror_mode": {
    "name": "ipython",
    "version": 3
   },
   "file_extension": ".py",
   "mimetype": "text/x-python",
   "name": "python",
   "nbconvert_exporter": "python",
   "pygments_lexer": "ipython3",
   "version": "3.6.9"
  },
  "toc": {
   "base_numbering": 1,
   "nav_menu": {},
   "number_sections": true,
   "sideBar": true,
   "skip_h1_title": false,
   "title_cell": "Table of Contents",
   "title_sidebar": "Contents",
   "toc_cell": false,
   "toc_position": {
    "height": "calc(100% - 180px)",
    "left": "10px",
    "top": "150px",
    "width": "166px"
   },
   "toc_section_display": true,
   "toc_window_display": true
  }
 },
 "nbformat": 4,
 "nbformat_minor": 5
}
