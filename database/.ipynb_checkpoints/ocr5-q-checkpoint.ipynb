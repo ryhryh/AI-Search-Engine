{
 "cells": [
  {
   "cell_type": "markdown",
   "id": "french-copper",
   "metadata": {},
   "source": [
    "# question"
   ]
  },
  {
   "cell_type": "markdown",
   "id": "indian-allah",
   "metadata": {},
   "source": [
    "## pdf"
   ]
  },
  {
   "cell_type": "code",
   "execution_count": null,
   "id": "appreciated-scale",
   "metadata": {
    "ExecuteTime": {
     "end_time": "2021-03-08T04:57:37.326229Z",
     "start_time": "2021-03-08T04:57:37.250676Z"
    }
   },
   "outputs": [],
   "source": [
    "import os\n",
    "from glob import glob \n",
    "import pandas as pd\n",
    "from pdf2image import convert_from_path\n",
    "from datetime import datetime\n",
    "\n",
    "class QuePdf:\n",
    "    def __init__(self):\n",
    "        self.key = 'pdf_path'\n",
    "        self.setup_log()\n",
    "    \n",
    "    def setup_log(self):\n",
    "        self.log_path = '/home/ryh/embedding-match/ocr/datasets/quePdf.pickle'\n",
    "        self.log_columns = [self.key, 'created_time']\n",
    "        try:\n",
    "            self.log = pd.read_pickle(self.log_path)\n",
    "        except:\n",
    "            self.log = pd.DataFrame(columns=self.log_columns)\n",
    "        self.path_set = set(self.log[self.key].values)\n",
    "    \n",
    "    def update_log(self, pdf_path):\n",
    "        row = pd.DataFrame(columns=self.log_columns)\n",
    "        \n",
    "        row[self.key] = [pdf_path]\n",
    "        row['created_time'] = [datetime.now()]\n",
    "        \n",
    "        self.log = self.log.append(row)\n",
    "        self.path_set.add(pdf_path)\n",
    "        \n",
    "    def save_log(self):\n",
    "        self.log = self.log.sort_values(by=self.key, ascending=True).reset_index(drop=True)\n",
    "        self.log.to_pickle(self.log_path)\n",
    "        \n",
    "    def get_pdf_path_list(self, year='*', subject='*', press='*'):\n",
    "        d = '/home/ryh/embedding-match/ocr/datasets/taiwan/13to15/press/%s/%s/%s/question/pdf/*.pdf'%(year, subject, press)\n",
    "        pdf_path_list = sorted(glob(d))\n",
    "        return pdf_path_list\n",
    "    \n",
    "    def pdf2papers(self, pdf_path):\n",
    "        if pdf_path in self.path_set:\n",
    "            #print('alread exist', '---', pdf_path)\n",
    "            return\n",
    "        \n",
    "        images = convert_from_path(pdf_path)\n",
    "        \n",
    "        old_dirname = os.path.dirname(pdf_path)\n",
    "        old_basename = os.path.basename(pdf_path)\n",
    "        \n",
    "        new_dirname = old_dirname.replace('pdf', 'paper')\n",
    "        os.makedirs(new_dirname, exist_ok=True)\n",
    "        for i, image in enumerate(images):     \n",
    "            print(i+1, len(images), end='\\r')\n",
    "            new_basename = old_basename.replace('.pdf', '') + '---%02d'%(i+1) + '.png' \n",
    "            img_path = os.path.join(new_dirname, new_basename)\n",
    "            image.save(img_path, 'PNG')\n",
    "            \n",
    "        self.update_log(pdf_path)\n",
    "        \n",
    "    \n",
    "        \n",
    "    "
   ]
  },
  {
   "cell_type": "markdown",
   "id": "specific-victim",
   "metadata": {},
   "source": [
    "### steps"
   ]
  },
  {
   "cell_type": "code",
   "execution_count": null,
   "id": "marine-accessory",
   "metadata": {
    "ExecuteTime": {
     "end_time": "2021-03-08T04:57:37.341479Z",
     "start_time": "2021-03-08T04:57:37.329015Z"
    }
   },
   "outputs": [],
   "source": [
    "quePdf = QuePdf()"
   ]
  },
  {
   "cell_type": "code",
   "execution_count": null,
   "id": "numerous-reserve",
   "metadata": {
    "ExecuteTime": {
     "end_time": "2021-03-07T07:04:37.404868Z",
     "start_time": "2021-03-07T07:04:37.364427Z"
    },
    "scrolled": true
   },
   "outputs": [],
   "source": [
    "pdf_path_list = quePdf.get_pdf_path_list(year='108', subject='數學', press='康軒')\n",
    "len(pdf_path_list)\n"
   ]
  },
  {
   "cell_type": "code",
   "execution_count": null,
   "id": "infrared-auckland",
   "metadata": {
    "ExecuteTime": {
     "end_time": "2021-03-07T07:04:37.411719Z",
     "start_time": "2021-03-07T07:04:37.407761Z"
    }
   },
   "outputs": [],
   "source": [
    "pdf_path = pdf_path_list[0]\n",
    "# pdf_path = '/home/ryh/embedding-match/ocr/datasets/taiwan/13to15/press/108/數學/康軒/question/pdf/108上[康軒]國中試卷-(三)數學-B卷-(中上)-(題).pdf'\n",
    "pdf_path = '/home/ryh/embedding-match/ocr/datasets/taiwan/13to15/press/108/數學/南一/answer/pdf/108下-南一國中試卷數學(4)D卷答.pdf'\n"
   ]
  },
  {
   "cell_type": "code",
   "execution_count": null,
   "id": "conceptual-necessity",
   "metadata": {
    "ExecuteTime": {
     "end_time": "2021-03-07T07:04:41.080897Z",
     "start_time": "2021-03-07T07:04:37.414510Z"
    },
    "scrolled": true
   },
   "outputs": [],
   "source": [
    "quePdf.pdf2papers(pdf_path)"
   ]
  },
  {
   "cell_type": "code",
   "execution_count": null,
   "id": "balanced-correspondence",
   "metadata": {
    "ExecuteTime": {
     "end_time": "2021-03-07T07:04:41.086360Z",
     "start_time": "2021-03-07T07:04:36.656Z"
    }
   },
   "outputs": [],
   "source": [
    "quePdf.save_log()"
   ]
  },
  {
   "cell_type": "code",
   "execution_count": null,
   "id": "young-tanzania",
   "metadata": {
    "ExecuteTime": {
     "end_time": "2021-03-07T07:04:41.087641Z",
     "start_time": "2021-03-07T07:04:36.659Z"
    }
   },
   "outputs": [],
   "source": [
    "quePdf.log\n"
   ]
  },
  {
   "cell_type": "code",
   "execution_count": null,
   "id": "functioning-video",
   "metadata": {},
   "outputs": [],
   "source": []
  },
  {
   "cell_type": "code",
   "execution_count": null,
   "id": "breeding-pacific",
   "metadata": {},
   "outputs": [],
   "source": []
  },
  {
   "cell_type": "markdown",
   "id": "agricultural-indonesia",
   "metadata": {},
   "source": [
    "## paper"
   ]
  },
  {
   "cell_type": "markdown",
   "id": "partial-clerk",
   "metadata": {},
   "source": [
    "### class"
   ]
  },
  {
   "cell_type": "code",
   "execution_count": null,
   "id": "cheap-fifty",
   "metadata": {
    "ExecuteTime": {
     "end_time": "2021-03-07T07:04:41.090099Z",
     "start_time": "2021-03-07T07:04:36.671Z"
    }
   },
   "outputs": [],
   "source": [
    "from google.cloud import vision\n",
    "import io\n",
    "from glob import glob \n",
    "import os\n",
    "import re\n",
    "from datetime import datetime\n",
    "import pandas as pd\n",
    "pd.set_option('display.max_rows', 500)\n",
    "\n",
    "%matplotlib inline\n",
    "import matplotlib.pyplot as plt\n",
    "import matplotlib.image as mpimg\n",
    "import matplotlib.patches as patches\n",
    "\n",
    "class QuePaper:\n",
    "    def __init__(self):\n",
    "        self.key = 'paper_path'\n",
    "        self.vision_client = vision.ImageAnnotatorClient() \n",
    "        self.setup_log()\n",
    "    \n",
    "    def get_paper_path_list(self, year='*', subject='*', press='*', pdf_path=''):\n",
    "        path = os.path.basename(pdf_path)\n",
    "        path = path.replace('.pdf', '').replace('[', '*').replace(']', '*')\n",
    "        d = '/home/ryh/embedding-match/ocr/datasets/taiwan/13to15/press/%s/%s/%s/question/paper/%s*.png'%(year, subject, press, path)\n",
    "        paper_path_list = sorted(glob(d))\n",
    "        return paper_path_list\n",
    "    \n",
    "    def setup_log(self):\n",
    "        self.log_path = '/home/ryh/embedding-match/ocr/datasets/quePaper.pickle'\n",
    "        try:\n",
    "            self.log = pd.read_pickle(self.log_path)\n",
    "        except:\n",
    "            cols = [self.key, 'created_time', 'paper_size', 'vertical_list', 'q_list', 'q_list_check', 'page', 'page_check', 'box_list', 'name_list', 'is_split']\n",
    "            self.log = pd.DataFrame(columns=cols)\n",
    "            self.log.to_pickle(self.log_path)\n",
    "        self.path_set = set(self.log[self.key].values)\n",
    "    \n",
    "    def update_log(self):\n",
    "        row = pd.DataFrame()\n",
    "        row[self.key] = [self.paper_path]\n",
    "        row['created_time'] = [datetime.now()]\n",
    "        row['paper_size'] = [(self.paper_width, self.paper_height)]\n",
    "        row['vertical_list'] = [self.vertical_list]\n",
    "        row['q_list'] = [self.sort_q_list]\n",
    "        row['q_list_check'] = ['x']\n",
    "        row['page'] = [self.page]\n",
    "        row['page_check'] = ['x']\n",
    "        row['box_list'] = ['x']\n",
    "        row['name_list'] = ['x']\n",
    "        row['is_split'] = ['x']\n",
    "        \n",
    "        self.log = self.log.append(row)\n",
    "        self.path_set.add(self.paper_path)\n",
    "        \n",
    "    def save_log(self):\n",
    "        self.log = self.log.sort_values(by=self.key, ascending=True).reset_index(drop=True) # cost time\n",
    "        self.log.to_pickle(self.log_path) # cost time\n",
    "        \n",
    "    def paper2segments(self, paper_path):\n",
    "        if paper_path in self.path_set: return\n",
    "        \n",
    "        self.setup_paper(paper_path)\n",
    "        \n",
    "        self.ann_list = self.detect_text(self.paper_byte)\n",
    "        self.q_list = self.get_q_list(self.ann_list)\n",
    "        self.filter_q_list = self.get_filter_q_list(self.q_list)\n",
    "        self.vertical_list = self.get_vertical_list(self.filter_q_list)\n",
    "        self.align_q_list = self.get_align_q_list(self.filter_q_list)\n",
    "        self.sort_q_list = self.get_sort_q_list(self.align_q_list)\n",
    "\n",
    "        self.update_log()\n",
    "    \n",
    "    def setup_paper(self, paper_path):\n",
    "        self.paper_path = paper_path\n",
    "        if self.paper_path in self.path_set: return\n",
    "        with open(self.paper_path, 'rb') as f:\n",
    "            self.paper_byte = f.read()\n",
    "        self.paper_arr = mpimg.imread(self.paper_path)\n",
    "        self.paper_height, self.paper_width = self.paper_arr.shape[0], self.paper_arr.shape[1]\n",
    "        \n",
    "    def detect_text(self, paper_byte):\n",
    "        image = vision.Image(content=paper_byte)\n",
    "        response = self.vision_client.text_detection(image=image)\n",
    "        text_annotation_list = response.text_annotations\n",
    "        return text_annotation_list[1:]\n",
    "    \n",
    "    def get_q_list(self, ann_list):\n",
    "        q_list = []\n",
    "        for ann in ann_list:\n",
    "            vertices = ann.bounding_poly.vertices\n",
    "            xy = vertices[0] # 左上\n",
    "            x, y = xy.x, xy.y\n",
    "            x_float, y_float = x / self.paper_width, y / self.paper_height\n",
    "            text = ann.description\n",
    "            q = {'x_float': x_float, 'y_float': y_float, 'text': text}\n",
    "            q_list.append(q)\n",
    "        return q_list\n",
    "    \n",
    "    def get_filter_q_list(self, q_list):\n",
    "        filter_q_list = []\n",
    "        for i, q in enumerate(q_list):\n",
    "            words = ''.join([x['text'] for x in q_list[i:i+5]])\n",
    "            x_float = q['x_float']\n",
    "            y_float = q['y_float']\n",
    "            text = q['text']\n",
    "            c1 = self.is_valid_words(words)\n",
    "            c2 = self.is_valid_x_position(x_float)\n",
    "            c3 = self.is_pre_valid(i, q_list)\n",
    "            if c1 and c2 and c3:\n",
    "                num = self.get_num(text)\n",
    "                q['num'] = num\n",
    "                filter_q_list.append(q)   \n",
    "                \n",
    "            self.setup_page(y_float, words) #!\n",
    "        return filter_q_list\n",
    "    \n",
    "    def is_valid_words(self, words):\n",
    "        pat = '^([1-9]|[1-2][0-9])(\\.)(.)(.)'\n",
    "        x = re.search(pat, words)\n",
    "        return (x != None)\n",
    "    \n",
    "    def is_valid_x_position(self, x_float):\n",
    "        is_valid = (0.15 > x_float > 0) or (0.6 > x_float > 0.49)\n",
    "        return is_valid\n",
    "    \n",
    "    def is_pre_valid(self, i, q_list):\n",
    "        if i==0: return True\n",
    "        pre = q_list[i-1]\n",
    "        cur = q_list[i]\n",
    "        pre_x_float, pre_y_float = pre['x_float'], pre['y_float']\n",
    "        cur_x_float, cur_y_float = cur['x_float'], cur['y_float']\n",
    "        x_diff, y_diff = abs(pre_x_float - cur_x_float), abs(pre_y_float - cur_y_float)\n",
    "        pre_text = pre['text']\n",
    "        \n",
    "        # cur跟pre都在同一邊\n",
    "        # 假如前一個字不是 \")\" 就有問題\n",
    "        if (cur_x_float < 0.3 and pre_x_float < 0.3) or (cur_x_float > 0.5 and pre_x_float > 0.5):\n",
    "            if x_diff < 0.05 and y_diff < 0.03 and pre_text != ')':\n",
    "                return False\n",
    "        return True\n",
    "    \n",
    "    def get_num(self, text):\n",
    "        try:\n",
    "            if '.' in text:\n",
    "                num = int(text[:text.index('.')])\n",
    "            else:\n",
    "                num = int(text)\n",
    "        except:\n",
    "            num = 999\n",
    "        return num\n",
    "    \n",
    "    def get_vertical_list(self, filter_q_list):\n",
    "        L, R = [], []\n",
    "        for q in filter_q_list:\n",
    "            x_float = q['x_float']\n",
    "            if x_float < 0.45:\n",
    "                L.append(x_float)\n",
    "            else:\n",
    "                R.append(x_float)\n",
    "        x_L = min(L)\n",
    "        if len(R) != 0:\n",
    "            x_R = min(R)\n",
    "            vertical_list = [round(x_L, 3), round(x_R, 3)]\n",
    "        else:\n",
    "            vertical_list = [round(x_L, 3)]\n",
    "        return vertical_list\n",
    "    \n",
    "    def get_align_q_list(self, filter_q_list):\n",
    "        align_q_list = []\n",
    "        for q in filter_q_list:\n",
    "            x_float = q['x_float']\n",
    "            if x_float < 0.45:\n",
    "                q['x_float'] = self.vertical_list[0]\n",
    "            else:\n",
    "                q['x_float'] = self.vertical_list[1] # 假如x_float < 0.45，代表verical_list一定有兩個\n",
    "            align_q_list.append(q)\n",
    "        return align_q_list\n",
    "        \n",
    "    def get_sort_q_list(self, align_q_list):\n",
    "        sort_q_list = sorted(align_q_list, key=(lambda q: (q['x_float'], q['y_float'])), reverse=False)\n",
    "        return sort_q_list\n",
    "    \n",
    "    def setup_page(self, y_float, words):\n",
    "        if y_float < 0.2 or y_float > 0.8:\n",
    "            pat = '^(\\(|\\{)?([1-9]|1[0-9])(-|–)([1-2])'\n",
    "            x = re.search(pat, words)\n",
    "            if x != None:\n",
    "                self.page = x.group(0).replace('–', '-').replace('(', '').replace('{', '') \n",
    "    \n",
    "    def get_q_list_check(self, q_list, remove_q_index_list=[], add_q_list=[]):\n",
    "        q_list = [q for index, q in enumerate(q_list) if index not in remove_q_index_list]\n",
    "        q_list += add_q_list\n",
    "        q_list = self.get_sort_q_list(q_list)\n",
    "        return q_list\n",
    "    \n",
    "    def check_q_list(self):\n",
    "        df = self.log[self.log.q_list_check=='x'].copy()\n",
    "        if len(df) == 0: return\n",
    "        df['q_list_check'] = df.apply(lambda row: self.update_q_list_check(row), axis=1)\n",
    "        self.log.loc[df.index, 'q_list_check'] = df['q_list_check']\n",
    "        self.save_log()\n",
    "    \n",
    "    def is_valid_q_list(self, q_list):\n",
    "        for i in range(1, len(q_list)):\n",
    "            cur = q_list[i]\n",
    "            pre = q_list[i-1]\n",
    "            cur_num = cur['num']\n",
    "            pre_num = pre['num']\n",
    "            if cur_num - pre_num != 1:\n",
    "                if cur_num != 1:\n",
    "                    return False\n",
    "        return True\n",
    "    \n",
    "    def update_q_list_check(self, row):\n",
    "        q_list = row['q_list']\n",
    "        if self.is_valid_q_list(q_list):\n",
    "            return q_list\n",
    "        else:\n",
    "            return 'to_check'\n",
    "    \n",
    "    def update_q_list_check_(self, index=0, q_list_check=None):\n",
    "        self.log.at[index, 'q_list_check'] = q_list_check\n",
    "        self.save_log()\n",
    "        \n",
    "    def check_page(self):\n",
    "        df = self.log[self.log.page_check=='x'].copy()\n",
    "        if len(df) == 0: return\n",
    "        df['page_check'] = df.apply(lambda row: self.update_page_check(row), axis=1)\n",
    "        self.log.loc[df.index, 'page_check'] = df['page_check']\n",
    "        self.save_log()\n",
    "        \n",
    "    def is_valid_page(self, pre_page='3-2', cur_page='4-1'):\n",
    "        pre_1, pre_2 = pre_page.split('-')\n",
    "        cur_1, cur_2 = cur_page.split('-')\n",
    "        pre_1, pre_2 = int(pre_1), int(pre_2)\n",
    "        cur_1, cur_2 = int(cur_1), int(cur_2)\n",
    "        \n",
    "        # 3-2 4-1 or 3-1 3-2\n",
    "        if (cur_1 - pre_1 == 1) and (cur_2 - pre_2 == -1): return True\n",
    "        elif (cur_1 - pre_1 == 0) and (cur_2 - pre_2 == 1): return True\n",
    "        else: return False\n",
    "    \n",
    "    def update_page_check(self, row):\n",
    "        i = row.name\n",
    "        cur_page = self.log.loc[i, 'page']        \n",
    "        if i==0 and cur_page=='1-1': return cur_page\n",
    "        if i==0 and cur_page!='1-1': return 'to_check'\n",
    "        pre_page = self.log.loc[i-1, 'page']\n",
    "        \n",
    "        if self.is_valid_page(pre_page, cur_page) == True:\n",
    "            return cur_page\n",
    "        else:\n",
    "            if cur_page == '1-1':\n",
    "                return cur_page\n",
    "            else:\n",
    "                return 'to_check'\n",
    "    \n",
    "    def update_page_check_(self, index=0, page_check=None):\n",
    "        self.log.at[index, 'page_check'] = page_check\n",
    "        self.save_log()\n",
    "        \n",
    "    def update_box_list(self):\n",
    "        c1 = (self.log.box_list=='x')\n",
    "        c2 = (self.log.q_list_check!='x')\n",
    "        c3 = (self.log.q_list_check!='to_check')\n",
    "        df = self.log[c1 & c2 & c3].copy()\n",
    "        if len(df) == 0: return\n",
    "        df['box_list'] = df.apply(lambda row: self.get_box_list(row), axis=1)\n",
    "        self.log.loc[df.index, 'box_list'] = df['box_list']\n",
    "        self.save_log()\n",
    "    \n",
    "    def get_box_list(self, row):\n",
    "        up_space, down_space, bottom = 0.013, 0.003, 0.95\n",
    "        q_list_check = row.q_list_check\n",
    "        box_list, L, R = [], [], []\n",
    "        for q in q_list_check:\n",
    "            if q['x_float'] < 0.45:\n",
    "                L.append(q)\n",
    "            else:\n",
    "                R.append(q)        \n",
    "        \n",
    "        if len(R) != 0:\n",
    "            x_L, x_R = row.vertical_list\n",
    "            for i in range(len(L)):\n",
    "                cur = L[i]\n",
    "                y2 = bottom if i == len(L)-1 else L[i+1]['y_float']\n",
    "                q = {'x1': x_L, 'x2': x_R, 'y1': cur['y_float']-up_space, 'y2': y2-down_space}\n",
    "                box_list.append(q)\n",
    "            for i in range(len(R)):\n",
    "                cur = R[i]\n",
    "                y2 = bottom if i == len(R)-1 else R[i+1]['y_float']\n",
    "                q = {'x1': x_R, 'x2': 1, 'y1': cur['y_float']-up_space, 'y2': y2-down_space}\n",
    "                box_list.append(q)\n",
    "        else:\n",
    "            x_L = row.vertical_list\n",
    "            for i in range(len(L)):\n",
    "                cur = L[i]\n",
    "                y2 = bottom if i == len(L)-1 else L[i+1]['y_float']\n",
    "                q = {'x1': cur['x_float'], 'x2': 1, 'y1': cur['y_float']-up_space, 'y2': y2-down_space}\n",
    "                box_list.append(q)\n",
    "        return box_list\n",
    "    \n",
    "    def update_name_list(self):\n",
    "        c1 = (self.log.name_list=='x')\n",
    "        c2 = (self.log.q_list_check!='x')\n",
    "        c3 = (self.log.q_list_check!='to_check')\n",
    "        df = self.log[c1 & c2 & c3].copy()\n",
    "        if len(df) == 0: return\n",
    "        df['name_list'] = df.apply(lambda row: self.get_name_list(row), axis=1)\n",
    "        self.log.loc[df.index, 'name_list'] = df['name_list']\n",
    "        self.save_log()\n",
    "        \n",
    "    def get_name_list(self, row):\n",
    "        i = row.name\n",
    "        page_check = row.page_check\n",
    "        if page_check[-2:] == '-1':\n",
    "            i1, i2 = i, i+1\n",
    "        elif page_check[-2:] == '-2':\n",
    "            i1, i2 = i-1, i\n",
    "        p1, p2 = self.log.loc[i1], self.log.loc[i2]\n",
    "        if self.is_valid_pair(p1, p2) == False: return 'to_check'\n",
    "        q_list = p1.q_list_check + p2.q_list_check\n",
    "        num_list = [q['num'] for q in q_list]\n",
    "        name_list = self.num_list_to_name_list(num_list)\n",
    "        if i1 == i:\n",
    "            name_list_ = name_list[:len(p1.q_list_check)]\n",
    "        else:\n",
    "            name_list_ = name_list[len(p1.q_list_check):]\n",
    "        \n",
    "        page_check_ = page_check.split('-')[0]\n",
    "        name_list_ = [(page_check_ + '-' + name) for name in name_list_]\n",
    "        return name_list_\n",
    "    \n",
    "    def num_list_to_name_list(self, num_list):\n",
    "        a = 1\n",
    "        name_list = ['1-1']\n",
    "        for i in range(1, len(num_list)):\n",
    "            cur = num_list[i]\n",
    "            pre = num_list[i-1]            \n",
    "            if pre >= cur:\n",
    "                a += 1\n",
    "            name = '%s-%s'%(a, num_list[i])\n",
    "            name_list.append(name)\n",
    "        return name_list\n",
    "    \n",
    "    def is_valid_pair(self, p1, p2):\n",
    "        c1 = (p1.paper_path.split('---')[0] == p2.paper_path.split('---')[0]) # pdf一樣\n",
    "        c2 = (p1.page_check[:-1] + p1.page_check[-1:].replace('1', '2')) == p2.page_check # 12-1 vs 12-2\n",
    "        return c1 and c2\n",
    "    \n",
    "    def plot_q(self, paper_path, q_list):\n",
    "        img = mpimg.imread(paper_path)\n",
    "        img_height, img_width = img.shape[0], img.shape[1]\n",
    "        \n",
    "        d = 100\n",
    "        fig, ax = plt.subplots(figsize=(img_height/d, img_width/d), dpi=d)\n",
    "        \n",
    "        for i in range(len(q_list)):\n",
    "            q = q_list[i]\n",
    "            x = q['x_float'] * img_width\n",
    "            y = (q['y_float'] - 0.01) * img_height\n",
    "            text = '%s --- (%.3f, %.3f) --- %s' %(q['num'], q['x_float'], q['y_float'], i)\n",
    "            ax.text(x, y, text, size=d*0.15, color='red', bbox={'facecolor': 'white', 'alpha': 0.7}) # , bbox_list={'edgecolor': 'red', 'fill': False, 'linewidth': 2} facecolor='red'\n",
    "        \n",
    "        ax.imshow(img, interpolation='none')\n",
    "        plt.tight_layout()\n",
    "        plt.show()\n",
    "        \n",
    "    def plot_border(self, paper_path, box_list):\n",
    "        img = mpimg.imread(paper_path)\n",
    "        img_height, img_width = img.shape[0], img.shape[1]\n",
    "        \n",
    "        d = 100\n",
    "        fig, ax = plt.subplots(figsize=(img_height/d, img_width/d), dpi=d)\n",
    "        \n",
    "        for i in range(len(box_list)):\n",
    "            box = box_list[i]\n",
    "            x1, x2, y1, y2 = box['x1'], box['x2'], box['y1'], box['y2']\n",
    "            x1_, x2_, y1_, y2_ = x1*img_width, x2*img_width, y1*img_height, y2*img_height\n",
    "            rec_width, rec_height = abs(x1_ - x2_), abs(y1_ - y2_)\n",
    "            xy = (x1_, y1_)\n",
    "            rect = patches.Rectangle(xy, rec_width, rec_height, linewidth=2, edgecolor='g', facecolor='none')\n",
    "            ax.add_patch(rect)\n",
    "            \n",
    "        ax.imshow(img, interpolation='none')\n",
    "        plt.tight_layout()\n",
    "        plt.show()\n",
    "    "
   ]
  },
  {
   "cell_type": "markdown",
   "id": "perceived-disease",
   "metadata": {},
   "source": [
    "### steps"
   ]
  },
  {
   "cell_type": "code",
   "execution_count": null,
   "id": "floating-matter",
   "metadata": {
    "ExecuteTime": {
     "end_time": "2021-03-07T07:04:41.091733Z",
     "start_time": "2021-03-07T07:04:36.676Z"
    }
   },
   "outputs": [],
   "source": [
    "quePaper = QuePaper()\n"
   ]
  },
  {
   "cell_type": "code",
   "execution_count": null,
   "id": "artistic-colon",
   "metadata": {
    "ExecuteTime": {
     "end_time": "2021-03-07T07:04:41.093337Z",
     "start_time": "2021-03-07T07:04:36.679Z"
    }
   },
   "outputs": [],
   "source": [
    "paper_path_list = quePaper.get_paper_path_list(year='*', subject='*', press='*', pdf_path=pdf_path)\n",
    "len(paper_path_list)\n"
   ]
  },
  {
   "cell_type": "code",
   "execution_count": null,
   "id": "individual-error",
   "metadata": {
    "ExecuteTime": {
     "end_time": "2021-03-07T07:04:41.094953Z",
     "start_time": "2021-03-07T07:04:36.683Z"
    },
    "scrolled": true
   },
   "outputs": [],
   "source": [
    "for i in range(len(paper_path_list)):\n",
    "# for i in [1]:\n",
    "    print(i+1, len(paper_path_list), end='\\r')\n",
    "    paper_path = paper_path_list[i]\n",
    "    quePaper.paper2segments(paper_path)\n",
    "quePaper.save_log()\n"
   ]
  },
  {
   "cell_type": "code",
   "execution_count": null,
   "id": "historic-background",
   "metadata": {
    "ExecuteTime": {
     "end_time": "2021-03-07T07:04:41.096579Z",
     "start_time": "2021-03-07T07:04:36.686Z"
    },
    "scrolled": true
   },
   "outputs": [],
   "source": [
    "quePaper.log.head(2)"
   ]
  },
  {
   "cell_type": "code",
   "execution_count": null,
   "id": "responsible-consent",
   "metadata": {},
   "outputs": [],
   "source": []
  },
  {
   "cell_type": "code",
   "execution_count": null,
   "id": "supreme-shannon",
   "metadata": {},
   "outputs": [],
   "source": []
  },
  {
   "cell_type": "markdown",
   "id": "opponent-liabilities",
   "metadata": {},
   "source": [
    "### check q_list"
   ]
  },
  {
   "cell_type": "code",
   "execution_count": null,
   "id": "animated-proof",
   "metadata": {
    "ExecuteTime": {
     "end_time": "2021-03-07T07:04:41.098213Z",
     "start_time": "2021-03-07T07:04:36.696Z"
    },
    "scrolled": true
   },
   "outputs": [],
   "source": [
    "quePaper.check_q_list()"
   ]
  },
  {
   "cell_type": "markdown",
   "id": "absent-corporation",
   "metadata": {},
   "source": [
    "#### original"
   ]
  },
  {
   "cell_type": "code",
   "execution_count": null,
   "id": "frequent-addition",
   "metadata": {
    "ExecuteTime": {
     "end_time": "2021-03-07T07:04:41.099850Z",
     "start_time": "2021-03-07T07:04:36.700Z"
    },
    "scrolled": true
   },
   "outputs": [],
   "source": [
    "log = quePaper.log\n",
    "df_to_check = log[log.q_list_check=='to_check']\n",
    "print(len(df_to_check))\n",
    "\n",
    "if len(df_to_check) != 0:\n",
    "    i = df_to_check.index[0]\n",
    "    paper_path = quePaper.log.loc[i, 'paper_path']\n",
    "    q_list = quePaper.log.loc[i, 'q_list']\n",
    "    quePaper.plot_q(paper_path, q_list)"
   ]
  },
  {
   "cell_type": "markdown",
   "id": "healthy-willow",
   "metadata": {},
   "source": [
    "#### add or remove"
   ]
  },
  {
   "cell_type": "code",
   "execution_count": null,
   "id": "plain-ready",
   "metadata": {
    "ExecuteTime": {
     "end_time": "2021-03-07T07:04:41.101480Z",
     "start_time": "2021-03-07T07:04:36.705Z"
    },
    "scrolled": true
   },
   "outputs": [],
   "source": [
    "paper_path = quePaper.log.loc[i, 'paper_path']\n",
    "q_list = quePaper.log.loc[i, 'q_list']\n",
    "\n",
    "add_q_list = [{'num': 2, 'text': 'x', 'x_float': 0.064, 'y_float': 0.190}]\n",
    "remove_q_index_list = []\n",
    "\n",
    "# add_q_list = []\n",
    "# remove_q_index_list = [9]\n",
    "\n",
    "# add_q_list = [\n",
    "#     {'num': 2, 'text': 'x', 'x_float': 0.493, 'y_float': 0.038},\n",
    "#     {'num': 3, 'text': 'x', 'x_float': 0.493, 'y_float': 0.278},\n",
    "# ]\n",
    "# remove_q_index_list = [2]\n",
    "\n",
    "q_list_check = quePaper.get_q_list_check(q_list, remove_q_index_list=remove_q_index_list, add_q_list=add_q_list)\n",
    "\n",
    "print(quePaper.is_valid_q_list(q_list_check))\n",
    "quePaper.plot_q(paper_path, q_list_check)\n"
   ]
  },
  {
   "cell_type": "code",
   "execution_count": null,
   "id": "generic-statement",
   "metadata": {
    "ExecuteTime": {
     "end_time": "2021-03-07T07:04:41.103062Z",
     "start_time": "2021-03-07T07:04:36.709Z"
    }
   },
   "outputs": [],
   "source": [
    "quePaper.update_q_list_check_(index=i, q_list_check=q_list_check)"
   ]
  },
  {
   "cell_type": "code",
   "execution_count": null,
   "id": "discrete-brake",
   "metadata": {
    "ExecuteTime": {
     "end_time": "2021-03-07T07:04:41.104590Z",
     "start_time": "2021-03-07T07:04:36.712Z"
    },
    "scrolled": true
   },
   "outputs": [],
   "source": [
    "# quePaper.log"
   ]
  },
  {
   "cell_type": "markdown",
   "id": "challenging-transcription",
   "metadata": {},
   "source": [
    "### check page"
   ]
  },
  {
   "cell_type": "code",
   "execution_count": null,
   "id": "patient-newman",
   "metadata": {
    "ExecuteTime": {
     "end_time": "2021-03-07T07:04:41.106276Z",
     "start_time": "2021-03-07T07:04:36.718Z"
    }
   },
   "outputs": [],
   "source": [
    "quePaper.check_page()"
   ]
  },
  {
   "cell_type": "markdown",
   "id": "stupid-darkness",
   "metadata": {},
   "source": [
    "#### revise"
   ]
  },
  {
   "cell_type": "code",
   "execution_count": null,
   "id": "arbitrary-kinase",
   "metadata": {
    "ExecuteTime": {
     "end_time": "2021-03-07T07:04:41.107882Z",
     "start_time": "2021-03-07T07:04:36.723Z"
    },
    "scrolled": true
   },
   "outputs": [],
   "source": [
    "log = quePaper.log\n",
    "df_check_page = log[log.page_check=='to_check']\n",
    "print('len(df_check_page)', len(df_check_page))\n",
    "\n",
    "if len(df_check_page) != 0:\n",
    "    i = df_check_page.index[0]\n",
    "    print('i', i)\n",
    "    d = 4\n",
    "    start = i - d if (i-d) >= 0 else 0\n",
    "    end = i + d\n",
    "    display(log[start:end])\n",
    "    \n",
    "    paper_path = quePaper.log.loc[i, 'paper_path']\n",
    "    q_list = quePaper.log.loc[i, 'q_list']\n",
    "    quePaper.plot_q(paper_path, q_list)"
   ]
  },
  {
   "cell_type": "code",
   "execution_count": null,
   "id": "forward-microphone",
   "metadata": {
    "ExecuteTime": {
     "end_time": "2021-03-07T07:04:41.109462Z",
     "start_time": "2021-03-07T07:04:36.726Z"
    }
   },
   "outputs": [],
   "source": [
    "# page_check = '11-1'\n",
    "# quePaper.update_page_check_(index=i, page_check=page_check)"
   ]
  },
  {
   "cell_type": "code",
   "execution_count": null,
   "id": "better-second",
   "metadata": {
    "ExecuteTime": {
     "end_time": "2021-03-07T07:04:41.111052Z",
     "start_time": "2021-03-07T07:04:36.730Z"
    },
    "scrolled": true
   },
   "outputs": [],
   "source": [
    "# quePaper.log"
   ]
  },
  {
   "cell_type": "code",
   "execution_count": null,
   "id": "tired-hepatitis",
   "metadata": {
    "ExecuteTime": {
     "end_time": "2021-03-07T07:04:41.112608Z",
     "start_time": "2021-03-07T07:04:36.733Z"
    }
   },
   "outputs": [],
   "source": [
    "40/3066, 10/3066"
   ]
  },
  {
   "cell_type": "markdown",
   "id": "tired-classic",
   "metadata": {},
   "source": [
    "### update box_list"
   ]
  },
  {
   "cell_type": "code",
   "execution_count": null,
   "id": "threaded-endorsement",
   "metadata": {
    "ExecuteTime": {
     "end_time": "2021-03-07T07:04:41.114217Z",
     "start_time": "2021-03-07T07:04:36.738Z"
    },
    "scrolled": true
   },
   "outputs": [],
   "source": [
    "quePaper.update_box_list()"
   ]
  },
  {
   "cell_type": "code",
   "execution_count": null,
   "id": "independent-basket",
   "metadata": {
    "ExecuteTime": {
     "end_time": "2021-03-07T07:04:41.115908Z",
     "start_time": "2021-03-07T07:04:36.741Z"
    },
    "scrolled": true
   },
   "outputs": [],
   "source": [
    "for i in [22, 23, 24, 25]:\n",
    "    paper_path = quePaper.log.loc[i, 'paper_path']\n",
    "    box_list = quePaper.log.loc[i, 'box_list']\n",
    "    quePaper.plot_border(paper_path, box_list)"
   ]
  },
  {
   "cell_type": "code",
   "execution_count": null,
   "id": "experimental-henry",
   "metadata": {
    "ExecuteTime": {
     "end_time": "2021-03-07T07:04:41.117491Z",
     "start_time": "2021-03-07T07:04:36.744Z"
    },
    "scrolled": true
   },
   "outputs": [],
   "source": [
    "quePaper.log.head()"
   ]
  },
  {
   "cell_type": "markdown",
   "id": "marked-measurement",
   "metadata": {},
   "source": [
    "### update name"
   ]
  },
  {
   "cell_type": "code",
   "execution_count": null,
   "id": "governing-scanner",
   "metadata": {
    "ExecuteTime": {
     "end_time": "2021-03-07T07:04:41.119052Z",
     "start_time": "2021-03-07T07:04:36.748Z"
    }
   },
   "outputs": [],
   "source": [
    "quePaper.num_list_to_name_list([1,2,3,4,1,1,2,3])"
   ]
  },
  {
   "cell_type": "code",
   "execution_count": null,
   "id": "vulnerable-familiar",
   "metadata": {
    "ExecuteTime": {
     "end_time": "2021-03-07T07:04:41.120646Z",
     "start_time": "2021-03-07T07:04:36.752Z"
    }
   },
   "outputs": [],
   "source": [
    "# quePaper.log = quePaper.log.rename(columns={'name': 'name_list'})\n",
    "# quePaper.log['name_list'] = 'x'"
   ]
  },
  {
   "cell_type": "code",
   "execution_count": null,
   "id": "confidential-broadway",
   "metadata": {
    "ExecuteTime": {
     "end_time": "2021-03-07T07:04:41.122203Z",
     "start_time": "2021-03-07T07:04:36.755Z"
    }
   },
   "outputs": [],
   "source": [
    "quePaper.update_name_list()"
   ]
  },
  {
   "cell_type": "code",
   "execution_count": null,
   "id": "forward-influence",
   "metadata": {
    "ExecuteTime": {
     "end_time": "2021-03-07T07:04:41.124120Z",
     "start_time": "2021-03-07T07:04:36.759Z"
    },
    "scrolled": true
   },
   "outputs": [],
   "source": [
    "i = 30\n",
    "p1 = quePaper.log.loc[i]\n",
    "p2 = quePaper.log.loc[i+1]\n",
    "p1.name_list, p2.name_list"
   ]
  },
  {
   "cell_type": "code",
   "execution_count": null,
   "id": "expanded-volleyball",
   "metadata": {
    "ExecuteTime": {
     "end_time": "2021-03-07T07:04:41.125904Z",
     "start_time": "2021-03-07T07:04:36.763Z"
    }
   },
   "outputs": [],
   "source": [
    "quePaper.log.head()"
   ]
  },
  {
   "cell_type": "markdown",
   "id": "generous-rubber",
   "metadata": {},
   "source": [
    "## segment"
   ]
  },
  {
   "cell_type": "code",
   "execution_count": null,
   "id": "transparent-bonus",
   "metadata": {
    "ExecuteTime": {
     "end_time": "2021-03-07T07:04:41.127513Z",
     "start_time": "2021-03-07T07:04:36.768Z"
    }
   },
   "outputs": [],
   "source": [
    "class QueSeg:\n",
    "    def __init__(self):\n",
    "        pass"
   ]
  },
  {
   "cell_type": "code",
   "execution_count": null,
   "id": "complex-campbell",
   "metadata": {
    "ExecuteTime": {
     "end_time": "2021-03-07T07:04:41.129061Z",
     "start_time": "2021-03-07T07:04:36.772Z"
    }
   },
   "outputs": [],
   "source": [
    "[43, 58, 73, 94, 98, 115]"
   ]
  },
  {
   "cell_type": "code",
   "execution_count": null,
   "id": "hawaiian-bolivia",
   "metadata": {},
   "outputs": [],
   "source": []
  },
  {
   "cell_type": "code",
   "execution_count": null,
   "id": "funny-setting",
   "metadata": {},
   "outputs": [],
   "source": []
  },
  {
   "cell_type": "code",
   "execution_count": null,
   "id": "south-shakespeare",
   "metadata": {},
   "outputs": [],
   "source": []
  },
  {
   "cell_type": "code",
   "execution_count": null,
   "id": "first-subscription",
   "metadata": {},
   "outputs": [],
   "source": []
  }
 ],
 "metadata": {
  "kernelspec": {
   "display_name": "Python 3",
   "language": "python",
   "name": "python3"
  },
  "language_info": {
   "codemirror_mode": {
    "name": "ipython",
    "version": 3
   },
   "file_extension": ".py",
   "mimetype": "text/x-python",
   "name": "python",
   "nbconvert_exporter": "python",
   "pygments_lexer": "ipython3",
   "version": "3.6.9"
  },
  "toc": {
   "base_numbering": 1,
   "nav_menu": {},
   "number_sections": true,
   "sideBar": true,
   "skip_h1_title": false,
   "title_cell": "Table of Contents",
   "title_sidebar": "Contents",
   "toc_cell": false,
   "toc_position": {
    "height": "calc(100% - 180px)",
    "left": "10px",
    "top": "150px",
    "width": "165px"
   },
   "toc_section_display": true,
   "toc_window_display": true
  }
 },
 "nbformat": 4,
 "nbformat_minor": 5
}
