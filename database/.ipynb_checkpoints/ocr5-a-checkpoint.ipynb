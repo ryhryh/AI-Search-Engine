{
 "cells": [
  {
   "cell_type": "markdown",
   "id": "fixed-episode",
   "metadata": {},
   "source": [
    "# answer"
   ]
  },
  {
   "cell_type": "markdown",
   "id": "naval-superintendent",
   "metadata": {},
   "source": [
    "## 108"
   ]
  },
  {
   "cell_type": "code",
   "execution_count": null,
   "id": "historic-hundred",
   "metadata": {},
   "outputs": [],
   "source": [
    "'''\n",
    "解答的題號都有對齊，不像題目可能有括號，所以小數點以後的都不是題號\n",
    "要把不是詳解的去掉\n",
    "\n",
    "一個pdf去檢查每一頁，確定都有標到題號再去生成box\n",
    "70pdf*30頁*10秒=\n",
    "\n",
    "找出適用大部分的rule\n",
    "少數的人工檢查就好 或者 直接修改pdf\n",
    "'''"
   ]
  },
  {
   "cell_type": "code",
   "execution_count": 68,
   "id": "acting-retrieval",
   "metadata": {
    "ExecuteTime": {
     "end_time": "2021-03-24T07:02:33.778688Z",
     "start_time": "2021-03-24T07:02:33.742619Z"
    }
   },
   "outputs": [],
   "source": [
    "format_to_basename = {\n",
    "    '兩欄-沒題目': [\n",
    "        '108上[南一]國中試卷-(三)數學-A卷-(優等)-(答).pdf',\n",
    "        '108上[南一]國中試卷-(三)數學-B卷-(中上)-(答).pdf',\n",
    "        '108上[南一]國中試卷-數學（一）-A卷-(優等)-答.pdf',\n",
    "        '108上[南一]國中試卷-數學（一）-B卷-(中上)-答.pdf',\n",
    "        '108上[南一]國中試卷-數學五A卷-(優等)-3上（答）.pdf',\n",
    "        '108上[南一]國中試卷-數學五B卷-(中上)-3上（答）.pdf',\n",
    "        '108下-南一國中試卷數學(2)A卷(優等)答-1下.pdf',\n",
    "        '108下-南一國中試卷數學(2)B卷(中等)答-1下.pdf',\n",
    "        '108下-南一國中試卷數學(4)A卷(優等)答-2下.pdf',\n",
    "        '108下-南一國中試卷數學(4)B卷(中等)答-2下.pdf',\n",
    "        '108下-南一國中試卷數學(6)D卷答.pdf',\n",
    "        '108下-南一國中試卷數學(6)B卷-(中上)-答.pdf',\n",
    "        '108下-南一國中試卷數學(6)A卷-(優等)-答.pdf',\n",
    "        \n",
    "        '108下-康軒國中試卷數學(2)B卷(中等)答-1下.pdf',\n",
    "        '108下-康軒國中試卷數學(2)A卷(優等)答-1下.pdf',\n",
    "        '108下-康軒國中試卷數學(6)K卷答.pdf',\n",
    "        '108下-康軒國中試卷數學(6)E卷-(最難)-答.pdf',\n",
    "        '108下-康軒國中試卷數學(6)B卷-(中上)-答.pdf',\n",
    "        '108下-康軒國中試卷數學(6)A卷-(優等)-答.pdf',\n",
    "        '108下-康軒國中試卷數學(4)E卷(最難)答-2下.pdf',\n",
    "        '108下-康軒國中試卷數學(4)B卷(中等)答-2下.pdf',\n",
    "        '108下-康軒國中試卷數學(4)A卷(優等)答-2下.pdf',\n",
    "        '108下-康軒國中試卷數學(2)E卷(最難)答-1下.pdf',\n",
    "        \n",
    "        '108下-翰林國中試卷數學(2)A卷(優等)答-1下.pdf', # '兩欄-沒題目-312B'\n",
    "        '108下-翰林國中試卷數學(4)A卷(優等)答-2下.pdf',\n",
    "        '108下-翰林國中試卷數學(6)A卷-(優等)-答.pdf',\n",
    "        '108上[翰林]國中試卷-數學（一）A卷-(優等)-答.pdf',\n",
    "        '108上[翰林]國中試卷-(三)數學-A卷-(優等)-(答).pdf',\n",
    "        '108上[翰林]國中試卷-數學五-A卷-(優等)-3上（答）.pdf',\n",
    "        \n",
    "        '108下-翰林國中試卷數學(2)B卷(中等)答-1下.pdf', # '兩欄-沒題目-312'\n",
    "        '108下-翰林國中試卷數學(4)B卷(中等)答-2下.pdf',\n",
    "        '108下-翰林國中試卷數學(6)B卷-(中上)-答.pdf',\n",
    "        '108上[翰林]國中試卷-數學（一）B卷-(中上)-答.pdf',\n",
    "        '108上[翰林]國中試卷-(三)數學-B卷-(中上)-(答).pdf',\n",
    "        '108上[翰林]國中試卷-數學五-B卷-(中上)-3上（答）.pdf',\n",
    "\n",
    "\n",
    "    ],\n",
    "    '兩欄-有題目': [\n",
    "        '108下-南一國中試卷數學(2)C卷答.pdf', # 把左邊塗掉\n",
    "        '108下-南一國中試卷數學(4)C卷答.pdf',\n",
    "        '108下-南一國中試卷數學(6)C卷答.pdf',\n",
    "        \n",
    "        '108上[康軒]國中試卷-(三)數學-E卷-(最難)-(答).pdf',\n",
    "        '108上[康軒]國中試卷-(三)數學-A卷-(優等)-(答).pdf',\n",
    "        '108上[康軒]國中新挑戰-數學（五）E卷-(最難)-3上（答）.pdf',\n",
    "        '108上[康軒]國中新挑戰-數學（五）A卷-(優等)-3上（答）.pdf',\n",
    "        '108上[康軒]國中新挑戰-數學（一）E卷-(最難)-答.pdf',\n",
    "        '108上[康軒]國中新挑戰-數學（一）A卷-(優等)-答.pdf',\n",
    "        \n",
    "        '108下-翰林國中試卷數學(2)C卷答.pdf',\n",
    "        '108下-翰林國中試卷數學(4)C卷答.pdf',\n",
    "        '108下-翰林國中試卷數學(4)D卷答.pdf',\n",
    "        '108下-翰林國中試卷數學(6)D卷答.pdf',\n",
    "    ],\n",
    "    '一欄-有題目': [\n",
    "        '108下-南一國中試卷數學(2)D卷答.pdf',  # 把左邊塗掉\n",
    "        '108下-南一國中試卷數學(4)D卷答.pdf',\n",
    "        \n",
    "        '108下-康軒國中試卷數學(2)C卷答.pdf',\n",
    "        '108下-康軒國中試卷數學(4)C卷答.pdf',\n",
    "        '108下-康軒國中試卷數學(6)C卷答.pdf',\n",
    "        '108上[康軒]國中新挑戰-數學（一）B卷-(中上)-答.pdf',\n",
    "        '108上[康軒]國中新挑戰-數學（五）B卷-(中上)-3上（答）.pdf',\n",
    "        '108上[康軒]國中試卷-(三)數學-B卷-(中上)-(答).pdf',\n",
    "    ],\n",
    "    '怪': [\n",
    "        '108下-康軒國中試卷數學(2)K卷答.pdf',\n",
    "        '108下-康軒國中試卷數學(4)K卷答.pdf'\n",
    "    ]\n",
    "}\n"
   ]
  },
  {
   "cell_type": "code",
   "execution_count": 69,
   "id": "pleased-outdoors",
   "metadata": {
    "ExecuteTime": {
     "end_time": "2021-03-24T07:02:33.796249Z",
     "start_time": "2021-03-24T07:02:33.781803Z"
    },
    "scrolled": true
   },
   "outputs": [
    {
     "data": {
      "text/plain": [
       "'一欄-有題目'"
      ]
     },
     "execution_count": 69,
     "metadata": {},
     "output_type": "execute_result"
    }
   ],
   "source": [
    "basename_to_format = {b:f for f, b_list in format_to_basename.items() for b in b_list}\n",
    "basename_to_format['108下-康軒國中試卷數學(2)C卷答.pdf']"
   ]
  },
  {
   "cell_type": "code",
   "execution_count": null,
   "id": "english-discretion",
   "metadata": {
    "ExecuteTime": {
     "end_time": "2021-03-16T08:23:52.424389Z",
     "start_time": "2021-03-16T08:23:52.408648Z"
    }
   },
   "outputs": [],
   "source": []
  },
  {
   "cell_type": "markdown",
   "id": "universal-playback",
   "metadata": {},
   "source": [
    "## pdf"
   ]
  },
  {
   "cell_type": "code",
   "execution_count": 56,
   "id": "backed-gothic",
   "metadata": {
    "ExecuteTime": {
     "end_time": "2021-03-24T06:53:45.140952Z",
     "start_time": "2021-03-24T06:53:45.091070Z"
    }
   },
   "outputs": [],
   "source": [
    "import os\n",
    "from glob import glob \n",
    "import pandas as pd\n",
    "from pdf2image import convert_from_path\n",
    "from datetime import datetime\n",
    "\n",
    "class AnsPdf:\n",
    "    def __init__(self):\n",
    "        self.key = 'pdf_path'\n",
    "        self.setup_log()\n",
    "    \n",
    "    def setup_log(self):\n",
    "        self.log_path = '/home/ryh/embedding-match/ocr/datasets/ansPdf.pickle'\n",
    "        self.log_columns = [self.key, 'created_time']\n",
    "        try:\n",
    "            self.log = pd.read_pickle(self.log_path)\n",
    "        except:\n",
    "            self.log = pd.DataFrame(columns=self.log_columns)\n",
    "        self.path_set = set(self.log[self.key].values)\n",
    "    \n",
    "    def update_log(self, pdf_path):\n",
    "        row = pd.DataFrame(columns=self.log_columns)\n",
    "        \n",
    "        row[self.key] = [pdf_path]\n",
    "        row['created_time'] = [datetime.now()]\n",
    "        \n",
    "        self.log = self.log.append(row)\n",
    "        self.path_set.add(pdf_path)\n",
    "        \n",
    "    def save_log(self):\n",
    "        self.log = self.log.sort_values(by=self.key, ascending=True).reset_index(drop=True)\n",
    "        self.log.to_pickle(self.log_path)\n",
    "        \n",
    "    def get_pdf_path_list(self, year='*', subject='*', press='*'):\n",
    "        d = '/home/ryh/embedding-match/ocr/datasets/taiwan/13to15/press/%s/%s/%s/answer/pdf/*.pdf'%(year, subject, press)\n",
    "        pdf_path_list = sorted(glob(d))\n",
    "        return pdf_path_list\n",
    "    \n",
    "    def pdf2papers(self, pdf_path):\n",
    "        if pdf_path in self.path_set: return\n",
    "        \n",
    "        images = convert_from_path(pdf_path)\n",
    "        \n",
    "        old_dirname = os.path.dirname(pdf_path)\n",
    "        old_basename = os.path.basename(pdf_path)\n",
    "        \n",
    "        new_dirname = old_dirname.replace('pdf', 'prePaper')\n",
    "        os.makedirs(new_dirname, exist_ok=True)\n",
    "        for i, image in enumerate(images):     \n",
    "            print(i+1, len(images), end='\\r')\n",
    "            new_basename = old_basename.replace('.pdf', '') + '---%02d'%(i+1) + '.png' \n",
    "            img_path = os.path.join(new_dirname, new_basename)\n",
    "            image.save(img_path, 'PNG')\n",
    "            \n",
    "        self.update_log(pdf_path)\n",
    "        \n",
    "    \n",
    "        \n",
    "ansPdf = AnsPdf()"
   ]
  },
  {
   "cell_type": "markdown",
   "id": "composite-symbol",
   "metadata": {},
   "source": [
    "### steps"
   ]
  },
  {
   "cell_type": "code",
   "execution_count": 57,
   "id": "focal-verse",
   "metadata": {
    "ExecuteTime": {
     "end_time": "2021-03-24T06:53:45.157370Z",
     "start_time": "2021-03-24T06:53:45.143568Z"
    }
   },
   "outputs": [
    {
     "data": {
      "text/plain": [
       "59"
      ]
     },
     "execution_count": 57,
     "metadata": {},
     "output_type": "execute_result"
    }
   ],
   "source": [
    "pdf_path_list = ansPdf.get_pdf_path_list(year='108', subject='數學')\n",
    "len(pdf_path_list)\n",
    "# pdf_path_list"
   ]
  },
  {
   "cell_type": "code",
   "execution_count": null,
   "id": "infinite-terry",
   "metadata": {
    "ExecuteTime": {
     "end_time": "2021-03-22T10:45:50.067163Z",
     "start_time": "2021-03-22T10:45:33.078913Z"
    },
    "scrolled": true
   },
   "outputs": [],
   "source": [
    "# 兩欄，沒題目\n",
    "# pdf_path = '/home/ryh/embedding-match/ocr/datasets/taiwan/13to15/press/108/數學/康軒/answer/pdf/108下-康軒國中試卷數學(2)B卷(中等)答-1下.pdf'\n",
    "# pdf_path = '/home/ryh/embedding-match/ocr/datasets/taiwan/13to15/press/108/數學/南一/answer/pdf/108上[南一]國中試卷-(三)數學-A卷-(優等)-(答).pdf'\n",
    "# pdf_path = '/home/ryh/embedding-match/ocr/datasets/taiwan/13to15/press/108/數學/翰林/answer/pdf/108上[翰林]國中試卷-(三)數學-A卷-(優等)-(答).pdf'\n",
    "# pdf_path = '/home/ryh/embedding-match/ocr/datasets/taiwan/13to15/press/108/數學/南一/answer/pdf/108上[南一]國中試卷-(三)數學-B卷-(中上)-(答).pdf'\n",
    "# pdf_path = '/home/ryh/embedding-match/ocr/datasets/taiwan/13to15/press/108/數學/翰林/answer/pdf/108下-翰林國中試卷數學(2)B卷(中等)答-1下.pdf'\n",
    "pdf_path = '/home/ryh/embedding-match/ocr/datasets/taiwan/13to15/press/108/數學/翰林/answer/pdf/108下-翰林國中試卷數學(4)A卷(優等)答-2下.pdf'\n",
    "\n",
    "# 兩欄，有題目\n",
    "# pdf_path = '/home/ryh/embedding-match/ocr/datasets/taiwan/13to15/press/108/數學/康軒/answer/pdf/108上[康軒]國中試卷-(三)數學-E卷-(最難)-(答).pdf'\n",
    "# pdf_path = '/home/ryh/embedding-match/ocr/datasets/taiwan/13to15/press/108/數學/翰林/answer/pdf/108下-翰林國中試卷數學(4)D卷答.pdf'\n",
    "\n",
    "# 一欄，有題目\n",
    "# pdf_path = '/home/ryh/embedding-match/ocr/datasets/taiwan/13to15/press/108/數學/康軒/answer/pdf/108下-康軒國中試卷數學(4)C卷答.pdf'\n",
    "\n",
    "\n",
    "\n",
    "ansPdf.pdf2papers(pdf_path)\n",
    "ansPdf.save_log()\n"
   ]
  },
  {
   "cell_type": "code",
   "execution_count": 58,
   "id": "peripheral-pathology",
   "metadata": {
    "ExecuteTime": {
     "end_time": "2021-03-24T06:55:34.797450Z",
     "start_time": "2021-03-24T06:53:48.262450Z"
    }
   },
   "outputs": [
    {
     "name": "stdout",
     "output_type": "stream",
     "text": [
      "59 59\r"
     ]
    }
   ],
   "source": [
    "for i in range(len(pdf_path_list)):\n",
    "    print(i+1, len(pdf_path_list), end='\\r')\n",
    "    pdf_path = pdf_path_list[i]\n",
    "    ansPdf.pdf2papers(pdf_path)\n",
    "\n",
    "ansPdf.save_log()"
   ]
  },
  {
   "cell_type": "markdown",
   "id": "choice-external",
   "metadata": {},
   "source": [
    "### remove"
   ]
  },
  {
   "cell_type": "code",
   "execution_count": 55,
   "id": "competent-january",
   "metadata": {
    "ExecuteTime": {
     "end_time": "2021-03-24T06:53:40.362355Z",
     "start_time": "2021-03-24T06:53:40.359019Z"
    },
    "scrolled": true
   },
   "outputs": [],
   "source": [
    "# pdf_path = '/home/ryh/embedding-match/ocr/datasets/taiwan/13to15/press/108/數學/南一/answer/pdf/108下-南一國中試卷數學(6)C卷答.pdf'\n",
    "# index = ansPdf.log[ansPdf.log.pdf_path==pdf_path].index\n",
    "# print(index)\n",
    "# ansPdf.log = ansPdf.log.drop(index=index)\n",
    "# ansPdf.save_log()"
   ]
  },
  {
   "cell_type": "code",
   "execution_count": null,
   "id": "fixed-antique",
   "metadata": {},
   "outputs": [],
   "source": [
    "\n"
   ]
  },
  {
   "cell_type": "code",
   "execution_count": null,
   "id": "sealed-edition",
   "metadata": {
    "ExecuteTime": {
     "end_time": "2021-03-22T10:45:24.966233Z",
     "start_time": "2021-03-22T10:45:24.963303Z"
    },
    "scrolled": true
   },
   "outputs": [],
   "source": [
    "# ansPdf.log"
   ]
  },
  {
   "cell_type": "markdown",
   "id": "focused-russia",
   "metadata": {},
   "source": [
    "## prePaper"
   ]
  },
  {
   "cell_type": "code",
   "execution_count": null,
   "id": "accepting-fantasy",
   "metadata": {
    "ExecuteTime": {
     "end_time": "2021-03-07T10:14:12.612949Z",
     "start_time": "2021-03-07T10:14:12.607938Z"
    }
   },
   "outputs": [],
   "source": [
    "'''\n",
    "康軒不用\n",
    "南一跟翰林要\n",
    "'''"
   ]
  },
  {
   "cell_type": "markdown",
   "id": "ordinary-dietary",
   "metadata": {},
   "source": [
    "### class"
   ]
  },
  {
   "cell_type": "code",
   "execution_count": 66,
   "id": "treated-silence",
   "metadata": {
    "ExecuteTime": {
     "end_time": "2021-03-24T06:58:34.836974Z",
     "start_time": "2021-03-24T06:58:33.802776Z"
    }
   },
   "outputs": [],
   "source": [
    "from google.cloud import vision\n",
    "import io\n",
    "from glob import glob \n",
    "import os\n",
    "import re\n",
    "from datetime import datetime\n",
    "import pandas as pd\n",
    "pd.set_option('display.max_rows', 500)\n",
    "\n",
    "%matplotlib inline\n",
    "import matplotlib.pyplot as plt\n",
    "import matplotlib.image as mpimg\n",
    "import matplotlib.patches as patches\n",
    "\n",
    "class PrePaper:\n",
    "    def __init__(self, basename_to_format):\n",
    "        self.key = 'prePaper_path'\n",
    "        self.vision_client = vision.ImageAnnotatorClient() \n",
    "        self.setup_log()\n",
    "        self.basename_to_format = basename_to_format\n",
    "        \n",
    "    def setup_log(self):\n",
    "        self.log_path = '/home/ryh/embedding-match/ocr/datasets/ansPrePaper.pickle'\n",
    "        try:\n",
    "            self.log = pd.read_pickle(self.log_path)\n",
    "        except:\n",
    "            cols = [self.key, 'created_time', 'paper_size', 'page_list', 'page_list_check', 'box_list', 'is_split']\n",
    "            self.log = pd.DataFrame(columns=cols)\n",
    "            self.log.to_pickle(self.log_path)\n",
    "        self.path_set = set(self.log[self.key].values)\n",
    "    \n",
    "    def update_log(self):\n",
    "        row = pd.DataFrame()\n",
    "        row[self.key] = [self.paper_path]\n",
    "        row['created_time'] = [datetime.now()]\n",
    "        row['paper_size'] = [(self.paper_width, self.paper_height)]\n",
    "        row['page_list'] = [self.page_list]\n",
    "        row['page_list_check'] = ['x']\n",
    "        row['box_list'] = ['x']\n",
    "        row['is_split'] = ['x']\n",
    "        \n",
    "        self.log = self.log.append(row)\n",
    "        self.path_set.add(self.paper_path)\n",
    "        \n",
    "    def save_log(self):\n",
    "        self.log = self.log.sort_values(by=self.key, ascending=True).reset_index(drop=True) # cost time\n",
    "        self.log.to_pickle(self.log_path) # cost time\n",
    "        \n",
    "    def get_paper_path_list(self, year='*', subject='*', press='*', pdf_path=''):\n",
    "        path = os.path.basename(pdf_path)\n",
    "        path = path.replace('.pdf', '').replace('[', '*').replace(']', '*')\n",
    "        d = '/home/ryh/embedding-match/ocr/datasets/taiwan/13to15/press/%s/%s/%s/answer/prePaper/%s*.png'%(year, subject, press, path)\n",
    "        paper_path_list = sorted(glob(d))\n",
    "        return paper_path_list\n",
    "    \n",
    "    def split_prePaper(self, prePaper_path, basename_to_format):\n",
    "        if prePaper_path in self.path_set: return #?\n",
    "        self.setup_paper(prePaper_path)\n",
    "        self.ann_list = self.detect_text(self.paper_byte)\n",
    "        self.page_list = self.get_page_list(self.ann_list)\n",
    "        self.update_log()\n",
    "    \n",
    "    def setup_paper(self, paper_path):\n",
    "        self.paper_path = paper_path\n",
    "        with open(self.paper_path, 'rb') as f:\n",
    "            self.paper_byte = f.read()\n",
    "        self.paper_arr = mpimg.imread(self.paper_path)\n",
    "        self.paper_height, self.paper_width = self.paper_arr.shape[0], self.paper_arr.shape[1]\n",
    "        self.paper_format = self.get_paper_format(self.paper_path)\n",
    "\n",
    "    def get_paper_format(self, paper_path):\n",
    "        basename = os.path.basename(paper_path).split('---')[0] + '.pdf'\n",
    "        paper_format = self.basename_to_format[basename]\n",
    "        return paper_format\n",
    "    \n",
    "    def detect_text(self, paper_byte):\n",
    "        image = vision.Image(content=paper_byte)\n",
    "        response = self.vision_client.text_detection(image=image)\n",
    "        text_annotation_list = response.text_annotations\n",
    "        return text_annotation_list[1:]\n",
    "    \n",
    "    def get_page_list(self, ann_list):\n",
    "        page_list = []\n",
    "        for i in range(len(ann_list)):\n",
    "            ann = ann_list[i]\n",
    "            words = ''.join([ann.description for ann in ann_list[i:i+5]])\n",
    "\n",
    "            vertices = ann.bounding_poly.vertices\n",
    "            # 左上 右上 右下 左下\n",
    "            x_float, y_float = vertices[0].x / self.paper_width, vertices[0].y / self.paper_height\n",
    "            x_float_btm, y_float_btm = vertices[-1].x / self.paper_width, vertices[-1].y / self.paper_height\n",
    "\n",
    "            name = prePaper.get_name(words)\n",
    "            if name != None:\n",
    "                page = {'name': name, 'x_float': round(x_float, 3), 'y_float': round(y_float, 3), 'y_float_btm': round(y_float_btm, 3)}\n",
    "                page_list.append(page)\n",
    "        page_list = sorted(page_list, key=(lambda x: (x['y_float'])))\n",
    "        \n",
    "        self.page_list_ = page_list\n",
    "        \n",
    "        if self.paper_format == '兩欄-沒題目':\n",
    "            page_list = page_list\n",
    "        elif self.paper_format in ['兩欄-有題目', '一欄-有題目']:\n",
    "            page_list = page_list[-1:] # 最底部的\n",
    "        return page_list\n",
    "    \n",
    "    def get_name(self, words):\n",
    "        if self.paper_format == '兩欄-沒題目':\n",
    "            pat = '^解答(.*?)([1-9]|1[0-9])(-|–)([1-2])' #! 多一個問號\n",
    "            x = re.search(pat, words)\n",
    "            if x != None:\n",
    "                return x.group(2) + '-' + x.group(4)\n",
    "        elif self.paper_format in ['兩欄-有題目', '一欄-有題目']:\n",
    "            pat = '^([1-9]|1[0-9])(-|–)([1-2])'\n",
    "            x = re.search(pat, words)\n",
    "            if x != None:\n",
    "                return x.group(1) + '-' + x.group(3)\n",
    "            \n",
    "    def update_page_list_check(self):\n",
    "        df = self.log[self.log.page_list_check=='x'].copy()\n",
    "        if len(df) == 0: return\n",
    "        df['page_list_check'] = df.apply(lambda row: self.get_page_list_check(row), axis=1)\n",
    "        self.log.loc[df.index, 'page_list_check'] = df['page_list_check']\n",
    "        self.save_log()\n",
    "        \n",
    "    def get_page_list_check(self, row):\n",
    "        page_list = row.page_list\n",
    "        if len(page_list) == 0: return 'to_check'\n",
    "        \n",
    "        paper_format = self.get_paper_format(self.log.loc[row.name, 'prePaper_path'])\n",
    "        \n",
    "        if paper_format == '兩欄-沒題目':\n",
    "            if len(page_list) != 2: return 'to_check'\n",
    "            \n",
    "            pre, cur = page_list[0]['name'], page_list[1]['name']\n",
    "            pre_a, pre_b = pre.split('-')\n",
    "            cur_a, cur_b = cur.split('-')\n",
    "            pre_a, pre_b, cur_a, cur_b = int(pre_a), int(pre_b), int(cur_a), int(cur_b)\n",
    "            c1 = (pre_a - cur_a == 1) and (pre_b - cur_b == 0) # (2-1, 1-1) \n",
    "            c2 = (pre_a - cur_a == -1) and (pre_b - cur_b == 0) # (1-2, 2-2)\n",
    "            if c1 or c2: \n",
    "                return page_list\n",
    "            else:\n",
    "                return 'to_check'\n",
    "            \n",
    "        elif paper_format in ['兩欄-有題目', '一欄-有題目']:\n",
    "            try:\n",
    "                i = row.name\n",
    "                pre = self.log.loc[i-1, 'page_list'][0]['name']\n",
    "                cur = self.log.loc[i, 'page_list'][0]['name']\n",
    "                lat = self.log.loc[i+1, 'page_list'][0]['name']\n",
    "                c1 = self.is_valid_page_pair(pre, cur)\n",
    "                c2 = self.is_valid_page_pair(cur, lat)\n",
    "            except:\n",
    "                return 'to_check'\n",
    "            \n",
    "            if c1 or c2: \n",
    "                return self.log.loc[i, 'page_list']\n",
    "            else:\n",
    "                return 'to_check'\n",
    "    \n",
    "    def is_valid_page_pair(self, name1, name2):\n",
    "        cur_1, cur_2 = name1.split('-') \n",
    "        lat_1, lat_2 = name2.split('-') \n",
    "        cur_1, cur_2 = int(cur_1), int(cur_2)\n",
    "        lat_1, lat_2 = int(lat_1), int(lat_2)\n",
    "\n",
    "        c1 = (cur_1-lat_1==0) and (cur_2-lat_2==-1) # 1-1, 1-2\n",
    "        c2 = (cur_1-lat_1==-1) and (cur_2-lat_2==1) # 1-2, 2-1\n",
    "        if c1 or c2: return True\n",
    "        else: return False\n",
    "        \n",
    "    def update_page_list_check_(self, index=0, page_list_check=None):\n",
    "        self.log.at[index, 'page_list_check'] = page_list_check\n",
    "        self.save_log()   \n",
    "        \n",
    "    def update_box_list(self):\n",
    "        df = self.log[self.log.box_list=='x'].copy()\n",
    "        if len(df) == 0: return\n",
    "        df['box_list'] = df.apply(lambda row: self.get_box_list(row), axis=1)\n",
    "        self.log.loc[df.index, 'box_list'] = df['box_list']\n",
    "        self.save_log()\n",
    "\n",
    "    def get_box_list(self, row):\n",
    "        page_list = row.page_list_check #!\n",
    "        \n",
    "        if self.paper_format == '兩欄-沒題目':\n",
    "            p1, p2 = page_list[0], page_list[1]\n",
    "            if 0.4 < p1['y_float'] < 0.6: # 中 下\n",
    "                box1 = {'x1': 0, 'x2': 1, 'y1': 0, 'y2': p1['y_float'], 'name': p1['name']}\n",
    "                box2 = {'x1': 0, 'x2': 1, 'y1': p1['y_float_btm'], 'y2': p2['y_float'], 'name': p2['name']}\n",
    "            else: # 上 中\n",
    "                box1 = {'x1': 0, 'x2': 1, 'y1': p1['y_float_btm'], 'y2': p2['y_float'], 'name': p1['name']}\n",
    "                box2 = {'x1': 0, 'x2': 1, 'y1': p2['y_float_btm'], 'y2': 0.95, 'name': p2['name']}\n",
    "            box_list = [box1, box2]\n",
    "            \n",
    "        elif self.paper_format in ['兩欄-有題目', '一欄-有題目']:\n",
    "            p1 = page_list[0]\n",
    "            box1 = {'x1': 0, 'x2': 1, 'y1': 0, 'y2': p1['y_float'], 'name': p1['name']}\n",
    "            box_list = [box1]\n",
    "            \n",
    "        return box_list\n",
    "        \n",
    "    def update_is_split(self):\n",
    "        df = self.log[self.log.is_split=='x'].copy()\n",
    "        if len(df) == 0: return\n",
    "        print(len(df))\n",
    "        df['is_split'] = df.apply(lambda row: self.get_is_split(row), axis=1)\n",
    "        self.log.loc[df.index, 'is_split'] = df['is_split']\n",
    "        self.save_log()\n",
    "        \n",
    "    def get_is_split(self, row):\n",
    "        print(row.name+1, end='\\r')\n",
    "        page_list = row.page_list\n",
    "        box_list = row.box_list\n",
    "        prePaper_path = row.prePaper_path\n",
    "        img = mpimg.imread(prePaper_path)\n",
    "        img_height, img_width = img.shape[0], img.shape[1]\n",
    "        \n",
    "        for box in box_list:\n",
    "            name = box['name']\n",
    "            name_a, name_b = name.split('-')\n",
    "            name = '%02d-%s'%(int(name_a), name_b)\n",
    "            x1, x2, y1, y2 = box['x1'], box['x2'], box['y1'], box['y2']\n",
    "            x1, x2, y1, y2 = int(x1*img_width), int(x2*img_width), int(y1*img_height), int(y2*img_height)\n",
    "            old_dirname = os.path.dirname(prePaper_path)\n",
    "            old_basename = os.path.basename(prePaper_path)\n",
    "            new_dirname = old_dirname.replace('prePaper', 'paper')\n",
    "            new_basename = old_basename.split('---')[0] + '---' + name + '.png'\n",
    "            path = os.path.join(new_dirname, new_basename)\n",
    "            seg = img[y1:y2, x1:x2 , :]\n",
    "            plt.imsave(path, seg)\n",
    "        return path\n",
    "    \n",
    "    def plot_q(self, paper_path, q_list):\n",
    "        img = mpimg.imread(paper_path)\n",
    "        img_height, img_width = img.shape[0], img.shape[1]\n",
    "        \n",
    "        d = 100\n",
    "        fig, ax = plt.subplots(figsize=(img_height/d, img_width/d), dpi=d)\n",
    "        \n",
    "        for i in range(len(q_list)):\n",
    "            q = q_list[i]\n",
    "            x = q['x_float'] * img_width\n",
    "            y_top = q['y_float'] * img_height\n",
    "            y_btm = q['y_float_btm'] * img_height\n",
    "            text_top = '.................' + q['name']\n",
    "            text_btm = '.................' \n",
    "            ax.text(x, y_top, text_top, size=d*0.15, color='red') \n",
    "            ax.text(x, y_btm, text_btm, size=d*0.15, color='red') \n",
    "            \n",
    "        ax.imshow(img, interpolation='none')\n",
    "        plt.tight_layout()\n",
    "        plt.show()\n",
    "        \n",
    "    def plot_border(self, paper_path, box_list):\n",
    "        img = mpimg.imread(paper_path)\n",
    "        img_height, img_width = img.shape[0], img.shape[1]\n",
    "        \n",
    "        d = 150\n",
    "        fig, ax = plt.subplots(figsize=(img_height/d, img_width/d), dpi=100)\n",
    "        \n",
    "        for i in range(len(box_list)):\n",
    "            box = box_list[i]\n",
    "            x1, x2, y1, y2 = box['x1'], box['x2'], box['y1'], box['y2']\n",
    "            x1_, x2_, y1_, y2_ = x1*img_width, x2*img_width, y1*img_height, y2*img_height\n",
    "            rec_width, rec_height = abs(x1_ - x2_), abs(y1_ - y2_)\n",
    "            xy = (x1_, y1_)\n",
    "            rect = patches.Rectangle(xy, rec_width, rec_height, linewidth=2, edgecolor='g', facecolor='none')\n",
    "            ax.add_patch(rect)\n",
    "            \n",
    "        ax.imshow(img, interpolation='none')\n",
    "        plt.tight_layout()\n",
    "        plt.show()\n",
    "        \n",
    "prePaper = PrePaper(basename_to_format)\n"
   ]
  },
  {
   "cell_type": "markdown",
   "id": "turkish-throat",
   "metadata": {},
   "source": [
    "### steps"
   ]
  },
  {
   "cell_type": "code",
   "execution_count": null,
   "id": "contemporary-policy",
   "metadata": {
    "ExecuteTime": {
     "end_time": "2021-03-22T09:18:30.735459Z",
     "start_time": "2021-03-22T09:18:30.727519Z"
    }
   },
   "outputs": [],
   "source": [
    "pdf_path = format_to_basename['兩欄-沒題目'][5]\n",
    "if '南一' in pdf_path: press = '南一'\n",
    "if '康軒' in pdf_path: press = '康軒'\n",
    "if '翰林' in pdf_path: press = '翰林'\n",
    "prefix = '/home/ryh/embedding-match/ocr/datasets/taiwan/13to15/press/108/數學/%s/answer/pdf/'%(press)\n",
    "pdf_path = prefix + pdf_path\n",
    "pdf_path\n"
   ]
  },
  {
   "cell_type": "code",
   "execution_count": null,
   "id": "cloudy-possession",
   "metadata": {
    "ExecuteTime": {
     "end_time": "2021-03-22T09:18:32.331626Z",
     "start_time": "2021-03-22T09:18:32.320069Z"
    },
    "scrolled": true
   },
   "outputs": [],
   "source": [
    "paper_path_list = prePaper.get_paper_path_list(year='*', subject='*', press='*', pdf_path=pdf_path)\n",
    "len(paper_path_list)\n",
    "# paper_path_list"
   ]
  },
  {
   "cell_type": "code",
   "execution_count": null,
   "id": "micro-hammer",
   "metadata": {
    "ExecuteTime": {
     "end_time": "2021-03-22T09:18:33.778916Z",
     "start_time": "2021-03-22T09:18:33.766911Z"
    }
   },
   "outputs": [],
   "source": [
    "for i in range(len(paper_path_list[:])):\n",
    "    prePaper_path = paper_path_list[i]\n",
    "    print(i+1, len(paper_path_list), end='\\r')\n",
    "    prePaper.split_prePaper(prePaper_path, basename_to_format)\n",
    "prePaper.save_log()"
   ]
  },
  {
   "cell_type": "code",
   "execution_count": null,
   "id": "overall-yield",
   "metadata": {
    "ExecuteTime": {
     "end_time": "2021-03-17T08:31:50.710364Z",
     "start_time": "2021-03-17T08:31:50.706438Z"
    },
    "scrolled": true
   },
   "outputs": [],
   "source": [
    "# prePaper.log"
   ]
  },
  {
   "cell_type": "markdown",
   "id": "stretch-effectiveness",
   "metadata": {},
   "source": [
    "### process all"
   ]
  },
  {
   "cell_type": "code",
   "execution_count": null,
   "id": "handmade-glenn",
   "metadata": {
    "ExecuteTime": {
     "start_time": "2021-03-24T08:13:43.674Z"
    },
    "scrolled": true
   },
   "outputs": [
    {
     "name": "stdout",
     "output_type": "stream",
     "text": [
      "1 8\r"
     ]
    }
   ],
   "source": [
    "pdf_list = format_to_basename['一欄-有題目']\n",
    "for i, pdf_path in enumerate(pdf_list):\n",
    "    print(i+1, len(pdf_list), end='\\r')\n",
    "    \n",
    "    if '南一' in pdf_path: press = '南一'\n",
    "    if '康軒' in pdf_path: press = '康軒'\n",
    "    if '翰林' in pdf_path: press = '翰林'\n",
    "    prefix = '/home/ryh/embedding-match/ocr/datasets/taiwan/13to15/press/108/數學/%s/answer/pdf/'%(press)\n",
    "    pdf_path = prefix + pdf_path\n",
    "    \n",
    "    paper_path_list = prePaper.get_paper_path_list(year='*', subject='*', press='*', pdf_path=pdf_path)\n",
    "    \n",
    "    for i in range(len(paper_path_list[:])):\n",
    "        prePaper_path = paper_path_list[i]\n",
    "        prePaper.split_prePaper(prePaper_path, basename_to_format)\n",
    "    prePaper.save_log()"
   ]
  },
  {
   "cell_type": "markdown",
   "id": "appropriate-material",
   "metadata": {},
   "source": [
    "### remove log"
   ]
  },
  {
   "cell_type": "code",
   "execution_count": 73,
   "id": "concerned-protest",
   "metadata": {
    "ExecuteTime": {
     "end_time": "2021-03-24T07:03:23.012667Z",
     "start_time": "2021-03-24T07:03:23.008876Z"
    },
    "scrolled": true
   },
   "outputs": [],
   "source": [
    "# key_words = '108下-康軒國中試卷數學(4)K卷答'\n",
    "# c = prePaper.log.prePaper_path.apply(lambda x: key_words in x)\n",
    "# index_list = prePaper.log[c].index\n",
    "# print(index_list)\n",
    "# prePaper.log.drop(index_list, inplace=True)\n",
    "# prePaper.save_log()"
   ]
  },
  {
   "cell_type": "markdown",
   "id": "veterinary-convergence",
   "metadata": {},
   "source": [
    "### update page_list_check"
   ]
  },
  {
   "cell_type": "code",
   "execution_count": 74,
   "id": "controlling-rhythm",
   "metadata": {
    "ExecuteTime": {
     "end_time": "2021-03-24T07:03:25.217950Z",
     "start_time": "2021-03-24T07:03:25.174484Z"
    },
    "scrolled": true
   },
   "outputs": [],
   "source": [
    "prePaper.update_page_list_check()"
   ]
  },
  {
   "cell_type": "markdown",
   "id": "mental-valve",
   "metadata": {
    "ExecuteTime": {
     "end_time": "2021-03-08T03:48:30.865264Z",
     "start_time": "2021-03-08T03:48:30.857847Z"
    }
   },
   "source": [
    "#### original"
   ]
  },
  {
   "cell_type": "code",
   "execution_count": 125,
   "id": "guilty-plane",
   "metadata": {
    "ExecuteTime": {
     "end_time": "2021-03-24T07:55:52.159515Z",
     "start_time": "2021-03-24T07:55:52.152405Z"
    },
    "scrolled": true
   },
   "outputs": [
    {
     "data": {
      "text/plain": [
       "(0, 7)"
      ]
     },
     "execution_count": 125,
     "metadata": {},
     "output_type": "execute_result"
    }
   ],
   "source": [
    "df_check = prePaper.log[prePaper.log.page_list_check=='to_check']\n",
    "df_check.shape"
   ]
  },
  {
   "cell_type": "code",
   "execution_count": 77,
   "id": "steady-piano",
   "metadata": {
    "ExecuteTime": {
     "end_time": "2021-03-24T07:45:15.267363Z",
     "start_time": "2021-03-24T07:45:15.263240Z"
    }
   },
   "outputs": [],
   "source": [
    "# df_check.prePaper_path.values"
   ]
  },
  {
   "cell_type": "code",
   "execution_count": 100,
   "id": "afraid-scholarship",
   "metadata": {
    "ExecuteTime": {
     "end_time": "2021-03-24T07:52:32.906192Z",
     "start_time": "2021-03-24T07:52:32.902251Z"
    }
   },
   "outputs": [],
   "source": [
    "# prePaper.log.loc[433:436]"
   ]
  },
  {
   "cell_type": "code",
   "execution_count": 126,
   "id": "impossible-sussex",
   "metadata": {
    "ExecuteTime": {
     "end_time": "2021-03-24T07:55:53.509556Z",
     "start_time": "2021-03-24T07:55:53.502909Z"
    },
    "scrolled": true
   },
   "outputs": [],
   "source": [
    "if len(df_check) != 0:\n",
    "    i = df_check.index[0]\n",
    "    prePaper.plot_q(prePaper.log.loc[i, 'prePaper_path'], prePaper.log.loc[i, 'page_list'])\n",
    "    \n",
    "    print(prePaper.log.loc[i, 'prePaper_path'])\n",
    "    for x in prePaper.log.loc[i, 'page_list']:\n",
    "        print(x)\n",
    "        print('')"
   ]
  },
  {
   "cell_type": "code",
   "execution_count": null,
   "id": "narrative-romance",
   "metadata": {
    "ExecuteTime": {
     "end_time": "2021-03-22T08:56:16.124893Z",
     "start_time": "2021-03-22T08:56:16.119603Z"
    },
    "scrolled": true
   },
   "outputs": [],
   "source": [
    "# i = 63\n",
    "# prePaper.plot_q(prePaper.log.loc[i, 'prePaper_path'], prePaper.log.loc[i, 'page_list_check'])\n",
    "\n",
    "# for x in prePaper.log.loc[i, 'page_list']:\n",
    "#     print(x)\n",
    "#     print('')"
   ]
  },
  {
   "cell_type": "markdown",
   "id": "weighted-personality",
   "metadata": {},
   "source": [
    "#### edit"
   ]
  },
  {
   "cell_type": "code",
   "execution_count": 123,
   "id": "logical-airplane",
   "metadata": {
    "ExecuteTime": {
     "end_time": "2021-03-24T07:55:45.658345Z",
     "start_time": "2021-03-24T07:55:44.351429Z"
    },
    "scrolled": true
   },
   "outputs": [
    {
     "name": "stdout",
     "output_type": "stream",
     "text": [
      "to_check\n"
     ]
    },
    {
     "data": {
      "image/png": "[encoded data removed]",
      "text/plain": [
       "<Figure size 2976x2047 with 1 Axes>"
      ]
     },
     "metadata": {
      "needs_background": "light"
     },
     "output_type": "display_data"
    }
   ],
   "source": [
    "page_list_check = [\n",
    "    {'name': '10-2', 'x_float': 0.489, 'y_float': 0.98, 'y_float_btm': 0.989}\n",
    "]\n",
    "\n",
    "# check\n",
    "row = pd.DataFrame({'page_list': [page_list_check]}).loc[0]\n",
    "print(prePaper.get_page_list_check(row))\n",
    "\n",
    "# plot\n",
    "prePaper.plot_q(prePaper.log.loc[i, 'prePaper_path'], page_list_check)"
   ]
  },
  {
   "cell_type": "code",
   "execution_count": 124,
   "id": "widespread-newark",
   "metadata": {
    "ExecuteTime": {
     "end_time": "2021-03-24T07:55:49.602295Z",
     "start_time": "2021-03-24T07:55:49.590233Z"
    }
   },
   "outputs": [],
   "source": [
    "prePaper.update_page_list_check_(index=i, page_list_check=page_list_check)\n"
   ]
  },
  {
   "cell_type": "markdown",
   "id": "institutional-pantyhose",
   "metadata": {},
   "source": [
    "### update box_list"
   ]
  },
  {
   "cell_type": "code",
   "execution_count": 127,
   "id": "confident-rental",
   "metadata": {
    "ExecuteTime": {
     "end_time": "2021-03-24T07:55:58.021081Z",
     "start_time": "2021-03-24T07:55:57.989518Z"
    },
    "scrolled": true
   },
   "outputs": [],
   "source": [
    "prePaper.update_box_list()"
   ]
  },
  {
   "cell_type": "code",
   "execution_count": null,
   "id": "sporting-drunk",
   "metadata": {
    "ExecuteTime": {
     "end_time": "2021-03-22T09:02:03.484253Z",
     "start_time": "2021-03-22T09:02:03.480830Z"
    }
   },
   "outputs": [],
   "source": [
    "# prePaper.log.loc[63, 'box_list']"
   ]
  },
  {
   "cell_type": "code",
   "execution_count": null,
   "id": "touched-marathon",
   "metadata": {
    "ExecuteTime": {
     "end_time": "2021-03-22T09:01:54.611113Z",
     "start_time": "2021-03-22T09:01:54.607186Z"
    },
    "scrolled": true
   },
   "outputs": [],
   "source": [
    "# i = 63\n",
    "# prePaper.log.at[i, 'box_list'] = prePaper.get_box_list(prePaper.log.loc[i])\n",
    "# prePaper.save_log()"
   ]
  },
  {
   "cell_type": "markdown",
   "id": "excessive-actress",
   "metadata": {},
   "source": [
    "### update_is_split"
   ]
  },
  {
   "cell_type": "code",
   "execution_count": null,
   "id": "august-atlanta",
   "metadata": {
    "ExecuteTime": {
     "end_time": "2021-03-15T09:42:12.023062Z",
     "start_time": "2021-03-15T09:42:12.018902Z"
    }
   },
   "outputs": [],
   "source": [
    "# prePaper.log.is_split = 'x'"
   ]
  },
  {
   "cell_type": "code",
   "execution_count": null,
   "id": "aging-praise",
   "metadata": {
    "ExecuteTime": {
     "end_time": "2021-03-22T09:14:35.205466Z",
     "start_time": "2021-03-22T09:14:35.200482Z"
    }
   },
   "outputs": [],
   "source": [
    "pdf_path"
   ]
  },
  {
   "cell_type": "code",
   "execution_count": 128,
   "id": "thermal-triple",
   "metadata": {
    "ExecuteTime": {
     "end_time": "2021-03-24T08:08:46.098947Z",
     "start_time": "2021-03-24T07:56:09.547422Z"
    },
    "scrolled": true
   },
   "outputs": [
    {
     "name": "stdout",
     "output_type": "stream",
     "text": [
      "418\n",
      "934\r"
     ]
    }
   ],
   "source": [
    "prePaper.update_is_split()"
   ]
  },
  {
   "cell_type": "code",
   "execution_count": null,
   "id": "resident-ecology",
   "metadata": {
    "ExecuteTime": {
     "end_time": "2021-03-24T08:11:05.314081Z",
     "start_time": "2021-03-24T08:11:05.308978Z"
    }
   },
   "outputs": [],
   "source": []
  },
  {
   "cell_type": "markdown",
   "id": "defined-maria",
   "metadata": {},
   "source": [
    "### debug"
   ]
  },
  {
   "cell_type": "code",
   "execution_count": 10,
   "id": "korean-seafood",
   "metadata": {
    "ExecuteTime": {
     "end_time": "2021-03-24T06:10:56.243063Z",
     "start_time": "2021-03-24T06:10:56.230701Z"
    }
   },
   "outputs": [],
   "source": [
    "prePaper = PrePaper(basename_to_format)"
   ]
  },
  {
   "cell_type": "code",
   "execution_count": 13,
   "id": "separated-withdrawal",
   "metadata": {
    "ExecuteTime": {
     "end_time": "2021-03-24T06:15:58.013620Z",
     "start_time": "2021-03-24T06:15:55.131591Z"
    }
   },
   "outputs": [],
   "source": [
    "prePaper_path = '/home/ryh/embedding-match/ocr/datasets/taiwan/13to15/press/108/數學/南一/answer/prePaper/108下-南一國中試卷數學(2)C卷答---03.png'\n",
    "prePaper.setup_paper(prePaper_path)\n",
    "prePaper.ann_list = prePaper.detect_text(prePaper.paper_byte)\n",
    "prePaper.page_list = prePaper.get_page_list(prePaper.ann_list)\n"
   ]
  },
  {
   "cell_type": "code",
   "execution_count": 14,
   "id": "economic-modem",
   "metadata": {
    "ExecuteTime": {
     "end_time": "2021-03-24T06:15:59.482305Z",
     "start_time": "2021-03-24T06:15:59.475481Z"
    }
   },
   "outputs": [
    {
     "data": {
      "text/plain": [
       "[{'name': '1-2', 'x_float': 0.608, 'y_float': 0.036, 'y_float_btm': 0.043},\n",
       " {'name': '1-1', 'x_float': 0.042, 'y_float': 0.086, 'y_float_btm': 0.09},\n",
       " {'name': '1-2', 'x_float': 0.042, 'y_float': 0.093, 'y_float_btm': 0.097},\n",
       " {'name': '1-1', 'x_float': 0.038, 'y_float': 0.099, 'y_float_btm': 0.104},\n",
       " {'name': '1-2', 'x_float': 0.042, 'y_float': 0.107, 'y_float_btm': 0.11},\n",
       " {'name': '2-1', 'x_float': 0.041, 'y_float': 0.141, 'y_float_btm': 0.145},\n",
       " {'name': '2-2', 'x_float': 0.041, 'y_float': 0.148, 'y_float_btm': 0.151},\n",
       " {'name': '4-1', 'x_float': 0.041, 'y_float': 0.199, 'y_float_btm': 0.202},\n",
       " {'name': '4-2', 'x_float': 0.041, 'y_float': 0.205, 'y_float_btm': 0.209},\n",
       " {'name': '5-1', 'x_float': 0.041, 'y_float': 0.226, 'y_float_btm': 0.229},\n",
       " {'name': '5-2', 'x_float': 0.041, 'y_float': 0.232, 'y_float_btm': 0.236},\n",
       " {'name': '2-1', 'x_float': 0.488, 'y_float': 0.945, 'y_float_btm': 0.957}]"
      ]
     },
     "execution_count": 14,
     "metadata": {},
     "output_type": "execute_result"
    }
   ],
   "source": [
    "prePaper.page_list_"
   ]
  },
  {
   "cell_type": "code",
   "execution_count": null,
   "id": "sealed-powder",
   "metadata": {},
   "outputs": [],
   "source": []
  },
  {
   "cell_type": "code",
   "execution_count": null,
   "id": "meaningful-session",
   "metadata": {},
   "outputs": [],
   "source": []
  },
  {
   "cell_type": "code",
   "execution_count": null,
   "id": "official-advantage",
   "metadata": {},
   "outputs": [],
   "source": []
  },
  {
   "cell_type": "code",
   "execution_count": null,
   "id": "controlling-monroe",
   "metadata": {},
   "outputs": [],
   "source": []
  },
  {
   "cell_type": "markdown",
   "id": "embedded-galaxy",
   "metadata": {},
   "source": [
    "## paper\n",
    "\n",
    "- 左上右上右下左下"
   ]
  },
  {
   "cell_type": "markdown",
   "id": "sorted-celebration",
   "metadata": {},
   "source": [
    "### class"
   ]
  },
  {
   "cell_type": "code",
   "execution_count": null,
   "id": "tough-providence",
   "metadata": {
    "ExecuteTime": {
     "end_time": "2021-03-19T05:41:32.253708Z",
     "start_time": "2021-03-19T05:41:29.620685Z"
    },
    "scrolled": true
   },
   "outputs": [],
   "source": [
    "from google.cloud import vision\n",
    "import io\n",
    "from glob import glob \n",
    "import os\n",
    "import re\n",
    "from datetime import datetime\n",
    "import pandas as pd\n",
    "pd.set_option('display.max_rows', 500)\n",
    "\n",
    "%matplotlib inline\n",
    "import matplotlib.pyplot as plt\n",
    "import matplotlib.image as mpimg\n",
    "import matplotlib.patches as patches\n",
    "\n",
    "class AnsPaper:\n",
    "    def __init__(self, basename_to_format):\n",
    "        self.key = 'paper_path'\n",
    "        self.vision_client = vision.ImageAnnotatorClient() \n",
    "        self.setup_log()\n",
    "        self.basename_to_format = basename_to_format\n",
    "    \n",
    "    def get_paper_path_list(self, year='*', subject='*', press='*', pdf_path=''):\n",
    "        path = os.path.basename(pdf_path)\n",
    "        path = path.replace('.pdf', '').replace('[', '*').replace(']', '*')\n",
    "        d = '/home/ryh/embedding-match/ocr/datasets/taiwan/13to15/press/%s/%s/%s/answer/paper/%s*.png'%(year, subject, press, path)\n",
    "        paper_path_list = sorted(glob(d))\n",
    "        return paper_path_list\n",
    "    \n",
    "    def setup_log(self):\n",
    "        self.log_path = '/home/ryh/embedding-match/ocr/datasets/ansPaper.pickle'\n",
    "        try:\n",
    "            self.log = pd.read_pickle(self.log_path)\n",
    "        except:\n",
    "            cols = [self.key, 'created_time', 'paper_size', 'vertical_list', 'q_list', 'q_list_check', 'box_list', 'name_list', 'is_split']\n",
    "            self.log = pd.DataFrame(columns=cols)\n",
    "            self.log.to_pickle(self.log_path)\n",
    "        self.path_set = set(self.log[self.key].values)\n",
    "    \n",
    "    def update_log(self):\n",
    "        row = pd.DataFrame()\n",
    "        row[self.key] = [self.paper_path]\n",
    "        row['created_time'] = [datetime.now()]\n",
    "        row['paper_size'] = [(self.paper_width, self.paper_height)]\n",
    "        row['vertical_list'] = [self.vertical_list]\n",
    "        row['q_list_check'] = ['x']\n",
    "        row['box_list'] = ['x']\n",
    "        row['name_list'] = ['x']\n",
    "        row['is_split'] = ['x']\n",
    "        \n",
    "        if self.paper_format in ['兩欄-沒題目']:\n",
    "            row['q_list'] = [self.valid_x_q_list_]\n",
    "        elif self.paper_format in ['兩欄-有題目', '一欄-有題目']:\n",
    "            row['q_list'] = [self.remove_duplicate_q_list]\n",
    "            \n",
    "        self.log = self.log.append(row)\n",
    "        self.path_set.add(self.paper_path)\n",
    "        \n",
    "    def save_log(self):\n",
    "        self.log = self.log.sort_values(by=self.key, ascending=True).reset_index(drop=True) # cost time\n",
    "        self.log.to_pickle(self.log_path) # cost time\n",
    "        \n",
    "    def get_press(self):\n",
    "        if '翰林' in self.paper_path: return '翰林'\n",
    "        if '南一' in self.paper_path: return '南一'\n",
    "        if '康軒' in self.paper_path: return '康軒'\n",
    "        \n",
    "    def paper2segments(self, paper_path):\n",
    "        if paper_path in self.path_set: return #?\n",
    "        \n",
    "        self.setup_paper(paper_path)\n",
    "        \n",
    "        self.ann_list = self.detect_text(self.paper_byte)\n",
    "        self.q_list = self.get_q_list(self.ann_list)\n",
    "        self.valid_words_q_list = self.get_valid_words_q_list(self.q_list)\n",
    "        self.valid_x_q_list = self.get_valid_x_q_list(self.valid_words_q_list)\n",
    "        self.vertical_list = self.get_vertical_list(self.valid_x_q_list)\n",
    "        self.align_q_list = self.get_align_q_list(self.valid_x_q_list)\n",
    "        \n",
    "        # '兩欄-有題目', '一欄-有題目'\n",
    "        self.remove_duplicate_q_list = self.get_remove_duplicate_q_list(self.align_q_list)\n",
    "        \n",
    "        # '兩欄-沒題目'\n",
    "        self.valid_anchor_q_list = self.get_valid_anchor_q_list(self.align_q_list)\n",
    "        self.valid_x_q_list_ = self.get_valid_x_q_list_(self.valid_anchor_q_list)\n",
    "        \n",
    "        self.update_log()\n",
    "        \n",
    "    def setup_paper(self, paper_path):\n",
    "        self.paper_path = paper_path\n",
    "        with open(self.paper_path, 'rb') as f:\n",
    "            self.paper_byte = f.read()\n",
    "        self.paper_arr = mpimg.imread(self.paper_path)\n",
    "        self.paper_height, self.paper_width = self.paper_arr.shape[0], self.paper_arr.shape[1]\n",
    "        self.press = self.get_press()\n",
    "        self.paper_format = self.get_paper_format(self.paper_path)\n",
    "\n",
    "    def get_paper_format(self, paper_path):\n",
    "        basename = os.path.basename(paper_path).split('---')[0] + '.pdf'\n",
    "        paper_format = self.basename_to_format[basename]\n",
    "        return paper_format\n",
    "    \n",
    "    def get_q_list(self, ann_list):\n",
    "        q_list = []\n",
    "        for ann in ann_list:\n",
    "            vertices = ann.bounding_poly.vertices\n",
    "            xy = vertices[0] # 左上\n",
    "            x, y = xy.x, xy.y\n",
    "            x_float, y_float = x / self.paper_width, y / self.paper_height\n",
    "            text = ann.description\n",
    "            q = {'x_float': x_float, 'y_float': y_float, 'text': text, 'x_float_right': vertices[1].x / self.paper_width}\n",
    "            q_list.append(q)\n",
    "        return q_list\n",
    "    \n",
    "    def get_valid_words_q_list(self, q_list): # 題號後面帶小數點\n",
    "        valid_words_q_list = []\n",
    "        self.words_list = [] #?\n",
    "        \n",
    "        if self.paper_format in ['兩欄-沒題目']:\n",
    "            pat = '^([1-9]|[1-2][0-9])'\n",
    "        elif self.paper_format in ['兩欄-有題目', ]:\n",
    "            pat = '^([1-9]|[1-2][0-9])\\.'\n",
    "        elif self.paper_format in ['一欄-有題目', ]:\n",
    "            pat = '^([1-9]|[1-2][0-9])\\.'\n",
    "            \n",
    "        for i, q in enumerate(q_list):\n",
    "            words = ''.join([x['text'] for x in q_list[i:i+5]])\n",
    "            self.words_list.append(words) #?\n",
    "            \n",
    "            x = re.search(pat, words)\n",
    "            if x!=None:\n",
    "                num = self.get_num(words)\n",
    "                q['num'] = num\n",
    "                q['words'] = words\n",
    "                valid_words_q_list.append(q)  \n",
    "        return valid_words_q_list\n",
    "    \n",
    "    def get_num(self, text):\n",
    "        #print(text)\n",
    "        x = re.search('^([1-2][0-9]|[1-9])', text)\n",
    "        if x != None:\n",
    "            return int(x.group(1))\n",
    "        else:\n",
    "            return 999\n",
    "    \n",
    "    def get_valid_x_q_list(self, valid_words_q_list): # 題號的左邊，要在小數點(最左邊的題號的右側)的右邊\n",
    "        L = [q for q in valid_words_q_list if q['x_float'] < 0.495]\n",
    "        R = [q for q in valid_words_q_list if q['x_float'] > 0.495]\n",
    "        \n",
    "        if self.paper_format in ['兩欄-沒題目']:\n",
    "            L = self.valid_x_type1(L)\n",
    "            R = self.valid_x_type1(R)\n",
    "            return L+R\n",
    "        elif self.paper_format in ['兩欄-有題目']:\n",
    "            L = self.valid_x_type2(L, 0.15)\n",
    "            R = self.valid_x_type2(R, 0.6)\n",
    "            return L+R\n",
    "        elif self.paper_format in ['一欄-有題目']:\n",
    "            L = self.valid_x_type2(L, 0.15)\n",
    "            return L\n",
    "        \n",
    "    def valid_x_type1(self, L):\n",
    "        if len(L) == 0: return L\n",
    "        L_ = []\n",
    "        min_x_float_right = min([q['x_float_right'] for q in L])\n",
    "        for q in L:\n",
    "            if q['x_float'] < min_x_float_right:\n",
    "                L_.append(q)\n",
    "        return L_\n",
    "    \n",
    "    def valid_x_type2(self, L, end):\n",
    "        if len(L) == 0: return L\n",
    "        L = [q for q in L if q['x_float'] < end]\n",
    "        return L\n",
    "    \n",
    "    def get_vertical_list(self, q_list):\n",
    "        L = [q for q in q_list if q['x_float'] < 0.495]\n",
    "        R = [q for q in q_list if q['x_float'] > 0.495]\n",
    "        left_x = min([q['x_float'] for q in L])\n",
    "        if len(R) != 0:\n",
    "            right_x = min([q['x_float'] for q in R])\n",
    "            vertical_list = [round(left_x, 3), round(right_x, 3)]\n",
    "        else:\n",
    "            vertical_list = [round(left_x, 3)]\n",
    "        return vertical_list\n",
    "    \n",
    "    def get_align_q_list(self, q_list): # 增加一個key是這排題目，最左邊的位置\n",
    "        align_q_list = []\n",
    "        for q in q_list:\n",
    "            if q['x_float'] < 0.495:\n",
    "                q['x_float_left'] = self.vertical_list[0]\n",
    "            else:\n",
    "                q['x_float_left'] = self.vertical_list[1]\n",
    "            align_q_list.append(q)\n",
    "        return align_q_list\n",
    "    \n",
    "    def get_valid_anchor_q_list(self, q_list): # 把選擇題答案刪掉\n",
    "        if self.paper_format == '兩欄-沒題目':\n",
    "            if self.press == '翰林': pat = '^三'\n",
    "            if self.press == '南一': pat = '^詳解'\n",
    "            if self.press == '康軒': pat = '^選擇題' # 第二個\"選擇題\" 當作anchor\n",
    "\n",
    "            if re.search('-(1|2).png', self.paper_path).group(1) == '1':\n",
    "                i_list = [i for i, words in enumerate(ansPaper.words_list) if re.search(pat, words) != None]\n",
    "                if len(i_list) != 0:\n",
    "                    j = 0 if self.press in ['翰林', '南一'] else 1\n",
    "\n",
    "                    anchor = self.q_list[i_list[j]]\n",
    "                    anchor['x_float_left'] = self.vertical_list[0] if anchor['x_float'] < 0.495 else self.vertical_list[1]\n",
    "                    q_list.append(anchor)\n",
    "                    q_list = sorted(q_list, key=(lambda q: (q['x_float_left'], q['y_float'])))\n",
    "                    q_list = q_list[q_list.index(anchor)+1:]\n",
    "                    self.anchor = anchor\n",
    "        return q_list\n",
    "    \n",
    "    def get_valid_x_q_list_(self, valid_anchor_q_list): # 題號之間不能差太多\n",
    "        if self.paper_format in ['兩欄-沒題目']:\n",
    "            threshold = 0.012\n",
    "            valid_x_q_list_ = [q for q in valid_anchor_q_list if q['x_float'] - q['x_float_left'] < threshold]\n",
    "            valid_x_q_list_ = sorted(valid_x_q_list_, key=(lambda q: (q['x_float_left'], q['y_float'])))\n",
    "            return valid_x_q_list_\n",
    "    \n",
    "    def get_remove_duplicate_q_list(self, q_list):\n",
    "        if self.paper_format in ['兩欄-有題目', '一欄-有題目']: \n",
    "            q_list_ = []\n",
    "            for i in range(len(q_list)):\n",
    "                cur = ansPaper.align_q_list[i]\n",
    "                if i == 0:\n",
    "                    q_list_.append(cur)\n",
    "                    continue\n",
    "\n",
    "                pre = ansPaper.align_q_list[i-1]\n",
    "                \n",
    "                if cur['num'] != pre['num']:\n",
    "                    if cur['num'] != 1:\n",
    "                        q_list_.append(cur)\n",
    "                    else:\n",
    "                        if abs(cur['num']-pre['num']) > 0.15:\n",
    "                            q_list_.append(cur)           \n",
    "            return q_list_        \n",
    "\n",
    "    def update_q_list_check(self):\n",
    "        df = self.log[self.log.q_list_check=='x'].copy()\n",
    "        if len(df) == 0: return\n",
    "        df['q_list_check'] = df.apply(lambda row: self.get_q_list_check_(row), axis=1)\n",
    "        self.log.loc[df.index, 'q_list_check'] = df['q_list_check']\n",
    "        self.save_log()\n",
    "    \n",
    "    def get_q_list_check_(self, row):\n",
    "        q_list = row['q_list']\n",
    "        if self.paper_format == '兩欄-沒題目':\n",
    "            return 'to_check'\n",
    "        elif self.paper_format in ['兩欄-有題目', '一欄-有題目']:\n",
    "            if self.is_valid_q_list(q_list):\n",
    "                return q_list\n",
    "            else: \n",
    "                return 'to_check'\n",
    "    \n",
    "    def is_valid_q_list(self, q_list):\n",
    "        num_list = [q['num'] for q in q_list]\n",
    "        #print(num_list)\n",
    "        for i in range(1, len(num_list)):\n",
    "            cur = num_list[i]\n",
    "            pre = num_list[i-1]\n",
    "            if (cur - pre != 1) and (cur != 1): # 1, 2, 3, 4, 1, 2, 3\n",
    "                return False\n",
    "        return True\n",
    "    \n",
    "    def get_q_list_check(self, paper_index, remove_i_list, add_q_list):\n",
    "        q_list = self.log.loc[paper_index, 'q_list']\n",
    "        q_list_check = [q for i, q in enumerate(q_list) if i not in remove_i_list]\n",
    "        q_list_check += add_q_list\n",
    "        q_list_check = sorted(q_list_check, key=(lambda q: (q['x_float_left'], q['y_float'])))\n",
    "        return q_list_check\n",
    "    \n",
    "    def update_box_list(self):\n",
    "        df = self.log[self.log.box_list=='x'].copy()\n",
    "        if len(df) == 0: return\n",
    "        df['box_list'] = df.apply(lambda row: self.get_box_list(row), axis=1)\n",
    "        self.log.loc[df.index, 'box_list'] = df['box_list']\n",
    "        self.save_log()\n",
    "\n",
    "    def get_box_list(self, row):\n",
    "        paper_index = row.name\n",
    "        paper_size = self.log.at[paper_index, 'paper_size']\n",
    "        q_list_check = self.log.at[paper_index, 'q_list_check']\n",
    "        vertical_list = self.log.at[paper_index, 'vertical_list']\n",
    "\n",
    "        L = [q for q in q_list_check if q['x_float_left'] < 0.495]\n",
    "        R = [q for q in q_list_check if q['x_float_left'] > 0.495]\n",
    "\n",
    "        if len(R) != 0:\n",
    "            L_ = self.q_list_to_box_list(L, vertical_list[0], vertical_list[1])\n",
    "            R_ = self.q_list_to_box_list(R, vertical_list[1], 1)\n",
    "            box_list = L_ + R_\n",
    "        else:\n",
    "            L_ = self.q_list_to_box_list(L, vertical_list[0], 1)\n",
    "            box_list = L_ \n",
    "        return box_list\n",
    "\n",
    "    def q_list_to_box_list(self, q_list, x1, x2):\n",
    "        box_list = []\n",
    "        for i in range(len(q_list)):\n",
    "            cur = q_list[i]\n",
    "\n",
    "            y1 = cur['y_float'] - 0.03 #?\n",
    "            y1 = y1 if y1 >= 0 else 0\n",
    "\n",
    "            if i != len(q_list)-1:\n",
    "                lat = q_list[i+1]\n",
    "                y2 = lat['y_float']\n",
    "            else:\n",
    "                y2 = 1\n",
    "\n",
    "            box = {'x1': x1, 'x2': x2, 'y1': y1, 'y2': y2}\n",
    "            box_list.append(box)\n",
    "        return box_list\n",
    "    \n",
    "    def update_name_list(self):\n",
    "        df = self.log[self.log.name_list=='x'].copy()\n",
    "        if len(df) == 0: return\n",
    "        df['name_list'] = df.apply(lambda row: self.get_name_list(row), axis=1)\n",
    "        self.log.loc[df.index, 'name_list'] = df['name_list']\n",
    "        self.save_log()\n",
    "        \n",
    "    def get_name_list(self, row):\n",
    "        i = row.name\n",
    "        page_check = re.search('---(.*).png', row.paper_path).group(1) ## 11-1, 03-1\n",
    "        if page_check[-2:] == '-1':\n",
    "            i1, i2 = i, i+1\n",
    "        elif page_check[-2:] == '-2':\n",
    "            i1, i2 = i-1, i\n",
    "        p1, p2 = self.log.loc[i1], self.log.loc[i2]\n",
    "        if self.is_valid_pair(p1, p2) == False: return 'to_check'\n",
    "        q_list = p1.q_list_check + p2.q_list_check\n",
    "        num_list = [q['num'] for q in q_list]\n",
    "        name_list = self.num_list_to_name_list(num_list)\n",
    "        if i1 == i:\n",
    "            name_list_ = name_list[:len(p1.q_list_check)]\n",
    "        else:\n",
    "            name_list_ = name_list[len(p1.q_list_check):]\n",
    "        \n",
    "        page_check_ = page_check.split('-')[0]\n",
    "        name_list_ = [(page_check_ + '-' + name) for name in name_list_]\n",
    "        return name_list_\n",
    "    \n",
    "    def num_list_to_name_list(self, num_list):\n",
    "        a = 1\n",
    "        name_list = ['01-%02d'%(num_list[0])]\n",
    "        for i in range(1, len(num_list)):\n",
    "            cur = num_list[i]\n",
    "            pre = num_list[i-1]            \n",
    "            if pre >= cur:\n",
    "                a += 1\n",
    "            name = '%02d-%02d'%(a, num_list[i])\n",
    "            name_list.append(name)\n",
    "        return name_list\n",
    "    \n",
    "    def is_valid_pair(self, p1, p2):\n",
    "        c1 = (p1.paper_path.split('---')[0] == p2.paper_path.split('---')[0]) # pdf一樣\n",
    "        page_check_1 = re.search('---(.*).png', p1.paper_path).group(1)\n",
    "        page_check_2 = re.search('---(.*).png', p2.paper_path).group(1)\n",
    "        c2 = (page_check_1[:-1] + page_check_1[-1:].replace('1', '2')) == page_check_2 # 12-1 vs 12-2\n",
    "        return c1 and c2\n",
    "    \n",
    "    def update_is_split(self):\n",
    "        df = self.log[self.log.is_split=='x'].copy()\n",
    "        if len(df) == 0: return\n",
    "        print(len(df))\n",
    "        df['is_split'] = df.apply(lambda row: self.get_is_split(row), axis=1)\n",
    "        self.log.loc[df.index, 'is_split'] = df['is_split']\n",
    "        self.save_log()\n",
    "        \n",
    "    def get_is_split(self, row):\n",
    "        print(row.name+1, end='\\r')\n",
    "        name_list = row.name_list\n",
    "        box_list = row.box_list\n",
    "        paper_path = row.paper_path\n",
    "        img = mpimg.imread(paper_path)\n",
    "        img_height, img_width = img.shape[0], img.shape[1]\n",
    "        \n",
    "        old_dirname = os.path.dirname(paper_path)\n",
    "        new_dirname = old_dirname.replace('paper', 'seg')\n",
    "        os.makedirs(new_dirname, exist_ok=True) #?\n",
    "        \n",
    "        for i in range(len(box_list)):\n",
    "            box = box_list[i]\n",
    "            name = name_list[i]\n",
    "            name = self.special_handle_name(name, paper_path)\n",
    "            if name=='x': continue\n",
    "            \n",
    "            x1, x2, y1, y2 = box['x1'], box['x2'], box['y1'], box['y2']\n",
    "            x1, x2, y1, y2 = int(x1*img_width), int(x2*img_width), int(y1*img_height), int(y2*img_height)\n",
    "            \n",
    "            old_basename = os.path.basename(paper_path)\n",
    "            new_basename = old_basename.split('---')[0] + '---' + name + '.png'\n",
    "            path = os.path.join(new_dirname, new_basename)\n",
    "            seg = img[y1:y2, x1:x2 , :]\n",
    "            \n",
    "            plt.imsave(path, seg)\n",
    "        return 'done'\n",
    "    \n",
    "    def special_handle_name(self, name, paper_path):\n",
    "        if '翰林' in paper_path and self.get_paper_format(paper_path) =='兩欄-沒題目': \n",
    "            # 312BB\n",
    "            if '-01-' in name: return name.replace('-01-', '-03-')\n",
    "            if '-02-' in name: return name.replace('-02-', '-01-')\n",
    "            if '-03-' in name: return name.replace('-03-', '-02-')\n",
    "            if '-04-' in name: return 'x'\n",
    "            if '-05-' in name: return name.replace('-05-', '-04-')\n",
    "        else:\n",
    "            return name\n",
    "    \n",
    "    def update_row(self, paper_index, q_list_check):\n",
    "        row_pre, row_cur, row_lat = self.log.loc[paper_index-1], self.log.loc[paper_index], self.log.loc[paper_index+1]\n",
    "\n",
    "        row_cur.q_list_check = q_list_check\n",
    "        row_cur.box_list = self.get_box_list(row)\n",
    "        row_cur.name_list = self.get_name_list(row)\n",
    "\n",
    "        row_pre.name_list = self.get_name_list(row)\n",
    "        row_lat.name_list = self.get_name_list(row)\n",
    "\n",
    "        self.save_log()\n",
    "\n",
    "    def detect_text(self, paper_byte):\n",
    "        image = vision.Image(content=paper_byte)\n",
    "        \n",
    "        language_list = ['zh-Hant', 'en']\n",
    "        image_context={\"language_hints\": language_list}\n",
    "        \n",
    "        response = self.vision_client.text_detection(\n",
    "            image=image, \n",
    "            image_context=image_context, #!\n",
    "        )\n",
    "        \n",
    "        text_annotation_list = response.text_annotations\n",
    "        return text_annotation_list[1:]\n",
    "    \n",
    "    def plot_q_(self, paper_path, q_list, key='x_float'):\n",
    "        img = mpimg.imread(paper_path)\n",
    "        img_height, img_width = img.shape[0], img.shape[1]\n",
    "\n",
    "        d = 100\n",
    "        fig, ax = plt.subplots(figsize=(img_height/d, img_width/d), dpi=d)\n",
    "\n",
    "        for i in range(len(q_list)):\n",
    "            q = q_list[i]\n",
    "            \n",
    "            if i%2==0: color = 'red'\n",
    "            else: color = 'blue'\n",
    "                \n",
    "            text = '...........%s---%s---%.3f---%s'%(q['num'], q[key], q['y_float'], i)\n",
    "            ax.text(q[key] * img_width, q['y_float'] * img_height, text, size=d*0.15, color=color) # , bbox={'facecolor': 'none'}\n",
    "\n",
    "        ax.imshow(img, interpolation='none')\n",
    "        plt.tight_layout()\n",
    "        plt.show()\n",
    "    \n",
    "    def plot_border(self, paper_path, box_list):\n",
    "        img = mpimg.imread(paper_path)\n",
    "        img_height, img_width = img.shape[0], img.shape[1]\n",
    "        \n",
    "        d = 100\n",
    "        fig, ax = plt.subplots(figsize=(img_height/d, img_width/d), dpi=d)\n",
    "        \n",
    "        for i in range(len(box_list)):\n",
    "            box = box_list[i]\n",
    "            x1, x2, y1, y2 = box['x1'], box['x2'], box['y1'], box['y2']\n",
    "            x1_, x2_, y1_, y2_ = x1*img_width, x2*img_width, y1*img_height, y2*img_height\n",
    "            rec_width, rec_height = abs(x1_ - x2_), abs(y1_ - y2_)\n",
    "            xy = (x1_, y1_)\n",
    "            rect = patches.Rectangle(xy, rec_width, rec_height, linewidth=2, edgecolor='g', facecolor='none')\n",
    "            ax.add_patch(rect)\n",
    "            \n",
    "        ax.imshow(img, interpolation='none')\n",
    "        plt.tight_layout()\n",
    "        plt.show()\n",
    "        \n",
    "ansPaper = AnsPaper(basename_to_format)\n",
    "    "
   ]
  },
  {
   "cell_type": "markdown",
   "id": "extraordinary-bathroom",
   "metadata": {},
   "source": [
    "### valid_words_q_list"
   ]
  },
  {
   "cell_type": "code",
   "execution_count": null,
   "id": "electrical-conversation",
   "metadata": {
    "ExecuteTime": {
     "end_time": "2021-03-17T09:29:52.647184Z",
     "start_time": "2021-03-17T09:29:52.642286Z"
    }
   },
   "outputs": [],
   "source": [
    "# # 兩欄，沒題目\n",
    "# # pdf_path = '/home/ryh/embedding-match/ocr/datasets/taiwan/13to15/press/108/數學/康軒/answer/pdf/108下-康軒國中試卷數學(2)B卷(中等)答-1下.pdf'\n",
    "# # pdf_path = '/home/ryh/embedding-match/ocr/datasets/taiwan/13to15/press/108/數學/南一/answer/pdf/108上[南一]國中試卷-(三)數學-A卷-(優等)-(答).pdf'\n",
    "# # pdf_path = '/home/ryh/embedding-match/ocr/datasets/taiwan/13to15/press/108/數學/翰林/answer/pdf/108上[翰林]國中試卷-(三)數學-A卷-(優等)-(答).pdf'\n",
    "# # pdf_path = '/home/ryh/embedding-match/ocr/datasets/taiwan/13to15/press/108/數學/南一/answer/pdf/108上[南一]國中試卷-(三)數學-B卷-(中上)-(答).pdf'\n",
    "# # pdf_path = '/home/ryh/embedding-match/ocr/datasets/taiwan/13to15/press/108/數學/翰林/answer/pdf/108下-翰林國中試卷數學(2)B卷(中等)答-1下.pdf'\n",
    "\n",
    "# # 兩欄，有題目\n",
    "# pdf_path = '/home/ryh/embedding-match/ocr/datasets/taiwan/13to15/press/108/數學/康軒/answer/pdf/108上[康軒]國中試卷-(三)數學-E卷-(最難)-(答).pdf'\n",
    "\n",
    "# # 一欄，有題目\n",
    "# # pdf_path = '/home/ryh/embedding-match/ocr/datasets/taiwan/13to15/press/108/數學/康軒/answer/pdf/108下-康軒國中試卷數學(4)C卷答.pdf'\n",
    "\n",
    "\n",
    "# paper_path_list = ansPaper.get_paper_path_list(year='*', subject='*', press='*', pdf_path=pdf_path)\n",
    "# len(paper_path_list)"
   ]
  },
  {
   "cell_type": "code",
   "execution_count": null,
   "id": "caring-canal",
   "metadata": {
    "ExecuteTime": {
     "end_time": "2021-03-17T09:29:56.312351Z",
     "start_time": "2021-03-17T09:29:56.308423Z"
    },
    "scrolled": true
   },
   "outputs": [],
   "source": [
    "# i = 0\n",
    "# paper_path = paper_path_list[i]\n",
    "# ansPaper.paper2segments(paper_path)\n",
    "# valid_words_q_list = ansPaper.valid_words_q_list\n"
   ]
  },
  {
   "cell_type": "code",
   "execution_count": null,
   "id": "saved-survivor",
   "metadata": {
    "ExecuteTime": {
     "end_time": "2021-03-17T09:29:57.995411Z",
     "start_time": "2021-03-17T09:29:57.991789Z"
    }
   },
   "outputs": [],
   "source": [
    "# ansPaper.plot_q_(paper_path, valid_words_q_list, key='x_float')"
   ]
  },
  {
   "cell_type": "markdown",
   "id": "respective-birmingham",
   "metadata": {},
   "source": [
    "### valid_x_q_list"
   ]
  },
  {
   "cell_type": "code",
   "execution_count": null,
   "id": "perfect-transparency",
   "metadata": {
    "ExecuteTime": {
     "end_time": "2021-03-17T09:33:52.701186Z",
     "start_time": "2021-03-17T09:33:51.006350Z"
    },
    "scrolled": true
   },
   "outputs": [],
   "source": [
    "# # 兩欄，沒題目\n",
    "# # pdf_path = '/home/ryh/embedding-match/ocr/datasets/taiwan/13to15/press/108/數學/康軒/answer/pdf/108下-康軒國中試卷數學(2)B卷(中等)答-1下.pdf'\n",
    "# # pdf_path = '/home/ryh/embedding-match/ocr/datasets/taiwan/13to15/press/108/數學/南一/answer/pdf/108上[南一]國中試卷-(三)數學-A卷-(優等)-(答).pdf'\n",
    "# # pdf_path = '/home/ryh/embedding-match/ocr/datasets/taiwan/13to15/press/108/數學/翰林/answer/pdf/108上[翰林]國中試卷-(三)數學-A卷-(優等)-(答).pdf'\n",
    "# # pdf_path = '/home/ryh/embedding-match/ocr/datasets/taiwan/13to15/press/108/數學/南一/answer/pdf/108上[南一]國中試卷-(三)數學-B卷-(中上)-(答).pdf'\n",
    "# # pdf_path = '/home/ryh/embedding-match/ocr/datasets/taiwan/13to15/press/108/數學/翰林/answer/pdf/108下-翰林國中試卷數學(2)B卷(中等)答-1下.pdf'\n",
    "\n",
    "# # 兩欄，有題目\n",
    "# pdf_path = '/home/ryh/embedding-match/ocr/datasets/taiwan/13to15/press/108/數學/康軒/answer/pdf/108上[康軒]國中試卷-(三)數學-E卷-(最難)-(答).pdf'\n",
    "\n",
    "# # 一欄，有題目\n",
    "# # pdf_path = '/home/ryh/embedding-match/ocr/datasets/taiwan/13to15/press/108/數學/康軒/answer/pdf/108下-康軒國中試卷數學(4)C卷答.pdf'\n",
    "\n",
    "\n",
    "# paper_path_list = ansPaper.get_paper_path_list(year='*', subject='*', press='*', pdf_path=pdf_path)\n",
    "\n",
    "# i = 26\n",
    "# paper_path = paper_path_list[i]\n",
    "# ansPaper.paper2segments(paper_path)\n",
    "# valid_x_q_list = ansPaper.valid_x_q_list\n"
   ]
  },
  {
   "cell_type": "code",
   "execution_count": null,
   "id": "raising-orleans",
   "metadata": {
    "ExecuteTime": {
     "end_time": "2021-03-17T09:50:02.580999Z",
     "start_time": "2021-03-17T09:50:02.577652Z"
    },
    "scrolled": true
   },
   "outputs": [],
   "source": [
    "# ansPaper.plot_q_(paper_path, valid_x_q_list, key='x_float')"
   ]
  },
  {
   "cell_type": "code",
   "execution_count": null,
   "id": "played-variance",
   "metadata": {},
   "outputs": [],
   "source": []
  },
  {
   "cell_type": "code",
   "execution_count": null,
   "id": "adapted-oracle",
   "metadata": {},
   "outputs": [],
   "source": []
  },
  {
   "cell_type": "markdown",
   "id": "unavailable-scanner",
   "metadata": {},
   "source": [
    "### align_q_list"
   ]
  },
  {
   "cell_type": "code",
   "execution_count": null,
   "id": "relevant-semiconductor",
   "metadata": {
    "ExecuteTime": {
     "end_time": "2021-03-10T08:05:07.419460Z",
     "start_time": "2021-03-10T08:05:07.414538Z"
    },
    "scrolled": true
   },
   "outputs": [],
   "source": [
    "# # # pdf_path = '/home/ryh/embedding-match/ocr/datasets/taiwan/13to15/press/108/數學/康軒/answer/pdf/108上[康軒]國中新挑戰-數學（一）E卷-(最難)-答.pdf'\n",
    "# # # pdf_path = '/home/ryh/embedding-match/ocr/datasets/taiwan/13to15/press/108/數學/南一/answer/pdf/108上[南一]國中試卷-(三)數學-A卷-(優等)-(答).pdf'\n",
    "# pdf_path = '/home/ryh/embedding-match/ocr/datasets/taiwan/13to15/press/108/數學/翰林/answer/pdf/108上[翰林]國中試卷-(三)數學-A卷-(優等)-(答).pdf'\n",
    "# # # pdf_path = '/home/ryh/embedding-match/ocr/datasets/taiwan/13to15/press/108/數學/南一/answer/pdf/108上[南一]國中試卷-(三)數學-B卷-(中上)-(答).pdf'\n",
    "\n",
    "# paper_path_list = ansPaper.get_paper_path_list(year='*', subject='*', press='*', pdf_path=pdf_path)\n",
    "\n",
    "# i = 0\n",
    "# paper_path = paper_path_list[i]\n",
    "# ansPaper.paper2segments(paper_path)\n",
    "# align_q_list = ansPaper.align_q_list\n",
    "\n",
    "# ansPaper.plot_q_(ansPaper.paper_path, align_q_list)"
   ]
  },
  {
   "cell_type": "code",
   "execution_count": null,
   "id": "tribal-samuel",
   "metadata": {},
   "outputs": [],
   "source": []
  },
  {
   "cell_type": "code",
   "execution_count": null,
   "id": "rocky-member",
   "metadata": {},
   "outputs": [],
   "source": []
  },
  {
   "cell_type": "code",
   "execution_count": null,
   "id": "noble-treasurer",
   "metadata": {},
   "outputs": [],
   "source": []
  },
  {
   "cell_type": "markdown",
   "id": "arabic-moderator",
   "metadata": {},
   "source": [
    "### valid_anchor_q_list"
   ]
  },
  {
   "cell_type": "code",
   "execution_count": null,
   "id": "improving-collectible",
   "metadata": {
    "ExecuteTime": {
     "end_time": "2021-03-10T06:38:09.275232Z",
     "start_time": "2021-03-10T06:38:09.269940Z"
    },
    "scrolled": true
   },
   "outputs": [],
   "source": [
    "# i = 5\n",
    "# paper_path = paper_path_list[i]\n",
    "# ansPaper.paper2segments(paper_path)\n",
    "# valid_x_q_list = ansPaper.valid_x_q_list\n",
    "\n",
    "# if ansPaper.press == '翰林': pat = '^非選擇題(.*)計'\n",
    "# if ansPaper.press == '南一': pat = '^詳解'\n",
    "# i_list = [i for i, words in enumerate(ansPaper.words_list) if re.search(pat, words) != None]\n",
    "\n",
    "# if len(i_list) != 0:\n",
    "#     anchor = ansPaper.q_list[i_list[0]]\n",
    "#     L, R = ansPaper.get_L_R(valid_x_q_list)\n",
    "#     L.append(anchor)\n",
    "#     L = sorted(L, key=(lambda q: q['y_float']))\n",
    "#     L = L[L.index(anchor)+1:]\n",
    "#     valid_anchor_q_list = L + R  \n",
    "# else:\n",
    "#     valid_anchor_q_list = valid_x_q_list \n",
    "    \n",
    "# ansPaper.plot_q_(ansPaper.paper_path, valid_anchor_q_list)"
   ]
  },
  {
   "cell_type": "code",
   "execution_count": null,
   "id": "instant-geography",
   "metadata": {
    "ExecuteTime": {
     "end_time": "2021-03-10T10:37:53.077059Z",
     "start_time": "2021-03-10T10:37:53.071476Z"
    },
    "scrolled": true
   },
   "outputs": [],
   "source": [
    "# # pdf_path = '/home/ryh/embedding-match/ocr/datasets/taiwan/13to15/press/108/數學/康軒/answer/pdf/108下-康軒國中試卷數學(2)B卷(中等)答-1下.pdf'\n",
    "# pdf_path = '/home/ryh/embedding-match/ocr/datasets/taiwan/13to15/press/108/數學/南一/answer/pdf/108上[南一]國中試卷-(三)數學-A卷-(優等)-(答).pdf'\n",
    "# # pdf_path = '/home/ryh/embedding-match/ocr/datasets/taiwan/13to15/press/108/數學/南一/answer/pdf/108上[南一]國中試卷-(三)數學-B卷-(中上)-(答).pdf'\n",
    "# # pdf_path = '/home/ryh/embedding-match/ocr/datasets/taiwan/13to15/press/108/數學/翰林/answer/pdf/108上[翰林]國中試卷-(三)數學-A卷-(優等)-(答).pdf'\n",
    "\n",
    "# paper_path_list = ansPaper.get_paper_path_list(year='*', subject='*', press='*', pdf_path=pdf_path)\n",
    "\n",
    "# for i in range(6, 7, 2):\n",
    "#     paper_path = paper_path_list[i]\n",
    "#     ansPaper.paper2segments(paper_path)\n",
    "\n",
    "#     ansPaper.plot_q_(ansPaper.paper_path, ansPaper.valid_anchor_q_list, key_list=['x_float', 'x_float_right'])\n",
    "#     #ansPaper.plot_q_(ansPaper.paper_path, ansPaper.valid_anchor_q_list)\n",
    "    \n",
    "    "
   ]
  },
  {
   "cell_type": "code",
   "execution_count": null,
   "id": "oriented-introduction",
   "metadata": {},
   "outputs": [],
   "source": []
  },
  {
   "cell_type": "markdown",
   "id": "excess-cedar",
   "metadata": {},
   "source": [
    "### valid_x_q_list_"
   ]
  },
  {
   "cell_type": "code",
   "execution_count": null,
   "id": "revolutionary-reduction",
   "metadata": {
    "ExecuteTime": {
     "end_time": "2021-03-13T09:52:17.259969Z",
     "start_time": "2021-03-13T09:52:17.255841Z"
    },
    "scrolled": true
   },
   "outputs": [],
   "source": [
    "# # pdf_path = '/home/ryh/embedding-match/ocr/datasets/taiwan/13to15/press/108/數學/康軒/answer/pdf/108下-康軒國中試卷數學(2)B卷(中等)答-1下.pdf'\n",
    "\n",
    "# # pdf_path = '/home/ryh/embedding-match/ocr/datasets/taiwan/13to15/press/108/數學/翰林/answer/pdf/108上[翰林]國中試卷-(三)數學-A卷-(優等)-(答).pdf'\n",
    "\n",
    "# # pdf_path = '/home/ryh/embedding-match/ocr/datasets/taiwan/13to15/press/108/數學/南一/answer/pdf/108上[南一]國中試卷-(三)數學-A卷-(優等)-(答).pdf'\n",
    "# pdf_path = '/home/ryh/embedding-match/ocr/datasets/taiwan/13to15/press/108/數學/南一/answer/pdf/108上[南一]國中試卷-(三)數學-B卷-(中上)-(答).pdf'\n",
    "\n",
    "# paper_path_list = ansPaper.get_paper_path_list(year='*', subject='*', press='*', pdf_path=pdf_path)\n",
    "# print(len(paper_path_list))\n",
    "\n",
    "# for i in range(10, 16):\n",
    "#     paper_path = paper_path_list[i]\n",
    "#     ansPaper.paper2segments(paper_path)\n",
    "\n",
    "#     print(i)\n",
    "#     ansPaper.plot_q_(ansPaper.paper_path, ansPaper.valid_x_q_list_, key_list=['x_float'])\n",
    "    "
   ]
  },
  {
   "cell_type": "code",
   "execution_count": null,
   "id": "political-victim",
   "metadata": {
    "ExecuteTime": {
     "end_time": "2021-03-10T11:31:59.240094Z",
     "start_time": "2021-03-10T11:31:59.237249Z"
    }
   },
   "outputs": [],
   "source": [
    "# ansPaper.words_list"
   ]
  },
  {
   "cell_type": "code",
   "execution_count": null,
   "id": "imported-arnold",
   "metadata": {
    "ExecuteTime": {
     "end_time": "2021-03-10T11:10:00.770725Z",
     "start_time": "2021-03-10T11:10:00.765237Z"
    }
   },
   "outputs": [],
   "source": []
  },
  {
   "cell_type": "markdown",
   "id": "alone-america",
   "metadata": {},
   "source": [
    "### update_q_list_check"
   ]
  },
  {
   "cell_type": "code",
   "execution_count": null,
   "id": "loose-joshua",
   "metadata": {
    "ExecuteTime": {
     "end_time": "2021-03-18T07:17:08.458396Z",
     "start_time": "2021-03-18T07:17:08.447849Z"
    },
    "scrolled": false
   },
   "outputs": [],
   "source": [
    "# 兩欄，沒題目\n",
    "# pdf_path = '/home/ryh/embedding-match/ocr/datasets/taiwan/13to15/press/108/數學/康軒/answer/pdf/108下-康軒國中試卷數學(2)B卷(中等)答-1下.pdf'\n",
    "# pdf_path = '/home/ryh/embedding-match/ocr/datasets/taiwan/13to15/press/108/數學/南一/answer/pdf/108上[南一]國中試卷-(三)數學-A卷-(優等)-(答).pdf'\n",
    "# pdf_path = '/home/ryh/embedding-match/ocr/datasets/taiwan/13to15/press/108/數學/翰林/answer/pdf/108上[翰林]國中試卷-(三)數學-A卷-(優等)-(答).pdf'\n",
    "# pdf_path = '/home/ryh/embedding-match/ocr/datasets/taiwan/13to15/press/108/數學/南一/answer/pdf/108上[南一]國中試卷-(三)數學-B卷-(中上)-(答).pdf'\n",
    "# pdf_path = '/home/ryh/embedding-match/ocr/datasets/taiwan/13to15/press/108/數學/翰林/answer/pdf/108下-翰林國中試卷數學(2)B卷(中等)答-1下.pdf'\n",
    "\n",
    "# 兩欄，有題目\n",
    "# pdf_path = '/home/ryh/embedding-match/ocr/datasets/taiwan/13to15/press/108/數學/康軒/answer/pdf/108上[康軒]國中試卷-(三)數學-E卷-(最難)-(答).pdf'\n",
    "pdf_path = '/home/ryh/embedding-match/ocr/datasets/taiwan/13to15/press/108/數學/翰林/answer/pdf/108下-翰林國中試卷數學(4)D卷答.pdf'\n",
    "\n",
    "# 一欄，有題目\n",
    "# pdf_path = '/home/ryh/embedding-match/ocr/datasets/taiwan/13to15/press/108/數學/康軒/answer/pdf/108下-康軒國中試卷數學(4)C卷答.pdf'\n",
    "\n",
    "\n",
    "\n",
    "paper_path_list = ansPaper.get_paper_path_list(year='*', subject='*', press='*', pdf_path=pdf_path)\n",
    "len(paper_path_list)\n",
    "\n"
   ]
  },
  {
   "cell_type": "code",
   "execution_count": null,
   "id": "reasonable-function",
   "metadata": {
    "ExecuteTime": {
     "end_time": "2021-03-18T07:17:32.580107Z",
     "start_time": "2021-03-18T07:17:31.508080Z"
    },
    "scrolled": true
   },
   "outputs": [],
   "source": [
    "for i in range(len(paper_path_list[0:1])):\n",
    "    print(i+1, len(paper_path_list), end='\\r')\n",
    "    paper_path = paper_path_list[i]\n",
    "    ansPaper.paper2segments(paper_path)\n",
    "ansPaper.save_log()"
   ]
  },
  {
   "cell_type": "code",
   "execution_count": null,
   "id": "detected-marble",
   "metadata": {
    "ExecuteTime": {
     "end_time": "2021-03-18T06:33:41.190321Z",
     "start_time": "2021-03-18T06:33:41.187395Z"
    }
   },
   "outputs": [],
   "source": [
    "# ansPaper.is_valid_q_list(ansPaper.log.loc[0, 'q_list'])\n",
    "# ansPaper.log.loc[0, 'q_list']"
   ]
  },
  {
   "cell_type": "code",
   "execution_count": null,
   "id": "improved-shame",
   "metadata": {
    "ExecuteTime": {
     "end_time": "2021-03-18T06:33:41.207729Z",
     "start_time": "2021-03-18T06:33:41.192895Z"
    }
   },
   "outputs": [],
   "source": [
    "ansPaper.update_q_list_check()\n"
   ]
  },
  {
   "cell_type": "markdown",
   "id": "breeding-stephen",
   "metadata": {},
   "source": [
    "#### check all"
   ]
  },
  {
   "cell_type": "code",
   "execution_count": null,
   "id": "expensive-launch",
   "metadata": {
    "ExecuteTime": {
     "end_time": "2021-03-18T06:33:42.972567Z",
     "start_time": "2021-03-18T06:33:42.940426Z"
    },
    "scrolled": true
   },
   "outputs": [],
   "source": [
    "df_check = ansPaper.log[ansPaper.log.q_list_check=='to_check'].iloc[:]\n",
    "df_check"
   ]
  },
  {
   "cell_type": "code",
   "execution_count": null,
   "id": "genuine-simpson",
   "metadata": {
    "ExecuteTime": {
     "end_time": "2021-03-18T06:34:52.571958Z",
     "start_time": "2021-03-18T06:34:49.124337Z"
    },
    "scrolled": true
   },
   "outputs": [],
   "source": [
    "for i in df_check.index:\n",
    "# for i in range(6):  \n",
    "    \n",
    "    print('#'*80)\n",
    "    print(i)\n",
    "    \n",
    "    ansPaper.plot_q_(ansPaper.log.loc[i, 'paper_path'], ansPaper.log.loc[i, 'q_list'], key='x_float')\n",
    "    \n",
    "    # {'num': 1,'x_float_left': 0.08, 'y_float': 0.3}\n",
    "    # {'num': 2,'x_float_left': 0.079, 'y_float': 0.45}\n",
    "    # 8 {'num': 3,'x_float_left': 0.525, 'y_float': 0.75}\n",
    "    # {'num': 5,'x_float_left': 0.527, 'y_float': 0.68}\n",
    "    # {'num': 6,'x_float_left': 0.071, 'y_float': 0.05}"
   ]
  },
  {
   "cell_type": "code",
   "execution_count": null,
   "id": "noted-headquarters",
   "metadata": {
    "ExecuteTime": {
     "end_time": "2021-03-15T10:23:14.550211Z",
     "start_time": "2021-03-15T10:23:14.544775Z"
    }
   },
   "outputs": [],
   "source": [
    "bad_index_list = [\n",
    "\n",
    "]\n",
    "\n",
    "all_index_list = list(df_check.index)\n",
    "good_index_list = [i for i in all_index_list if i not in bad_index_list]\n",
    "good_index_list"
   ]
  },
  {
   "cell_type": "code",
   "execution_count": null,
   "id": "suffering-sympathy",
   "metadata": {
    "ExecuteTime": {
     "end_time": "2021-03-15T10:23:16.393542Z",
     "start_time": "2021-03-15T10:23:16.382029Z"
    }
   },
   "outputs": [],
   "source": [
    "ansPaper.log.loc[good_index_list, 'q_list_check'] = ansPaper.log.loc[good_index_list, 'q_list']\n",
    "ansPaper.save_log()"
   ]
  },
  {
   "cell_type": "code",
   "execution_count": null,
   "id": "typical-constraint",
   "metadata": {
    "ExecuteTime": {
     "end_time": "2021-03-15T10:26:50.128395Z",
     "start_time": "2021-03-15T10:26:50.125414Z"
    },
    "scrolled": true
   },
   "outputs": [],
   "source": [
    "# i = 10\n",
    "# ansPaper.plot_q_(ansPaper.log.loc[i, 'paper_path'], ansPaper.log.loc[i, 'q_list'], key='x_float_left')"
   ]
  },
  {
   "cell_type": "markdown",
   "id": "surprising-story",
   "metadata": {},
   "source": [
    "#### edit one"
   ]
  },
  {
   "cell_type": "code",
   "execution_count": null,
   "id": "hundred-while",
   "metadata": {
    "ExecuteTime": {
     "end_time": "2021-03-15T10:19:04.095349Z",
     "start_time": "2021-03-15T10:19:03.392193Z"
    },
    "scrolled": true
   },
   "outputs": [],
   "source": [
    "paper_index = 8 \n",
    "\n",
    "remove_i_list = [\n",
    "#     3\n",
    "]\n",
    "\n",
    "add_q_list = [\n",
    "    {'num': 3,'x_float_left': 0.525, 'y_float': 0.73}\n",
    "]\n",
    "\n",
    "q_list_check = ansPaper.get_q_list_check(paper_index, remove_i_list, add_q_list)\n",
    "ansPaper.plot_q_(ansPaper.log.loc[paper_index, 'paper_path'], q_list_check, key='x_float_left')\n"
   ]
  },
  {
   "cell_type": "code",
   "execution_count": null,
   "id": "pressing-circumstances",
   "metadata": {
    "ExecuteTime": {
     "end_time": "2021-03-15T10:19:20.387176Z",
     "start_time": "2021-03-15T10:19:20.379288Z"
    },
    "scrolled": true
   },
   "outputs": [],
   "source": [
    "ansPaper.log.at[paper_index, 'q_list_check'] = q_list_check\n",
    "ansPaper.save_log()"
   ]
  },
  {
   "cell_type": "code",
   "execution_count": null,
   "id": "analyzed-validity",
   "metadata": {},
   "outputs": [],
   "source": []
  },
  {
   "cell_type": "markdown",
   "id": "responsible-mozambique",
   "metadata": {},
   "source": [
    "### box list"
   ]
  },
  {
   "cell_type": "code",
   "execution_count": null,
   "id": "floppy-threshold",
   "metadata": {
    "ExecuteTime": {
     "end_time": "2021-03-14T07:54:41.753979Z",
     "start_time": "2021-03-14T07:54:41.748586Z"
    }
   },
   "outputs": [],
   "source": [
    "# ansPaper.log.box_list = 'x'\n",
    "# ansPaper.log"
   ]
  },
  {
   "cell_type": "code",
   "execution_count": null,
   "id": "chronic-protest",
   "metadata": {
    "ExecuteTime": {
     "end_time": "2021-03-14T16:39:09.484414Z",
     "start_time": "2021-03-14T16:39:09.465986Z"
    }
   },
   "outputs": [],
   "source": [
    "ansPaper.update_box_list()"
   ]
  },
  {
   "cell_type": "code",
   "execution_count": null,
   "id": "romance-distribution",
   "metadata": {
    "ExecuteTime": {
     "end_time": "2021-03-14T06:40:10.050024Z",
     "start_time": "2021-03-14T06:40:10.047391Z"
    },
    "scrolled": true
   },
   "outputs": [],
   "source": [
    "# ansPaper.log"
   ]
  },
  {
   "cell_type": "code",
   "execution_count": null,
   "id": "brave-founder",
   "metadata": {
    "ExecuteTime": {
     "end_time": "2021-03-14T07:54:45.401486Z",
     "start_time": "2021-03-14T07:54:45.396904Z"
    },
    "scrolled": true
   },
   "outputs": [],
   "source": [
    "# for i in range(10):\n",
    "#     ansPaper.plot_border(ansPaper.log.at[i, 'paper_path'], ansPaper.log.at[i, 'box_list'])"
   ]
  },
  {
   "cell_type": "markdown",
   "id": "cubic-antique",
   "metadata": {},
   "source": [
    "### name list"
   ]
  },
  {
   "cell_type": "code",
   "execution_count": null,
   "id": "forced-heading",
   "metadata": {
    "ExecuteTime": {
     "end_time": "2021-03-15T07:16:44.311978Z",
     "start_time": "2021-03-15T07:16:44.281532Z"
    }
   },
   "outputs": [],
   "source": [
    "# ansPaper.log.name_list = 'x'\n",
    "ansPaper.log.head(2)"
   ]
  },
  {
   "cell_type": "code",
   "execution_count": null,
   "id": "professional-messenger",
   "metadata": {
    "ExecuteTime": {
     "end_time": "2021-03-15T07:16:40.492096Z",
     "start_time": "2021-03-15T07:16:40.428987Z"
    },
    "scrolled": true
   },
   "outputs": [],
   "source": [
    "ansPaper.update_name_list()"
   ]
  },
  {
   "cell_type": "code",
   "execution_count": null,
   "id": "superior-county",
   "metadata": {
    "ExecuteTime": {
     "end_time": "2021-03-14T07:10:26.987478Z",
     "start_time": "2021-03-14T07:10:26.984009Z"
    }
   },
   "outputs": [],
   "source": [
    "# for i in range(4):\n",
    "#     print('#'*80)\n",
    "#     print(ansPaper.log.name_list.values[i])"
   ]
  },
  {
   "cell_type": "code",
   "execution_count": null,
   "id": "efficient-metallic",
   "metadata": {
    "ExecuteTime": {
     "end_time": "2021-03-14T07:10:25.652665Z",
     "start_time": "2021-03-14T07:10:25.649494Z"
    }
   },
   "outputs": [],
   "source": [
    "# for i in range(4):\n",
    "#     ansPaper.plot_border(ansPaper.log.at[i, 'paper_path'], ansPaper.log.at[i, 'box_list'])\n"
   ]
  },
  {
   "cell_type": "code",
   "execution_count": null,
   "id": "prescribed-excess",
   "metadata": {},
   "outputs": [],
   "source": []
  },
  {
   "cell_type": "markdown",
   "id": "systematic-document",
   "metadata": {},
   "source": [
    "### split"
   ]
  },
  {
   "cell_type": "code",
   "execution_count": null,
   "id": "artificial-protection",
   "metadata": {
    "ExecuteTime": {
     "end_time": "2021-03-15T07:16:54.223337Z",
     "start_time": "2021-03-15T07:16:54.186852Z"
    }
   },
   "outputs": [],
   "source": [
    "ansPaper.log.is_split = 'x'\n",
    "ansPaper.log.head(2)"
   ]
  },
  {
   "cell_type": "code",
   "execution_count": null,
   "id": "suitable-basement",
   "metadata": {
    "ExecuteTime": {
     "end_time": "2021-03-15T07:17:26.722408Z",
     "start_time": "2021-03-15T07:17:02.955225Z"
    },
    "scrolled": true
   },
   "outputs": [],
   "source": [
    "ansPaper.update_is_split()"
   ]
  },
  {
   "cell_type": "markdown",
   "id": "structural-northwest",
   "metadata": {},
   "source": [
    "### update_row"
   ]
  },
  {
   "cell_type": "code",
   "execution_count": null,
   "id": "unlike-enough",
   "metadata": {
    "ExecuteTime": {
     "end_time": "2021-03-15T07:11:32.500505Z",
     "start_time": "2021-03-15T07:11:32.496886Z"
    }
   },
   "outputs": [],
   "source": [
    "paper_index = 32\n"
   ]
  },
  {
   "cell_type": "code",
   "execution_count": null,
   "id": "blind-guess",
   "metadata": {
    "ExecuteTime": {
     "end_time": "2021-03-15T07:44:27.645748Z",
     "start_time": "2021-03-15T07:44:27.642637Z"
    },
    "scrolled": true
   },
   "outputs": [],
   "source": [
    "# ansPaper.plot_q_(ansPaper.log.loc[paper_index-1, 'paper_path'], ansPaper.log.loc[paper_index-1, 'q_list_check'], key_list=['x_float_left'])\n",
    "# ansPaper.plot_q_(ansPaper.log.loc[paper_index, 'paper_path'], ansPaper.log.loc[paper_index, 'q_list_check'], key_list=['x_float_left'])\n",
    "# ansPaper.plot_q_(ansPaper.log.loc[paper_index+1, 'paper_path'], ansPaper.log.loc[paper_index+1, 'q_list_check'], key_list=['x_float_left'])\n"
   ]
  },
  {
   "cell_type": "code",
   "execution_count": null,
   "id": "australian-quantum",
   "metadata": {
    "ExecuteTime": {
     "end_time": "2021-03-15T07:44:25.005757Z",
     "start_time": "2021-03-15T07:44:25.000732Z"
    },
    "scrolled": true
   },
   "outputs": [],
   "source": [
    "# paper_index = 61\n",
    "\n",
    "# remove_i_list = [\n",
    "#     9\n",
    "# ]\n",
    "\n",
    "# add_q_list = [\n",
    "#     {'num': 3,'x_float_left': 0.546, 'y_float': 0.46},\n",
    "# #     {'num': 1,'x_float_left': 0.534, 'y_float': 0.61}\n",
    "# ]\n",
    "\n",
    "\n",
    "# q_list_check = ansPaper.get_q_list_check(paper_index, remove_i_list, add_q_list)\n",
    "# ansPaper.plot_q_(ansPaper.log.loc[paper_index, 'paper_path'], q_list_check, key_list=['x_float_left'])\n",
    "\n",
    "\n",
    "# for q in ansPaper.log.loc[paper_index, 'q_list']:\n",
    "#     print(q['x_float_left'], q['y_float'])\n",
    "    "
   ]
  },
  {
   "cell_type": "code",
   "execution_count": null,
   "id": "institutional-looking",
   "metadata": {
    "ExecuteTime": {
     "end_time": "2021-03-15T06:26:03.940783Z",
     "start_time": "2021-03-15T06:26:03.929390Z"
    }
   },
   "outputs": [],
   "source": []
  },
  {
   "cell_type": "markdown",
   "id": "communist-cleaners",
   "metadata": {
    "ExecuteTime": {
     "end_time": "2021-03-15T06:26:24.613565Z",
     "start_time": "2021-03-15T06:26:24.602627Z"
    }
   },
   "source": [
    "### debug"
   ]
  },
  {
   "cell_type": "code",
   "execution_count": null,
   "id": "great-trout",
   "metadata": {
    "ExecuteTime": {
     "end_time": "2021-03-19T06:00:06.436393Z",
     "start_time": "2021-03-19T06:00:06.429222Z"
    }
   },
   "outputs": [],
   "source": [
    "# 兩欄，沒題目\n",
    "# pdf_path = '/home/ryh/embedding-match/ocr/datasets/taiwan/13to15/press/108/數學/康軒/answer/pdf/108下-康軒國中試卷數學(2)B卷(中等)答-1下.pdf'\n",
    "# pdf_path = '/home/ryh/embedding-match/ocr/datasets/taiwan/13to15/press/108/數學/南一/answer/pdf/108上[南一]國中試卷-(三)數學-A卷-(優等)-(答).pdf'\n",
    "# pdf_path = '/home/ryh/embedding-match/ocr/datasets/taiwan/13to15/press/108/數學/翰林/answer/pdf/108上[翰林]國中試卷-(三)數學-A卷-(優等)-(答).pdf'\n",
    "# pdf_path = '/home/ryh/embedding-match/ocr/datasets/taiwan/13to15/press/108/數學/南一/answer/pdf/108上[南一]國中試卷-(三)數學-B卷-(中上)-(答).pdf'\n",
    "# pdf_path = '/home/ryh/embedding-match/ocr/datasets/taiwan/13to15/press/108/數學/翰林/answer/pdf/108下-翰林國中試卷數學(2)B卷(中等)答-1下.pdf'\n",
    "\n",
    "# 兩欄，有題目\n",
    "# pdf_path = '/home/ryh/embedding-match/ocr/datasets/taiwan/13to15/press/108/數學/康軒/answer/pdf/108上[康軒]國中試卷-(三)數學-E卷-(最難)-(答).pdf'\n",
    "# pdf_path = '/home/ryh/embedding-match/ocr/datasets/taiwan/13to15/press/108/數學/翰林/answer/pdf/108下-翰林國中試卷數學(4)D卷答.pdf'\n",
    "\n",
    "# 一欄，有題目\n",
    "pdf_path = '/home/ryh/embedding-match/ocr/datasets/taiwan/13to15/press/108/數學/康軒/answer/pdf/108下-康軒國中試卷數學(4)C卷答.pdf'\n",
    "\n",
    "\n",
    "\n",
    "paper_path_list = ansPaper.get_paper_path_list(year='*', subject='*', press='*', pdf_path=pdf_path)\n"
   ]
  },
  {
   "cell_type": "code",
   "execution_count": null,
   "id": "accomplished-frank",
   "metadata": {
    "ExecuteTime": {
     "end_time": "2021-03-19T06:00:19.201386Z",
     "start_time": "2021-03-19T06:00:06.438956Z"
    },
    "scrolled": true
   },
   "outputs": [],
   "source": [
    "for i in range(4):\n",
    "    paper_path = paper_path_list[i]\n",
    "    ansPaper.setup_paper(paper_path)\n",
    "\n",
    "    ansPaper.ann_list = ansPaper.detect_text(ansPaper.paper_byte)\n",
    "    ansPaper.q_list = ansPaper.get_q_list(ansPaper.ann_list)\n",
    "    ansPaper.valid_words_q_list = ansPaper.get_valid_words_q_list(ansPaper.q_list)\n",
    "    ansPaper.valid_x_q_list = ansPaper.get_valid_x_q_list(ansPaper.valid_words_q_list)\n",
    "    ansPaper.vertical_list = ansPaper.get_vertical_list(ansPaper.valid_x_q_list)\n",
    "    ansPaper.align_q_list = ansPaper.get_align_q_list(ansPaper.valid_x_q_list)\n",
    "    ansPaper.remove_duplicate_q_list = ansPaper.get_remove_duplicate_q_list(ansPaper.align_q_list)\n",
    "    \n",
    "#     ansPaper.valid_anchor_q_list = ansPaper.get_valid_anchor_q_list(ansPaper.align_q_list)\n",
    "#     ansPaper.valid_x_q_list_ = ansPaper.get_valid_x_q_list_(ansPaper.valid_anchor_q_list)\n",
    "\n",
    "#     ansPaper.plot_q_(ansPaper.paper_path, ansPaper.valid_words_q_list, key='x_float') # valid_x_q_list_, valid_words_q_list\n",
    "    ansPaper.plot_q_(ansPaper.paper_path, ansPaper.remove_duplicate_q_list, key='x_float') # valid_x_q_list_, valid_words_q_list\n"
   ]
  },
  {
   "cell_type": "code",
   "execution_count": null,
   "id": "sustainable-inside",
   "metadata": {
    "ExecuteTime": {
     "end_time": "2021-03-19T05:48:21.278117Z",
     "start_time": "2021-03-19T05:48:21.275773Z"
    }
   },
   "outputs": [],
   "source": [
    "# ansPaper.words_list"
   ]
  },
  {
   "cell_type": "code",
   "execution_count": null,
   "id": "boring-supply",
   "metadata": {},
   "outputs": [],
   "source": []
  },
  {
   "cell_type": "code",
   "execution_count": null,
   "id": "tamil-plain",
   "metadata": {},
   "outputs": [],
   "source": []
  },
  {
   "cell_type": "code",
   "execution_count": null,
   "id": "uniform-peripheral",
   "metadata": {},
   "outputs": [],
   "source": []
  },
  {
   "cell_type": "code",
   "execution_count": null,
   "id": "oriental-agency",
   "metadata": {},
   "outputs": [],
   "source": []
  }
 ],
 "metadata": {
  "kernelspec": {
   "display_name": "Python 3",
   "language": "python",
   "name": "python3"
  },
  "language_info": {
   "codemirror_mode": {
    "name": "ipython",
    "version": 3
   },
   "file_extension": ".py",
   "mimetype": "text/x-python",
   "name": "python",
   "nbconvert_exporter": "python",
   "pygments_lexer": "ipython3",
   "version": "3.6.9"
  },
  "toc": {
   "base_numbering": 1,
   "nav_menu": {},
   "number_sections": true,
   "sideBar": true,
   "skip_h1_title": false,
   "title_cell": "Table of Contents",
   "title_sidebar": "Contents",
   "toc_cell": false,
   "toc_position": {
    "height": "calc(100% - 180px)",
    "left": "10px",
    "top": "150px",
    "width": "165px"
   },
   "toc_section_display": true,
   "toc_window_display": true
  }
 },
 "nbformat": 4,
 "nbformat_minor": 5
}
